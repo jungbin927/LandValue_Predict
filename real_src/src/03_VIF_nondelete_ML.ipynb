{
  "cells": [
    {
      "cell_type": "markdown",
      "id": "13a978b3",
      "metadata": {
        "id": "13a978b3"
      },
      "source": [
        "## VIF 미제거"
      ]
    },
    {
      "cell_type": "markdown",
      "id": "49a0bb68",
      "metadata": {
        "id": "49a0bb68"
      },
      "source": [
        "### 코랩 다운로드"
      ]
    },
    {
      "cell_type": "code",
      "execution_count": 2,
      "id": "EKkY3Eb27eEm",
      "metadata": {
        "colab": {
          "base_uri": "https://localhost:8080/"
        },
        "id": "EKkY3Eb27eEm",
        "outputId": "facc8fad-2284-4fb7-be15-be164950965e"
      },
      "outputs": [
        {
          "name": "stdout",
          "output_type": "stream",
          "text": [
            "Collecting numpy<2.0\n",
            "  Downloading numpy-1.26.4-cp311-cp311-manylinux_2_17_x86_64.manylinux2014_x86_64.whl.metadata (61 kB)\n",
            "\u001b[?25l     \u001b[90m━━━━━━━━━━━━━━━━━━━━━━━━━━━━━━━━━━━━━━━━\u001b[0m \u001b[32m0.0/61.0 kB\u001b[0m \u001b[31m?\u001b[0m eta \u001b[36m-:--:--\u001b[0m\r\u001b[2K     \u001b[90m━━━━━━━━━━━━━━━━━━━━━━━━━━━━━━━━━━━━━━━━\u001b[0m \u001b[32m61.0/61.0 kB\u001b[0m \u001b[31m1.7 MB/s\u001b[0m eta \u001b[36m0:00:00\u001b[0m\n",
            "\u001b[?25hDownloading numpy-1.26.4-cp311-cp311-manylinux_2_17_x86_64.manylinux2014_x86_64.whl (18.3 MB)\n",
            "\u001b[2K   \u001b[90m━━━━━━━━━━━━━━━━━━━━━━━━━━━━━━━━━━━━━━━━\u001b[0m \u001b[32m18.3/18.3 MB\u001b[0m \u001b[31m80.8 MB/s\u001b[0m eta \u001b[36m0:00:00\u001b[0m\n",
            "\u001b[?25hInstalling collected packages: numpy\n",
            "  Attempting uninstall: numpy\n",
            "    Found existing installation: numpy 2.0.2\n",
            "    Uninstalling numpy-2.0.2:\n",
            "      Successfully uninstalled numpy-2.0.2\n",
            "\u001b[31mERROR: pip's dependency resolver does not currently take into account all the packages that are installed. This behaviour is the source of the following dependency conflicts.\n",
            "thinc 8.3.6 requires numpy<3.0.0,>=2.0.0, but you have numpy 1.26.4 which is incompatible.\u001b[0m\u001b[31m\n",
            "\u001b[0mSuccessfully installed numpy-1.26.4\n",
            "Collecting rtdl\n",
            "  Downloading rtdl-0.0.13-py3-none-any.whl.metadata (1.0 kB)\n",
            "Requirement already satisfied: numpy<2,>=1.18 in /usr/local/lib/python3.11/dist-packages (from rtdl) (1.26.4)\n",
            "Collecting torch<2,>=1.7 (from rtdl)\n",
            "  Downloading torch-1.13.1-cp311-cp311-manylinux1_x86_64.whl.metadata (24 kB)\n",
            "Requirement already satisfied: typing-extensions in /usr/local/lib/python3.11/dist-packages (from torch<2,>=1.7->rtdl) (4.14.0)\n",
            "Collecting nvidia-cuda-runtime-cu11==11.7.99 (from torch<2,>=1.7->rtdl)\n",
            "  Downloading nvidia_cuda_runtime_cu11-11.7.99-py3-none-manylinux1_x86_64.whl.metadata (1.6 kB)\n",
            "Collecting nvidia-cudnn-cu11==8.5.0.96 (from torch<2,>=1.7->rtdl)\n",
            "  Downloading nvidia_cudnn_cu11-8.5.0.96-2-py3-none-manylinux1_x86_64.whl.metadata (1.6 kB)\n",
            "Collecting nvidia-cublas-cu11==11.10.3.66 (from torch<2,>=1.7->rtdl)\n",
            "  Downloading nvidia_cublas_cu11-11.10.3.66-py3-none-manylinux1_x86_64.whl.metadata (1.6 kB)\n",
            "Collecting nvidia-cuda-nvrtc-cu11==11.7.99 (from torch<2,>=1.7->rtdl)\n",
            "  Downloading nvidia_cuda_nvrtc_cu11-11.7.99-2-py3-none-manylinux1_x86_64.whl.metadata (1.5 kB)\n",
            "Requirement already satisfied: setuptools in /usr/local/lib/python3.11/dist-packages (from nvidia-cublas-cu11==11.10.3.66->torch<2,>=1.7->rtdl) (75.2.0)\n",
            "Requirement already satisfied: wheel in /usr/local/lib/python3.11/dist-packages (from nvidia-cublas-cu11==11.10.3.66->torch<2,>=1.7->rtdl) (0.45.1)\n",
            "Downloading rtdl-0.0.13-py3-none-any.whl (23 kB)\n",
            "Downloading torch-1.13.1-cp311-cp311-manylinux1_x86_64.whl (887.4 MB)\n",
            "\u001b[2K   \u001b[90m━━━━━━━━━━━━━━━━━━━━━━━━━━━━━━━━━━━━━━━━\u001b[0m \u001b[32m887.4/887.4 MB\u001b[0m \u001b[31m2.1 MB/s\u001b[0m eta \u001b[36m0:00:00\u001b[0m\n",
            "\u001b[?25hDownloading nvidia_cublas_cu11-11.10.3.66-py3-none-manylinux1_x86_64.whl (317.1 MB)\n",
            "\u001b[2K   \u001b[90m━━━━━━━━━━━━━━━━━━━━━━━━━━━━━━━━━━━━━━━━\u001b[0m \u001b[32m317.1/317.1 MB\u001b[0m \u001b[31m1.6 MB/s\u001b[0m eta \u001b[36m0:00:00\u001b[0m\n",
            "\u001b[?25hDownloading nvidia_cuda_nvrtc_cu11-11.7.99-2-py3-none-manylinux1_x86_64.whl (21.0 MB)\n",
            "\u001b[2K   \u001b[90m━━━━━━━━━━━━━━━━━━━━━━━━━━━━━━━━━━━━━━━━\u001b[0m \u001b[32m21.0/21.0 MB\u001b[0m \u001b[31m81.0 MB/s\u001b[0m eta \u001b[36m0:00:00\u001b[0m\n",
            "\u001b[?25hDownloading nvidia_cuda_runtime_cu11-11.7.99-py3-none-manylinux1_x86_64.whl (849 kB)\n",
            "\u001b[2K   \u001b[90m━━━━━━━━━━━━━━━━━━━━━━━━━━━━━━━━━━━━━━━━\u001b[0m \u001b[32m849.3/849.3 kB\u001b[0m \u001b[31m58.5 MB/s\u001b[0m eta \u001b[36m0:00:00\u001b[0m\n",
            "\u001b[?25hDownloading nvidia_cudnn_cu11-8.5.0.96-2-py3-none-manylinux1_x86_64.whl (557.1 MB)\n",
            "\u001b[2K   \u001b[90m━━━━━━━━━━━━━━━━━━━━━━━━━━━━━━━━━━━━━━━━\u001b[0m \u001b[32m557.1/557.1 MB\u001b[0m \u001b[31m3.2 MB/s\u001b[0m eta \u001b[36m0:00:00\u001b[0m\n",
            "\u001b[?25hInstalling collected packages: nvidia-cuda-runtime-cu11, nvidia-cuda-nvrtc-cu11, nvidia-cublas-cu11, nvidia-cudnn-cu11, torch, rtdl\n",
            "  Attempting uninstall: torch\n",
            "    Found existing installation: torch 2.6.0+cu124\n",
            "    Uninstalling torch-2.6.0+cu124:\n",
            "      Successfully uninstalled torch-2.6.0+cu124\n",
            "\u001b[31mERROR: pip's dependency resolver does not currently take into account all the packages that are installed. This behaviour is the source of the following dependency conflicts.\n",
            "torchaudio 2.6.0+cu124 requires torch==2.6.0, but you have torch 1.13.1 which is incompatible.\n",
            "torchdata 0.11.0 requires torch>=2, but you have torch 1.13.1 which is incompatible.\n",
            "torchvision 0.21.0+cu124 requires torch==2.6.0, but you have torch 1.13.1 which is incompatible.\n",
            "accelerate 1.7.0 requires torch>=2.0.0, but you have torch 1.13.1 which is incompatible.\u001b[0m\u001b[31m\n",
            "\u001b[0mSuccessfully installed nvidia-cublas-cu11-11.10.3.66 nvidia-cuda-nvrtc-cu11-11.7.99 nvidia-cuda-runtime-cu11-11.7.99 nvidia-cudnn-cu11-8.5.0.96 rtdl-0.0.13 torch-1.13.1\n",
            "Collecting git+https://github.com/yura52/rtdl.git\n",
            "  Cloning https://github.com/yura52/rtdl.git to /tmp/pip-req-build-5ankd90x\n",
            "  Running command git clone --filter=blob:none --quiet https://github.com/yura52/rtdl.git /tmp/pip-req-build-5ankd90x\n",
            "  Resolved https://github.com/yura52/rtdl.git to commit bdc2fe52e0c28d0d15a3cf7d99ef94a452f23253\n",
            "  Installing build dependencies ... \u001b[?25l\u001b[?25hdone\n",
            "  Getting requirements to build wheel ... \u001b[?25l\u001b[?25hdone\n",
            "  Preparing metadata (pyproject.toml) ... \u001b[?25l\u001b[?25hdone\n",
            "Requirement already satisfied: torch<3,>=1.8 in /usr/local/lib/python3.11/dist-packages (from rtdl==0.0.14.dev7) (1.13.1)\n",
            "Requirement already satisfied: typing-extensions in /usr/local/lib/python3.11/dist-packages (from torch<3,>=1.8->rtdl==0.0.14.dev7) (4.14.0)\n",
            "Requirement already satisfied: nvidia-cuda-runtime-cu11==11.7.99 in /usr/local/lib/python3.11/dist-packages (from torch<3,>=1.8->rtdl==0.0.14.dev7) (11.7.99)\n",
            "Requirement already satisfied: nvidia-cudnn-cu11==8.5.0.96 in /usr/local/lib/python3.11/dist-packages (from torch<3,>=1.8->rtdl==0.0.14.dev7) (8.5.0.96)\n",
            "Requirement already satisfied: nvidia-cublas-cu11==11.10.3.66 in /usr/local/lib/python3.11/dist-packages (from torch<3,>=1.8->rtdl==0.0.14.dev7) (11.10.3.66)\n",
            "Requirement already satisfied: nvidia-cuda-nvrtc-cu11==11.7.99 in /usr/local/lib/python3.11/dist-packages (from torch<3,>=1.8->rtdl==0.0.14.dev7) (11.7.99)\n",
            "Requirement already satisfied: setuptools in /usr/local/lib/python3.11/dist-packages (from nvidia-cublas-cu11==11.10.3.66->torch<3,>=1.8->rtdl==0.0.14.dev7) (75.2.0)\n",
            "Requirement already satisfied: wheel in /usr/local/lib/python3.11/dist-packages (from nvidia-cublas-cu11==11.10.3.66->torch<3,>=1.8->rtdl==0.0.14.dev7) (0.45.1)\n",
            "Building wheels for collected packages: rtdl\n",
            "  Building wheel for rtdl (pyproject.toml) ... \u001b[?25l\u001b[?25hdone\n",
            "  Created wheel for rtdl: filename=rtdl-0.0.14.dev7-py3-none-any.whl size=27164 sha256=02928dec0630719a18b1700de9c9a19bb3d213149c6c49f9aa5563a09ea09e43\n",
            "  Stored in directory: /tmp/pip-ephem-wheel-cache-1x9p4s2y/wheels/7f/7a/5c/88c72feb54756a9ded3401a0829d8be66129d21faf4e01224a\n",
            "Successfully built rtdl\n",
            "Installing collected packages: rtdl\n",
            "  Attempting uninstall: rtdl\n",
            "    Found existing installation: rtdl 0.0.13\n",
            "    Uninstalling rtdl-0.0.13:\n",
            "      Successfully uninstalled rtdl-0.0.13\n",
            "Successfully installed rtdl-0.0.14.dev7\n"
          ]
        }
      ],
      "source": [
        "!pip install \"numpy<2.0\" --force-reinstall\n",
        "! pip install rtdl\n",
        "! pip install git+https://github.com/yura52/rtdl.git\n"
      ]
    },
    {
      "cell_type": "code",
      "execution_count": null,
      "id": "22ad9bab",
      "metadata": {
        "id": "22ad9bab"
      },
      "outputs": [],
      "source": [
        "import os; os.kill(os.getpid(), 9)  #  런타임 재시작"
      ]
    },
    {
      "cell_type": "code",
      "execution_count": 1,
      "id": "pL6mik0zBngW",
      "metadata": {
        "colab": {
          "base_uri": "https://localhost:8080/"
        },
        "id": "pL6mik0zBngW",
        "outputId": "3379377f-2b6b-4714-cc8d-820e6ccc4878"
      },
      "outputs": [
        {
          "name": "stdout",
          "output_type": "stream",
          "text": [
            "Collecting optuna\n",
            "  Downloading optuna-4.3.0-py3-none-any.whl.metadata (17 kB)\n",
            "Collecting alembic>=1.5.0 (from optuna)\n",
            "  Downloading alembic-1.16.1-py3-none-any.whl.metadata (7.3 kB)\n",
            "Collecting colorlog (from optuna)\n",
            "  Downloading colorlog-6.9.0-py3-none-any.whl.metadata (10 kB)\n",
            "Requirement already satisfied: numpy in /usr/local/lib/python3.11/dist-packages (from optuna) (2.0.2)\n",
            "Requirement already satisfied: packaging>=20.0 in /usr/local/lib/python3.11/dist-packages (from optuna) (24.2)\n",
            "Requirement already satisfied: sqlalchemy>=1.4.2 in /usr/local/lib/python3.11/dist-packages (from optuna) (2.0.41)\n",
            "Requirement already satisfied: tqdm in /usr/local/lib/python3.11/dist-packages (from optuna) (4.67.1)\n",
            "Requirement already satisfied: PyYAML in /usr/local/lib/python3.11/dist-packages (from optuna) (6.0.2)\n",
            "Requirement already satisfied: Mako in /usr/lib/python3/dist-packages (from alembic>=1.5.0->optuna) (1.1.3)\n",
            "Requirement already satisfied: typing-extensions>=4.12 in /usr/local/lib/python3.11/dist-packages (from alembic>=1.5.0->optuna) (4.14.0)\n",
            "Requirement already satisfied: greenlet>=1 in /usr/local/lib/python3.11/dist-packages (from sqlalchemy>=1.4.2->optuna) (3.2.2)\n",
            "Downloading optuna-4.3.0-py3-none-any.whl (386 kB)\n",
            "\u001b[2K   \u001b[90m━━━━━━━━━━━━━━━━━━━━━━━━━━━━━━━━━━━━━━━━\u001b[0m \u001b[32m386.6/386.6 kB\u001b[0m \u001b[31m9.3 MB/s\u001b[0m eta \u001b[36m0:00:00\u001b[0m\n",
            "\u001b[?25hDownloading alembic-1.16.1-py3-none-any.whl (242 kB)\n",
            "\u001b[2K   \u001b[90m━━━━━━━━━━━━━━━━━━━━━━━━━━━━━━━━━━━━━━━━\u001b[0m \u001b[32m242.5/242.5 kB\u001b[0m \u001b[31m17.5 MB/s\u001b[0m eta \u001b[36m0:00:00\u001b[0m\n",
            "\u001b[?25hDownloading colorlog-6.9.0-py3-none-any.whl (11 kB)\n",
            "Installing collected packages: colorlog, alembic, optuna\n",
            "Successfully installed alembic-1.16.1 colorlog-6.9.0 optuna-4.3.0\n"
          ]
        }
      ],
      "source": [
        "pip install optuna"
      ]
    },
    {
      "cell_type": "markdown",
      "id": "7ad85b84",
      "metadata": {
        "id": "7ad85b84"
      },
      "source": [
        "### 라이브러리 호출"
      ]
    },
    {
      "cell_type": "code",
      "execution_count": 4,
      "id": "db85abc1",
      "metadata": {
        "id": "db85abc1"
      },
      "outputs": [],
      "source": [
        "import pandas as pd\n",
        "import numpy as np\n",
        "from sklearn.model_selection import train_test_split\n",
        "from sklearn.preprocessing import OneHotEncoder, MinMaxScaler\n",
        "import pickle\n",
        "import matplotlib.pyplot as plt\n",
        "\n",
        "\n",
        "# 한글 폰트 설정 (Windows 기본 폰트)\n",
        "plt.rcParams['font.family'] = 'Malgun Gothic'\n",
        "plt.rcParams['axes.unicode_minus'] = False  # 마이너스 깨짐 방지\n"
      ]
    },
    {
      "cell_type": "markdown",
      "id": "cc2355ef",
      "metadata": {
        "id": "cc2355ef"
      },
      "source": [
        "### 인코딩"
      ]
    },
    {
      "cell_type": "code",
      "execution_count": null,
      "id": "05638da7",
      "metadata": {
        "id": "05638da7"
      },
      "outputs": [],
      "source": [
        "df=pd.read_csv('../real_data/공시지가_전처리.csv')"
      ]
    },
    {
      "cell_type": "markdown",
      "id": "44c42384",
      "metadata": {
        "id": "44c42384"
      },
      "source": [
        "| 구분   | 모델명                               | 설명                                                  |\n",
        "| ---- | --------------------------------- | --------------------------------------------------- |\n",
        "|  1 | **CatBoost Regressor**            | 범주형 데이터와 원-핫 인코딩 없이도 강력한 성능 (but 이미 원-핫이면 그냥 사용 가능) |\n",
        "|  2 | **LightGBM Regressor**            | 속도 빠르고 대규모 데이터에 강함, 부스팅 기반                          |\n",
        "|  3 | **XGBoost Regressor**             | 안정적이고 널리 사용되는 부스팅 모델                                |\n",
        "|  4 | **HistGradientBoostingRegressor** | sklearn 최신 트리 기반 모델. 빠르고 튜닝이 쉬움                     |\n",
        "\n"
      ]
    },
    {
      "cell_type": "code",
      "execution_count": null,
      "id": "28922bd1",
      "metadata": {
        "id": "28922bd1"
      },
      "outputs": [],
      "source": [
        "# 1. X, y 분리\n",
        "X = df.drop(columns='내년_공시지가')\n",
        "y = df['내년_공시지가']\n",
        "\n",
        "# 1차 분할: train_temp / test\n",
        "X_temp, X_test, y_temp, y_test = train_test_split(X, y, test_size=0.2, random_state=42)\n",
        "\n",
        "# 2차 분할: train / valid\n",
        "X_train, X_valid, y_train, y_valid = train_test_split(X_temp, y_temp, test_size=0.2, random_state=42)\n",
        "\n"
      ]
    },
    {
      "cell_type": "code",
      "execution_count": null,
      "id": "670c7f7e",
      "metadata": {
        "id": "670c7f7e"
      },
      "outputs": [],
      "source": [
        "# 1. 연속형 변수 '면적' 정규화 + 변환\n",
        "scaler_area = MinMaxScaler()\n",
        "area_train_scaled = scaler_area.fit_transform(X_train[['면적']])\n",
        "area_valid_scaled=scaler_area.transform(X_valid[['면적']])\n",
        "area_test_scaled = scaler_area.transform(X_test[['면적']])\n",
        "\n",
        "# 2. 범주형 변수 목록 추출 (면적 제외)\n",
        "categorical_cols = X_train.drop(columns=['면적']).columns.tolist()\n",
        "\n",
        "# 3. OneHotEncoder 학습 + 변환\n",
        "encoder = OneHotEncoder(drop='first', sparse_output=False, handle_unknown='ignore')\n",
        "X_train_cat_encoded = encoder.fit_transform(X_train[categorical_cols])\n",
        "X_valid_cat_encoded = encoder.transform(X_valid[categorical_cols])\n",
        "X_test_cat_encoded = encoder.transform(X_test[categorical_cols])\n",
        "\n",
        "# 4. 인코딩된 특성 이름\n",
        "encoded_feature_names = encoder.get_feature_names_out(categorical_cols)\n",
        "\n",
        "# 5. 최종 X_train,X_valid, X_test 구성 -> 면적과 원-핫 처리된 변수들 결합\n",
        "X_train = pd.DataFrame(\n",
        "    np.concatenate([area_train_scaled, X_train_cat_encoded], axis=1),\n",
        "    columns=['면적'] + encoded_feature_names.tolist()\n",
        ")\n",
        "\n",
        "X_valid = pd.DataFrame(\n",
        "    np.concatenate([area_valid_scaled, X_valid_cat_encoded], axis=1),\n",
        "    columns=['면적'] + encoded_feature_names.tolist()\n",
        ")\n",
        "\n",
        "X_test = pd.DataFrame(\n",
        "    np.concatenate([area_test_scaled, X_test_cat_encoded], axis=1),\n",
        "    columns=['면적'] + encoded_feature_names.tolist()\n",
        ")\n",
        "\n",
        "# 6. 공시지가 정규화\n",
        "scaler_target = MinMaxScaler()\n",
        "y_train = scaler_target.fit_transform(y_train.values.reshape(-1, 1))\n",
        "y_valid = scaler_target.transform(y_valid.values.reshape(-1, 1))\n",
        "y_test = scaler_target.transform(y_test.values.reshape(-1, 1))"
      ]
    },
    {
      "cell_type": "code",
      "execution_count": null,
      "id": "8b1ad939",
      "metadata": {
        "id": "8b1ad939"
      },
      "outputs": [],
      "source": [
        "# 변수명에 존재하는 , 띄어쓰기 '_'로 대체\n",
        "\n",
        "X_train.columns = X_train.columns.str.replace(',', '_')\n",
        "X_train.columns = X_train.columns.str.replace(' ', '_')\n",
        "X_valid.columns = X_valid.columns.str.replace(',', '_')\n",
        "X_valid.columns = X_valid.columns.str.replace(' ', '_')\n",
        "X_test.columns = X_test.columns.str.replace(',', '_')\n",
        "X_test.columns = X_test.columns.str.replace(' ', '_')"
      ]
    },
    {
      "cell_type": "code",
      "execution_count": null,
      "id": "f9896b31",
      "metadata": {
        "id": "f9896b31"
      },
      "outputs": [],
      "source": [
        "\"\"\"\n",
        "# 분할 저장\n",
        "with open(\"./split_data/split_data_3way.pkl\", \"wb\") as f:\n",
        "    pickle.dump((X_train, X_valid, X_test, y_train, y_valid, y_test), f)\n",
        "\"\"\"\n"
      ]
    },
    {
      "cell_type": "markdown",
      "id": "2c708c10",
      "metadata": {
        "id": "2c708c10"
      },
      "source": [
        "### ft-transformer 인코딩"
      ]
    },
    {
      "cell_type": "code",
      "execution_count": null,
      "id": "ee2983fa",
      "metadata": {
        "id": "ee2983fa"
      },
      "outputs": [],
      "source": [
        "from sklearn.model_selection import train_test_split\n",
        "from sklearn.preprocessing import MinMaxScaler, LabelEncoder\n",
        "import torch\n",
        "from torch.utils.data import TensorDataset\n",
        "\n",
        "# 1. X, y 분리\n",
        "X = df.drop(columns='내년_공시지가')\n",
        "y = df['내년_공시지가']\n",
        "\n",
        "# 2. 3-way split ->random_state 지정으로 동일한 분류\n",
        "X_temp, X_test, y_temp, y_test = train_test_split(X, y, test_size=0.2, random_state=42)\n",
        "X_train, X_valid, y_train, y_valid = train_test_split(X_temp, y_temp, test_size=0.2, random_state=42)\n",
        "\n",
        "# 3. 면적 MinMax 스케일링\n",
        "scaler_area = MinMaxScaler()\n",
        "X_train['면적'] = scaler_area.fit_transform(X_train[['면적']])\n",
        "X_valid['면적'] = scaler_area.transform(X_valid[['면적']])\n",
        "X_test['면적'] = scaler_area.transform(X_test[['면적']])\n",
        "\n",
        "# 4. 타깃 MinMax 스케일링\n",
        "scaler_target = MinMaxScaler()\n",
        "y_train = scaler_target.fit_transform(y_train.values.reshape(-1, 1))\n",
        "y_valid = scaler_target.transform(y_valid.values.reshape(-1, 1))\n",
        "y_test = scaler_target.transform(y_test.values.reshape(-1, 1))\n",
        "\n",
        "# 5. 명목형 변수 라벨 인코딩 ->ft-transformer 모델은 원-핫이 아닌,\n",
        "# 라벨 인코딩이 더 적합.\n",
        "categorical_cols = X.select_dtypes(include=['object', 'category']).columns.tolist()\n",
        "label_encoders = {}\n",
        "\n",
        "for col in categorical_cols:\n",
        "    le = LabelEncoder()\n",
        "    X_train[col] = le.fit_transform(X_train[col])\n",
        "    X_valid[col] = le.transform(X_valid[col])\n",
        "    X_test[col] = le.transform(X_test[col])\n",
        "    label_encoders[col] = le\n",
        "\n",
        "# 변수명에 존재하는 , 띄어쓰기 제거\n",
        "\n",
        "X_train.columns = X_train.columns.str.replace(',', '_')\n",
        "X_train.columns = X_train.columns.str.replace(' ', '_')\n",
        "X_valid.columns = X_valid.columns.str.replace(',', '_')\n",
        "X_valid.columns = X_valid.columns.str.replace(' ', '_')\n",
        "X_test.columns = X_test.columns.str.replace(',', '_')\n",
        "X_test.columns = X_test.columns.str.replace(' ', '_')\n",
        "\n",
        "# 6. 넘파이로 변환\n",
        "X_train_np = X_train.values.astype(np.float32)\n",
        "X_valid_np = X_valid.values.astype(np.float32)\n",
        "X_test_np = X_test.values.astype(np.float32)\n",
        "\n",
        "y_train_np = y_train.astype(np.float32)\n",
        "y_valid_np = y_valid.astype(np.float32)\n",
        "y_test_np = y_test.astype(np.float32)\n",
        "\n",
        "# 7. 텐서로 변환 ft-transformer은 텐서형태로 사용됨.\n",
        "X_train_tensor = torch.tensor(X_train_np)\n",
        "X_valid_tensor = torch.tensor(X_valid_np)\n",
        "X_test_tensor = torch.tensor(X_test_np)\n",
        "\n",
        "y_train_tensor = torch.tensor(y_train_np)\n",
        "y_valid_tensor = torch.tensor(y_valid_np)\n",
        "y_test_tensor = torch.tensor(y_test_np)\n",
        "\n",
        "# 8. Dataset으로 생성\n",
        "train_dataset = TensorDataset(X_train_tensor, y_train_tensor)\n",
        "valid_dataset = TensorDataset(X_valid_tensor, y_valid_tensor)\n",
        "test_dataset = TensorDataset(X_test_tensor, y_test_tensor)\n"
      ]
    },
    {
      "cell_type": "code",
      "execution_count": null,
      "id": "c09221a2",
      "metadata": {
        "id": "c09221a2"
      },
      "outputs": [],
      "source": [
        "\"\"\"\n",
        "with open(\"./split_data/split_data_ft_transformer.pkl\", \"wb\") as f:\n",
        "    pickle.dump((X_train_tensor, X_valid_tensor, X_test_tensor,\n",
        "                 y_train_tensor, y_valid_tensor, y_test_tensor), f)\n",
        "\"\"\""
      ]
    },
    {
      "cell_type": "markdown",
      "id": "06a7f89e",
      "metadata": {
        "id": "06a7f89e"
      },
      "source": [
        "### 머신러닝 학습"
      ]
    },
    {
      "cell_type": "code",
      "execution_count": null,
      "id": "89bd9a6e",
      "metadata": {
        "id": "89bd9a6e"
      },
      "outputs": [],
      "source": [
        "# 실험 재현\n",
        "with open(\"./split_data/split_data_3way.pkl\", \"rb\") as f:\n",
        "    X_train, X_valid, X_test, y_train, y_valid, y_test = pickle.load(f)\n"
      ]
    },
    {
      "cell_type": "code",
      "execution_count": null,
      "id": "0bb73ed1",
      "metadata": {
        "colab": {
          "base_uri": "https://localhost:8080/",
          "height": 1000
        },
        "id": "0bb73ed1",
        "outputId": "417da39a-c385-464b-f913-46e31a54ab85"
      },
      "outputs": [
        {
          "name": "stdout",
          "output_type": "stream",
          "text": [
            "\n",
            "🔍 [1/5] Random Search for CatBoost...\n",
            "Fitting 3 folds for each of 10 candidates, totalling 30 fits\n",
            "✅ CatBoost 학습 완료\n",
            "📌 최적 파라미터: {'learning_rate': 0.05, 'l2_leaf_reg': 5, 'iterations': 400, 'depth': 8}\n",
            "📊 테스트 RMSE: 0.009246\n",
            "📈 테스트 R²: 0.6731\n",
            "\n",
            "🔍 [2/5] Random Search for LightGBM...\n",
            "Fitting 3 folds for each of 10 candidates, totalling 30 fits\n",
            "[LightGBM] [Info] Auto-choosing row-wise multi-threading, the overhead of testing was 0.016287 seconds.\n",
            "You can set `force_row_wise=true` to remove the overhead.\n",
            "And if memory is not enough, you can set `force_col_wise=true`.\n",
            "[LightGBM] [Info] Total Bins 431\n",
            "[LightGBM] [Info] Number of data points in the train set: 298092, number of used features: 89\n",
            "[LightGBM] [Info] Start training from score 0.005130\n",
            "✅ LightGBM 학습 완료\n",
            "📌 최적 파라미터: {'num_leaves': 15, 'n_estimators': 500, 'min_child_samples': 20, 'max_depth': -1, 'learning_rate': 0.05}\n",
            "📊 테스트 RMSE: 0.009272\n",
            "📈 테스트 R²: 0.6713\n",
            "\n",
            "🔍 [3/5] Random Search for XGBoost...\n",
            "Fitting 3 folds for each of 10 candidates, totalling 30 fits\n",
            "✅ XGBoost 학습 완료\n",
            "📌 최적 파라미터: {'subsample': 1.0, 'n_estimators': 100, 'max_depth': 7, 'learning_rate': 0.2}\n",
            "📊 테스트 RMSE: 0.009233\n",
            "📈 테스트 R²: 0.6741\n",
            "\n",
            "🔍 [4/5] Random Search for HistGBR...\n",
            "Fitting 3 folds for each of 10 candidates, totalling 30 fits\n",
            "✅ HistGBR 학습 완료\n",
            "📌 최적 파라미터: {'min_samples_leaf': 50, 'max_iter': 500, 'max_depth': 10, 'learning_rate': 0.1, 'l2_regularization': 0.1}\n",
            "📊 테스트 RMSE: 0.009310\n",
            "📈 테스트 R²: 0.6686\n",
            "\n",
            "🔍 [5/5] Random Search for ElasticNet...\n",
            "Fitting 3 folds for each of 10 candidates, totalling 30 fits\n",
            "✅ ElasticNet 학습 완료\n",
            "📌 최적 파라미터: {'tol': 0.01, 'l1_ratio': 0.9, 'alpha': 10.0}\n",
            "📊 테스트 RMSE: 0.016172\n",
            "📈 테스트 R²: -0.0000\n",
            "\n",
            "✅ 최종 결과 요약:\n",
            "📌 CatBoost | RMSE: 0.009246 | R²: 0.6731 | Best Params: {'learning_rate': 0.05, 'l2_leaf_reg': 5, 'iterations': 400, 'depth': 8}\n",
            "📌 LightGBM | RMSE: 0.009272 | R²: 0.6713 | Best Params: {'num_leaves': 15, 'n_estimators': 500, 'min_child_samples': 20, 'max_depth': -1, 'learning_rate': 0.05}\n",
            "📌 XGBoost | RMSE: 0.009233 | R²: 0.6741 | Best Params: {'subsample': 1.0, 'n_estimators': 100, 'max_depth': 7, 'learning_rate': 0.2}\n",
            "📌 HistGBR | RMSE: 0.009310 | R²: 0.6686 | Best Params: {'min_samples_leaf': 50, 'max_iter': 500, 'max_depth': 10, 'learning_rate': 0.1, 'l2_regularization': 0.1}\n",
            "📌 ElasticNet | RMSE: 0.016172 | R²: -0.0000 | Best Params: {'tol': 0.01, 'l1_ratio': 0.9, 'alpha': 10.0}\n"
          ]
        }
      ],
      "source": [
        "from sklearn.model_selection import RandomizedSearchCV\n",
        "from sklearn.metrics import mean_squared_error, r2_score\n",
        "from sklearn.ensemble import HistGradientBoostingRegressor, ExtraTreesRegressor\n",
        "from catboost import CatBoostRegressor\n",
        "from lightgbm import LGBMRegressor\n",
        "from xgboost import XGBRegressor\n",
        "from sklearn.linear_model import ElasticNet\n",
        "from sklearn.svm import SVR # 사용X\n",
        "from sklearn.linear_model import Ridge # 사용X\n",
        "import warnings\n",
        "import numpy as np\n",
        "warnings.filterwarnings(\"ignore\")\n",
        "\n",
        "models = {\n",
        "    \"CatBoost\": (\n",
        "        CatBoostRegressor(verbose=0, random_state=42),\n",
        "        {\n",
        "            \"depth\": [4, 6, 8, 10],\n",
        "            \"learning_rate\": [0.01, 0.05, 0.1],\n",
        "            \"iterations\": [200, 400, 600], # 반복 횟수\n",
        "            \"l2_leaf_reg\": [3, 5, 7] # 정규화 계수\n",
        "        }\n",
        "    ),\n",
        "    \"LightGBM\": (\n",
        "        LGBMRegressor( random_state=42),\n",
        "        {\n",
        "            \"num_leaves\": [15, 31, 63],\n",
        "            \"max_depth\": [-1, 5, 10, 20],\n",
        "            \"learning_rate\": [0.01, 0.05, 0.1],\n",
        "            \"n_estimators\": [100, 300, 500], # 트리개수\n",
        "            \"min_child_samples\": [5, 10, 20] # 잎 당 최소 샘플 개수\n",
        "        }\n",
        "    ),\n",
        "    \"XGBoost\": (\n",
        "        XGBRegressor(random_state=42, verbosity=0),\n",
        "        {\n",
        "            \"max_depth\": [3, 5, 7, 10],\n",
        "            \"learning_rate\": [0.01, 0.1, 0.2],\n",
        "            \"n_estimators\": [100, 300],\n",
        "            \"subsample\": [0.6, 0.8, 1.0] # 사용할 샘플 비율\n",
        "        }\n",
        "    ),\n",
        "    \"HistGBR\": (\n",
        "        HistGradientBoostingRegressor(random_state=42),\n",
        "        {\n",
        "            \"max_iter\": [100, 300, 500],\n",
        "            \"learning_rate\": [0.01, 0.05, 0.1],\n",
        "            \"max_depth\": [None, 10, 20, 30],\n",
        "            \"min_samples_leaf\": [20, 50, 100],\n",
        "            \"l2_regularization\": [0.0, 0.1, 1.0]\n",
        "        }\n",
        "    ),\n",
        "    \"ElasticNet\": (\n",
        "    ElasticNet(random_state=42, max_iter=10000),\n",
        "    {\n",
        "        \"alpha\": [0.01, 0.1, 1.0, 10.0], # 전체 규제 강도\n",
        "        \"l1_ratio\": [0.1, 0.5, 0.9],  # l1, l2비율\n",
        "        \"tol\": [1e-4, 1e-3, 1e-2]  # 수렴 허용 오차\n",
        "    }\n",
        ")\n",
        "}\n",
        "\n",
        "results = {}\n",
        "total_models = len(models)\n",
        "\n",
        "for i, (name, (model, param_grid)) in enumerate(models.items()):\n",
        "    print(f\"\\n🔍 [{i+1}/{total_models}] Random Search for {name}...\")\n",
        "\n",
        "    search = RandomizedSearchCV(\n",
        "        estimator=model,\n",
        "        param_distributions=param_grid,\n",
        "        n_iter=10, # 조합 수\n",
        "        scoring=\"neg_mean_squared_error\", # 최소 mse값\n",
        "        cv=3,    # 교차 검증 횟수\n",
        "        n_jobs=-1, # cpu 병렬처리\n",
        "        verbose=1,\n",
        "        random_state=42\n",
        "    )\n",
        "\n",
        "    search.fit(X_train, y_train.ravel())\n",
        "\n",
        "    best_model = search.best_estimator_\n",
        "    y_pred = best_model.predict(X_test)\n",
        "\n",
        "    # 평가 지표 계산\n",
        "    rmse = np.sqrt(mean_squared_error(y_test, y_pred))\n",
        "    r2 = r2_score(y_test, y_pred)\n",
        "\n",
        "    results[name] = {\n",
        "        \"best_params\": search.best_params_,\n",
        "        \"test_rmse\": rmse,\n",
        "        \"test_r2\": r2\n",
        "    }\n",
        "\n",
        "    # 개별 결과 즉시 출력\n",
        "    print(f\"✅ {name} 학습 완료\")\n",
        "    print(f\"📌 최적 파라미터: {search.best_params_}\")\n",
        "    print(f\"📊 테스트 RMSE: {rmse:.6f}\")\n",
        "    print(f\"📈 테스트 R²: {r2:.4f}\")\n",
        "\n",
        "# 전체 결과 요약\n",
        "print(\"\\n✅ 최종 결과 요약:\")\n",
        "for model_name, res in results.items():\n",
        "    print(f\"📌 {model_name} | RMSE: {res['test_rmse']:.6f} | R²: {res['test_r2']:.4f} | Best Params: {res['best_params']}\")\n",
        "\n"
      ]
    },
    {
      "cell_type": "markdown",
      "id": "76089ffa",
      "metadata": {
        "id": "76089ffa"
      },
      "source": [
        "ElasticNET 성능이 너무 안좋아, RandomForest Regressor 추가"
      ]
    },
    {
      "cell_type": "code",
      "execution_count": null,
      "id": "09b8c1f8",
      "metadata": {
        "colab": {
          "base_uri": "https://localhost:8080/"
        },
        "id": "09b8c1f8",
        "outputId": "de56ea84-3bd0-4054-a9cc-e8e64e254734"
      },
      "outputs": [
        {
          "name": "stdout",
          "output_type": "stream",
          "text": [
            "🔍 Random Forest 하이퍼파라미터 탐색 중...\n",
            "Fitting 3 folds for each of 10 candidates, totalling 30 fits\n",
            "✅ RandomForest 학습 완료\n",
            "📌 최적 파라미터: {'n_estimators': 300, 'min_samples_split': 6, 'min_samples_leaf': 2, 'max_depth': 10}\n",
            "📊 테스트 RMSE: 0.009356\n",
            "📈 테스트 R²: 0.6653\n",
            "⏱ 실행 시간: 14703.43초\n"
          ]
        }
      ],
      "source": [
        "import numpy as np\n",
        "import time\n",
        "from sklearn.ensemble import RandomForestRegressor\n",
        "from sklearn.model_selection import RandomizedSearchCV\n",
        "from sklearn.metrics import mean_squared_error, r2_score\n",
        "import warnings\n",
        "from tqdm import tqdm\n",
        "\n",
        "warnings.filterwarnings(\"ignore\")\n",
        "\n",
        "# ⏱ 시간 측정 시작\n",
        "start = time.time()\n",
        "\n",
        "# 1. 모델 및 파라미터 후보 정의\n",
        "rf_model = RandomForestRegressor(random_state=42)\n",
        "rf_param_grid = {\n",
        "    \"n_estimators\": [100, 200, 300],\n",
        "    \"max_depth\": [10, 15, 20],\n",
        "    \"min_samples_split\": [2, 4, 6],\n",
        "    \"min_samples_leaf\": [1, 2]\n",
        "}\n",
        "\n",
        "# 2. 랜덤 서치\n",
        "search = RandomizedSearchCV(\n",
        "    estimator=rf_model,\n",
        "    param_distributions=rf_param_grid,\n",
        "    n_iter=10,\n",
        "    scoring=\"neg_mean_squared_error\",\n",
        "    cv=3,\n",
        "    n_jobs=-1,\n",
        "    verbose=1,\n",
        "    random_state=42\n",
        ")\n",
        "\n",
        "print(\"🔍 Random Forest 하이퍼파라미터 탐색 중...\")\n",
        "search.fit(X_train, y_train.ravel())\n",
        "\n",
        "# 3. 예측 및 평가\n",
        "best_rf = search.best_estimator_\n",
        "y_pred = best_rf.predict(X_test)\n",
        "\n",
        "rmse = np.sqrt(mean_squared_error(y_test, y_pred))\n",
        "r2 = r2_score(y_test, y_pred)\n",
        "\n",
        "# 4. 결과 출력\n",
        "print(f\"✅ RandomForest 학습 완료\")\n",
        "print(f\"📌 최적 파라미터: {search.best_params_}\")\n",
        "print(f\"📊 테스트 RMSE: {rmse:.6f}\")\n",
        "print(f\"📈 테스트 R²: {r2:.4f}\")\n",
        "\n",
        "# ⏱ 시간 측정 종료\n",
        "print(f\"⏱ 실행 시간: {(time.time() - start):.2f}초\")\n",
        "\n"
      ]
    },
    {
      "cell_type": "markdown",
      "id": "d6d7b8c4",
      "metadata": {
        "id": "d6d7b8c4"
      },
      "source": [
        "catboost 확장 탐색"
      ]
    },
    {
      "cell_type": "code",
      "execution_count": null,
      "id": "a6381b0a",
      "metadata": {
        "colab": {
          "base_uri": "https://localhost:8080/"
        },
        "id": "a6381b0a",
        "outputId": "2d9b06b5-b037-44b9-b1e7-ac254a3d1794"
      },
      "outputs": [
        {
          "name": "stdout",
          "output_type": "stream",
          "text": [
            "Fitting 3 folds for each of 30 candidates, totalling 90 fits\n",
            "0:\tlearn: 0.0149432\ttotal: 7.22ms\tremaining: 7.21s\n",
            "5:\tlearn: 0.0116791\ttotal: 39.5ms\tremaining: 6.54s\n",
            "10:\tlearn: 0.0101915\ttotal: 70.6ms\tremaining: 6.34s\n",
            "15:\tlearn: 0.0095158\ttotal: 103ms\tremaining: 6.33s\n",
            "20:\tlearn: 0.0092019\ttotal: 134ms\tremaining: 6.24s\n",
            "25:\tlearn: 0.0090190\ttotal: 165ms\tremaining: 6.17s\n",
            "30:\tlearn: 0.0089109\ttotal: 193ms\tremaining: 6.02s\n",
            "35:\tlearn: 0.0088397\ttotal: 219ms\tremaining: 5.86s\n",
            "40:\tlearn: 0.0087867\ttotal: 242ms\tremaining: 5.67s\n",
            "45:\tlearn: 0.0087358\ttotal: 271ms\tremaining: 5.61s\n",
            "50:\tlearn: 0.0086876\ttotal: 295ms\tremaining: 5.48s\n",
            "55:\tlearn: 0.0086548\ttotal: 318ms\tremaining: 5.37s\n",
            "60:\tlearn: 0.0086318\ttotal: 342ms\tremaining: 5.26s\n",
            "65:\tlearn: 0.0085985\ttotal: 365ms\tremaining: 5.17s\n",
            "70:\tlearn: 0.0085688\ttotal: 388ms\tremaining: 5.08s\n",
            "75:\tlearn: 0.0085453\ttotal: 407ms\tremaining: 4.95s\n",
            "80:\tlearn: 0.0085131\ttotal: 429ms\tremaining: 4.86s\n",
            "85:\tlearn: 0.0084926\ttotal: 448ms\tremaining: 4.76s\n",
            "90:\tlearn: 0.0084643\ttotal: 467ms\tremaining: 4.67s\n",
            "95:\tlearn: 0.0084459\ttotal: 488ms\tremaining: 4.59s\n",
            "100:\tlearn: 0.0084277\ttotal: 536ms\tremaining: 4.77s\n",
            "105:\tlearn: 0.0084051\ttotal: 557ms\tremaining: 4.7s\n",
            "110:\tlearn: 0.0083936\ttotal: 578ms\tremaining: 4.63s\n",
            "115:\tlearn: 0.0083749\ttotal: 598ms\tremaining: 4.55s\n",
            "120:\tlearn: 0.0083572\ttotal: 618ms\tremaining: 4.49s\n",
            "125:\tlearn: 0.0083380\ttotal: 640ms\tremaining: 4.44s\n",
            "130:\tlearn: 0.0083184\ttotal: 660ms\tremaining: 4.38s\n",
            "135:\tlearn: 0.0083035\ttotal: 682ms\tremaining: 4.33s\n",
            "140:\tlearn: 0.0082907\ttotal: 702ms\tremaining: 4.28s\n",
            "145:\tlearn: 0.0082771\ttotal: 722ms\tremaining: 4.22s\n",
            "150:\tlearn: 0.0082659\ttotal: 742ms\tremaining: 4.17s\n",
            "155:\tlearn: 0.0082529\ttotal: 763ms\tremaining: 4.13s\n",
            "160:\tlearn: 0.0082410\ttotal: 782ms\tremaining: 4.08s\n",
            "165:\tlearn: 0.0082268\ttotal: 803ms\tremaining: 4.03s\n",
            "170:\tlearn: 0.0082142\ttotal: 823ms\tremaining: 3.99s\n",
            "175:\tlearn: 0.0082064\ttotal: 845ms\tremaining: 3.95s\n",
            "180:\tlearn: 0.0081959\ttotal: 864ms\tremaining: 3.91s\n",
            "185:\tlearn: 0.0081780\ttotal: 884ms\tremaining: 3.87s\n",
            "190:\tlearn: 0.0081645\ttotal: 904ms\tremaining: 3.83s\n",
            "195:\tlearn: 0.0081520\ttotal: 924ms\tremaining: 3.79s\n",
            "200:\tlearn: 0.0081436\ttotal: 945ms\tremaining: 3.75s\n",
            "205:\tlearn: 0.0081334\ttotal: 965ms\tremaining: 3.72s\n",
            "210:\tlearn: 0.0081240\ttotal: 986ms\tremaining: 3.69s\n",
            "215:\tlearn: 0.0081164\ttotal: 1s\tremaining: 3.65s\n",
            "220:\tlearn: 0.0081070\ttotal: 1.02s\tremaining: 3.61s\n",
            "225:\tlearn: 0.0080998\ttotal: 1.05s\tremaining: 3.59s\n",
            "230:\tlearn: 0.0080907\ttotal: 1.07s\tremaining: 3.56s\n",
            "235:\tlearn: 0.0080786\ttotal: 1.09s\tremaining: 3.52s\n",
            "240:\tlearn: 0.0080690\ttotal: 1.11s\tremaining: 3.49s\n",
            "245:\tlearn: 0.0080600\ttotal: 1.13s\tremaining: 3.46s\n",
            "250:\tlearn: 0.0080527\ttotal: 1.15s\tremaining: 3.42s\n",
            "255:\tlearn: 0.0080446\ttotal: 1.17s\tremaining: 3.39s\n",
            "260:\tlearn: 0.0080351\ttotal: 1.19s\tremaining: 3.36s\n",
            "265:\tlearn: 0.0080314\ttotal: 1.21s\tremaining: 3.33s\n",
            "270:\tlearn: 0.0080252\ttotal: 1.23s\tremaining: 3.3s\n",
            "275:\tlearn: 0.0080153\ttotal: 1.25s\tremaining: 3.27s\n",
            "280:\tlearn: 0.0080083\ttotal: 1.27s\tremaining: 3.26s\n",
            "285:\tlearn: 0.0080038\ttotal: 1.29s\tremaining: 3.23s\n",
            "290:\tlearn: 0.0079984\ttotal: 1.31s\tremaining: 3.19s\n",
            "295:\tlearn: 0.0079896\ttotal: 1.33s\tremaining: 3.17s\n",
            "300:\tlearn: 0.0079832\ttotal: 1.35s\tremaining: 3.14s\n",
            "305:\tlearn: 0.0079714\ttotal: 1.37s\tremaining: 3.11s\n",
            "310:\tlearn: 0.0079646\ttotal: 1.39s\tremaining: 3.08s\n",
            "315:\tlearn: 0.0079577\ttotal: 1.41s\tremaining: 3.06s\n",
            "320:\tlearn: 0.0079518\ttotal: 1.43s\tremaining: 3.03s\n",
            "325:\tlearn: 0.0079472\ttotal: 1.45s\tremaining: 3.01s\n",
            "330:\tlearn: 0.0079402\ttotal: 1.47s\tremaining: 2.98s\n",
            "335:\tlearn: 0.0079306\ttotal: 1.49s\tremaining: 2.95s\n",
            "340:\tlearn: 0.0079263\ttotal: 1.54s\tremaining: 2.97s\n",
            "345:\tlearn: 0.0079183\ttotal: 1.56s\tremaining: 2.95s\n",
            "350:\tlearn: 0.0079152\ttotal: 1.58s\tremaining: 2.92s\n",
            "355:\tlearn: 0.0079113\ttotal: 1.6s\tremaining: 2.89s\n",
            "360:\tlearn: 0.0079072\ttotal: 1.62s\tremaining: 2.87s\n",
            "365:\tlearn: 0.0079033\ttotal: 1.64s\tremaining: 2.84s\n",
            "370:\tlearn: 0.0078996\ttotal: 1.66s\tremaining: 2.82s\n",
            "375:\tlearn: 0.0078927\ttotal: 1.68s\tremaining: 2.79s\n",
            "380:\tlearn: 0.0078869\ttotal: 1.7s\tremaining: 2.76s\n",
            "385:\tlearn: 0.0078836\ttotal: 1.72s\tremaining: 2.74s\n",
            "390:\tlearn: 0.0078801\ttotal: 1.74s\tremaining: 2.71s\n",
            "395:\tlearn: 0.0078696\ttotal: 1.76s\tremaining: 2.69s\n",
            "400:\tlearn: 0.0078653\ttotal: 1.78s\tremaining: 2.66s\n",
            "405:\tlearn: 0.0078605\ttotal: 1.8s\tremaining: 2.63s\n",
            "410:\tlearn: 0.0078550\ttotal: 1.82s\tremaining: 2.61s\n",
            "415:\tlearn: 0.0078513\ttotal: 1.84s\tremaining: 2.58s\n",
            "420:\tlearn: 0.0078455\ttotal: 1.86s\tremaining: 2.56s\n",
            "425:\tlearn: 0.0078367\ttotal: 1.88s\tremaining: 2.54s\n",
            "430:\tlearn: 0.0078307\ttotal: 1.9s\tremaining: 2.51s\n",
            "435:\tlearn: 0.0078251\ttotal: 1.92s\tremaining: 2.49s\n",
            "440:\tlearn: 0.0078216\ttotal: 1.94s\tremaining: 2.46s\n",
            "445:\tlearn: 0.0078167\ttotal: 1.96s\tremaining: 2.44s\n",
            "450:\tlearn: 0.0078075\ttotal: 1.98s\tremaining: 2.41s\n",
            "455:\tlearn: 0.0078044\ttotal: 2s\tremaining: 2.39s\n",
            "460:\tlearn: 0.0078008\ttotal: 2.02s\tremaining: 2.36s\n",
            "465:\tlearn: 0.0077983\ttotal: 2.04s\tremaining: 2.34s\n",
            "470:\tlearn: 0.0077920\ttotal: 2.06s\tremaining: 2.32s\n",
            "475:\tlearn: 0.0077886\ttotal: 2.08s\tremaining: 2.29s\n",
            "480:\tlearn: 0.0077860\ttotal: 2.1s\tremaining: 2.27s\n",
            "485:\tlearn: 0.0077832\ttotal: 2.12s\tremaining: 2.25s\n",
            "490:\tlearn: 0.0077788\ttotal: 2.14s\tremaining: 2.22s\n",
            "495:\tlearn: 0.0077721\ttotal: 2.16s\tremaining: 2.2s\n",
            "500:\tlearn: 0.0077684\ttotal: 2.18s\tremaining: 2.17s\n",
            "505:\tlearn: 0.0077645\ttotal: 2.2s\tremaining: 2.15s\n",
            "510:\tlearn: 0.0077613\ttotal: 2.22s\tremaining: 2.12s\n",
            "515:\tlearn: 0.0077558\ttotal: 2.25s\tremaining: 2.1s\n",
            "520:\tlearn: 0.0077522\ttotal: 2.26s\tremaining: 2.08s\n",
            "525:\tlearn: 0.0077480\ttotal: 2.29s\tremaining: 2.06s\n",
            "530:\tlearn: 0.0077420\ttotal: 2.31s\tremaining: 2.04s\n",
            "535:\tlearn: 0.0077368\ttotal: 2.33s\tremaining: 2.01s\n",
            "540:\tlearn: 0.0077320\ttotal: 2.35s\tremaining: 1.99s\n",
            "545:\tlearn: 0.0077259\ttotal: 2.37s\tremaining: 1.97s\n",
            "550:\tlearn: 0.0077230\ttotal: 2.39s\tremaining: 1.94s\n",
            "555:\tlearn: 0.0077161\ttotal: 2.4s\tremaining: 1.92s\n",
            "560:\tlearn: 0.0077116\ttotal: 2.42s\tremaining: 1.9s\n",
            "565:\tlearn: 0.0077020\ttotal: 2.44s\tremaining: 1.87s\n",
            "570:\tlearn: 0.0076977\ttotal: 2.46s\tremaining: 1.85s\n",
            "575:\tlearn: 0.0076899\ttotal: 2.48s\tremaining: 1.83s\n",
            "580:\tlearn: 0.0076875\ttotal: 2.51s\tremaining: 1.81s\n",
            "585:\tlearn: 0.0076836\ttotal: 2.53s\tremaining: 1.78s\n",
            "590:\tlearn: 0.0076806\ttotal: 2.57s\tremaining: 1.78s\n",
            "595:\tlearn: 0.0076770\ttotal: 2.59s\tremaining: 1.76s\n",
            "600:\tlearn: 0.0076745\ttotal: 2.61s\tremaining: 1.74s\n",
            "605:\tlearn: 0.0076722\ttotal: 2.63s\tremaining: 1.71s\n",
            "610:\tlearn: 0.0076690\ttotal: 2.66s\tremaining: 1.69s\n",
            "615:\tlearn: 0.0076637\ttotal: 2.68s\tremaining: 1.67s\n",
            "620:\tlearn: 0.0076604\ttotal: 2.7s\tremaining: 1.65s\n",
            "625:\tlearn: 0.0076529\ttotal: 2.72s\tremaining: 1.63s\n",
            "630:\tlearn: 0.0076510\ttotal: 2.74s\tremaining: 1.6s\n",
            "635:\tlearn: 0.0076493\ttotal: 2.76s\tremaining: 1.58s\n",
            "640:\tlearn: 0.0076449\ttotal: 2.78s\tremaining: 1.56s\n",
            "645:\tlearn: 0.0076413\ttotal: 2.8s\tremaining: 1.53s\n",
            "650:\tlearn: 0.0076388\ttotal: 2.82s\tremaining: 1.51s\n",
            "655:\tlearn: 0.0076347\ttotal: 2.84s\tremaining: 1.49s\n",
            "660:\tlearn: 0.0076300\ttotal: 2.86s\tremaining: 1.47s\n",
            "665:\tlearn: 0.0076270\ttotal: 2.88s\tremaining: 1.45s\n",
            "670:\tlearn: 0.0076229\ttotal: 2.9s\tremaining: 1.42s\n",
            "675:\tlearn: 0.0076207\ttotal: 2.92s\tremaining: 1.4s\n",
            "680:\tlearn: 0.0076156\ttotal: 2.94s\tremaining: 1.38s\n",
            "685:\tlearn: 0.0076099\ttotal: 2.96s\tremaining: 1.36s\n",
            "690:\tlearn: 0.0076058\ttotal: 2.98s\tremaining: 1.33s\n",
            "695:\tlearn: 0.0076001\ttotal: 3s\tremaining: 1.31s\n",
            "700:\tlearn: 0.0075924\ttotal: 3.02s\tremaining: 1.29s\n",
            "705:\tlearn: 0.0075870\ttotal: 3.05s\tremaining: 1.27s\n",
            "710:\tlearn: 0.0075832\ttotal: 3.06s\tremaining: 1.25s\n",
            "715:\tlearn: 0.0075813\ttotal: 3.09s\tremaining: 1.22s\n",
            "720:\tlearn: 0.0075790\ttotal: 3.11s\tremaining: 1.2s\n",
            "725:\tlearn: 0.0075767\ttotal: 3.13s\tremaining: 1.18s\n",
            "730:\tlearn: 0.0075730\ttotal: 3.15s\tremaining: 1.16s\n",
            "735:\tlearn: 0.0075695\ttotal: 3.17s\tremaining: 1.14s\n",
            "740:\tlearn: 0.0075674\ttotal: 3.19s\tremaining: 1.11s\n",
            "745:\tlearn: 0.0075627\ttotal: 3.21s\tremaining: 1.09s\n",
            "750:\tlearn: 0.0075597\ttotal: 3.23s\tremaining: 1.07s\n",
            "755:\tlearn: 0.0075575\ttotal: 3.25s\tremaining: 1.05s\n",
            "760:\tlearn: 0.0075540\ttotal: 3.27s\tremaining: 1.03s\n",
            "765:\tlearn: 0.0075514\ttotal: 3.29s\tremaining: 1s\n",
            "770:\tlearn: 0.0075433\ttotal: 3.31s\tremaining: 983ms\n",
            "775:\tlearn: 0.0075411\ttotal: 3.33s\tremaining: 962ms\n",
            "780:\tlearn: 0.0075374\ttotal: 3.35s\tremaining: 940ms\n",
            "785:\tlearn: 0.0075338\ttotal: 3.37s\tremaining: 918ms\n",
            "790:\tlearn: 0.0075315\ttotal: 3.39s\tremaining: 896ms\n",
            "795:\tlearn: 0.0075287\ttotal: 3.41s\tremaining: 874ms\n",
            "800:\tlearn: 0.0075249\ttotal: 3.43s\tremaining: 852ms\n",
            "805:\tlearn: 0.0075232\ttotal: 3.45s\tremaining: 830ms\n",
            "810:\tlearn: 0.0075193\ttotal: 3.47s\tremaining: 808ms\n",
            "815:\tlearn: 0.0075174\ttotal: 3.49s\tremaining: 787ms\n",
            "820:\tlearn: 0.0075159\ttotal: 3.51s\tremaining: 765ms\n",
            "825:\tlearn: 0.0075140\ttotal: 3.53s\tremaining: 743ms\n",
            "830:\tlearn: 0.0075109\ttotal: 3.56s\tremaining: 723ms\n",
            "835:\tlearn: 0.0075081\ttotal: 3.59s\tremaining: 705ms\n",
            "840:\tlearn: 0.0075045\ttotal: 3.61s\tremaining: 683ms\n",
            "845:\tlearn: 0.0075004\ttotal: 3.63s\tremaining: 661ms\n",
            "850:\tlearn: 0.0074974\ttotal: 3.65s\tremaining: 640ms\n",
            "855:\tlearn: 0.0074953\ttotal: 3.67s\tremaining: 618ms\n",
            "860:\tlearn: 0.0074911\ttotal: 3.69s\tremaining: 596ms\n",
            "865:\tlearn: 0.0074893\ttotal: 3.71s\tremaining: 574ms\n",
            "870:\tlearn: 0.0074841\ttotal: 3.73s\tremaining: 553ms\n",
            "875:\tlearn: 0.0074800\ttotal: 3.75s\tremaining: 531ms\n",
            "880:\tlearn: 0.0074782\ttotal: 3.77s\tremaining: 509ms\n",
            "885:\tlearn: 0.0074743\ttotal: 3.79s\tremaining: 488ms\n",
            "890:\tlearn: 0.0074715\ttotal: 3.81s\tremaining: 466ms\n",
            "895:\tlearn: 0.0074688\ttotal: 3.83s\tremaining: 445ms\n",
            "900:\tlearn: 0.0074669\ttotal: 3.85s\tremaining: 423ms\n",
            "905:\tlearn: 0.0074638\ttotal: 3.87s\tremaining: 401ms\n",
            "910:\tlearn: 0.0074586\ttotal: 3.89s\tremaining: 380ms\n",
            "915:\tlearn: 0.0074562\ttotal: 3.91s\tremaining: 359ms\n",
            "920:\tlearn: 0.0074528\ttotal: 3.93s\tremaining: 337ms\n",
            "925:\tlearn: 0.0074504\ttotal: 3.95s\tremaining: 316ms\n",
            "930:\tlearn: 0.0074476\ttotal: 3.97s\tremaining: 294ms\n",
            "935:\tlearn: 0.0074456\ttotal: 3.99s\tremaining: 273ms\n",
            "940:\tlearn: 0.0074434\ttotal: 4.01s\tremaining: 251ms\n",
            "945:\tlearn: 0.0074420\ttotal: 4.03s\tremaining: 230ms\n",
            "950:\tlearn: 0.0074383\ttotal: 4.05s\tremaining: 209ms\n",
            "955:\tlearn: 0.0074357\ttotal: 4.07s\tremaining: 187ms\n",
            "960:\tlearn: 0.0074339\ttotal: 4.09s\tremaining: 166ms\n",
            "965:\tlearn: 0.0074320\ttotal: 4.11s\tremaining: 144ms\n",
            "970:\tlearn: 0.0074295\ttotal: 4.12s\tremaining: 123ms\n",
            "975:\tlearn: 0.0074253\ttotal: 4.14s\tremaining: 102ms\n",
            "980:\tlearn: 0.0074227\ttotal: 4.16s\tremaining: 80.6ms\n",
            "985:\tlearn: 0.0074199\ttotal: 4.18s\tremaining: 59.4ms\n",
            "990:\tlearn: 0.0074179\ttotal: 4.21s\tremaining: 38.2ms\n",
            "995:\tlearn: 0.0074148\ttotal: 4.23s\tremaining: 17ms\n",
            "999:\tlearn: 0.0074132\ttotal: 4.25s\tremaining: 0us\n",
            "\n",
            "✅ CatBoost 정밀 탐색 완료\n",
            "📌 최적 파라미터: {'learning_rate': 0.1, 'l2_leaf_reg': 3, 'iterations': 1000, 'depth': 6, 'border_count': 128, 'bagging_temperature': 0.0}\n",
            "📊 테스트 RMSE: 0.009174\n",
            "📈 테스트 R²: 0.6782\n"
          ]
        }
      ],
      "source": [
        "from sklearn.model_selection import RandomizedSearchCV\n",
        "from sklearn.metrics import mean_squared_error, r2_score\n",
        "from catboost import CatBoostRegressor\n",
        "import numpy as np\n",
        "\n",
        "# CatBoost 확장된 탐색 범위\n",
        "catboost_params = {\n",
        "    \"depth\": [4, 6, 8, 10, 12],\n",
        "    \"learning_rate\": [0.01, 0.03, 0.05, 0.07, 0.1],\n",
        "    \"iterations\": [300, 500, 700, 1000], # 트리 개수\n",
        "    \"l2_leaf_reg\": [1, 3, 5, 7, 9], # l2정규화 강도\n",
        "    \"bagging_temperature\": [0.0, 0.5, 1.0, 1.5], # 랜덤성 조절 파라미터\n",
        "    \"border_count\": [32, 64, 128] # 연속형 변수를 이산형으로 나눌 때 경계 개수\n",
        "}\n",
        "\n",
        "catboost = CatBoostRegressor(task_type='GPU', verbose=5, random_state=42)\n",
        "\n",
        "search = RandomizedSearchCV(\n",
        "    estimator=catboost,\n",
        "    param_distributions=catboost_params,\n",
        "    n_iter=30,  # 깊게 탐색\n",
        "    scoring=\"neg_mean_squared_error\",\n",
        "    cv=3,\n",
        "    n_jobs=-1,\n",
        "    verbose=1,\n",
        "    random_state=42\n",
        ")\n",
        "\n",
        "search.fit(X_train, y_train.ravel())\n",
        "\n",
        "# 평가\n",
        "best_model = search.best_estimator_\n",
        "y_pred = best_model.predict(X_test)\n",
        "rmse = np.sqrt(mean_squared_error(y_test, y_pred))\n",
        "r2 = r2_score(y_test, y_pred)\n",
        "\n",
        "print(f\"\\n✅ CatBoost 정밀 탐색 완료\")\n",
        "print(f\"📌 최적 파라미터: {search.best_params_}\")\n",
        "print(f\"📊 테스트 RMSE: {rmse:.6f}\")\n",
        "print(f\"📈 테스트 R²: {r2:.4f}\")\n"
      ]
    },
    {
      "cell_type": "code",
      "execution_count": null,
      "id": "cc31c895",
      "metadata": {
        "colab": {
          "base_uri": "https://localhost:8080/"
        },
        "id": "cc31c895",
        "outputId": "59984a37-1769-4982-a69d-c155704572b3"
      },
      "outputs": [
        {
          "name": "stdout",
          "output_type": "stream",
          "text": [
            "[LightGBM] [Info] Auto-choosing row-wise multi-threading, the overhead of testing was 0.049544 seconds.\n",
            "You can set `force_row_wise=true` to remove the overhead.\n",
            "And if memory is not enough, you can set `force_col_wise=true`.\n",
            "[LightGBM] [Info] Total Bins 431\n",
            "[LightGBM] [Info] Number of data points in the train set: 298092, number of used features: 89\n",
            "[LightGBM] [Info] Start training from score 0.005130\n",
            "📊 역정규화 기준 모델 성능 비교:\n",
            "✅ CatBoost   | RMSE: 1,518,386.06 | R²: 0.6774\n",
            "✅ LightGBM   | RMSE: 1,532,644.61 | R²: 0.6713\n",
            "✅ XGBoost    | RMSE: 1,526,182.97 | R²: 0.6741\n",
            "✅ HistGBR    | RMSE: 1,538,908.34 | R²: 0.6686\n",
            "✅ RandomForest | RMSE: 1,546,480.83 | R²: 0.6653\n"
          ]
        }
      ],
      "source": [
        "from catboost import CatBoostRegressor\n",
        "from lightgbm import LGBMRegressor\n",
        "from xgboost import XGBRegressor\n",
        "from sklearn.ensemble import HistGradientBoostingRegressor\n",
        "from sklearn.linear_model import ElasticNet\n",
        "from sklearn.metrics import mean_squared_error, r2_score\n",
        "import numpy as np\n",
        "\n",
        "# 1. Min-Max 정규화 기준값\n",
        "y_min = 216.0\n",
        "y_max = 165300000.0\n",
        "\n",
        "# 2. 최적 하이퍼파라미터 적용 모델 정의\n",
        "models = {\n",
        "    \"CatBoost\": CatBoostRegressor(\n",
        "        learning_rate=0.1,\n",
        "        l2_leaf_reg=3,\n",
        "        iterations=1000,\n",
        "        depth=6,\n",
        "        border_count=128,\n",
        "        verbose=0,\n",
        "        random_state=42\n",
        "    ),\n",
        "    \"LightGBM\": LGBMRegressor(\n",
        "        num_leaves=15,\n",
        "        n_estimators=500,\n",
        "        min_child_samples=20,\n",
        "        max_depth=-1,\n",
        "        learning_rate=0.05,\n",
        "        random_state=42\n",
        "    ),\n",
        "    \"XGBoost\": XGBRegressor(\n",
        "        subsample=1.0,\n",
        "        n_estimators=100,\n",
        "        max_depth=7,\n",
        "        learning_rate=0.2,\n",
        "        random_state=42,\n",
        "        verbosity=0\n",
        "    ),\n",
        "    \"HistGBR\": HistGradientBoostingRegressor(\n",
        "        min_samples_leaf=50,\n",
        "        max_iter=500,\n",
        "        max_depth=10,\n",
        "        learning_rate=0.1,\n",
        "        l2_regularization=0.1,\n",
        "        random_state=42\n",
        "    ),\n",
        "    \"RandomForest\": RandomForestRegressor(\n",
        "        n_estimators=300,\n",
        "        min_samples_split=6,\n",
        "        min_samples_leaf=2,\n",
        "        max_depth=10,\n",
        "        random_state=42\n",
        "    )\n",
        "}\n",
        "\n",
        "# 3. 결과 저장용 딕셔너리\n",
        "results = {}\n",
        "\n",
        "# 4. 모델 학습 → 예측 → 역정규화 → 성능 평가\n",
        "for name, model in models.items():\n",
        "    model.fit(X_train, y_train)\n",
        "    preds = model.predict(X_test)\n",
        "\n",
        "    # 역정규화\n",
        "    preds_inverse = preds * (y_max - y_min) + y_min\n",
        "    y_test_inverse = y_test * (y_max - y_min) + y_min\n",
        "\n",
        "    # 성능 평가\n",
        "    mse = mean_squared_error(y_test_inverse, preds_inverse)\n",
        "    rmse = np.sqrt(mse)\n",
        "    r2 = r2_score(y_test_inverse, preds_inverse)\n",
        "\n",
        "    results[name] = {\n",
        "        \"RMSE\": round(rmse, 2),\n",
        "        \"R²\": round(r2, 4)\n",
        "    }\n",
        "\n",
        "# 5. 결과 출력\n",
        "print(\"📊 역정규화 기준 모델 성능 비교:\")\n",
        "for name, res in results.items():\n",
        "    print(f\"✅ {name:<10} | RMSE: {res['RMSE']:,} | R²: {res['R²']}\")\n"
      ]
    },
    {
      "cell_type": "markdown",
      "id": "c98258c1",
      "metadata": {
        "id": "c98258c1"
      },
      "source": [
        "### tabnet"
      ]
    },
    {
      "cell_type": "code",
      "execution_count": null,
      "id": "375e8747",
      "metadata": {
        "colab": {
          "base_uri": "https://localhost:8080/"
        },
        "id": "375e8747",
        "outputId": "aeb1bd23-6639-4b3c-a50d-aa5dbf695de1"
      },
      "outputs": [
        {
          "name": "stderr",
          "output_type": "stream",
          "text": [
            "[I 2025-05-23 16:55:41,741] A new study created in memory with name: no-name-9acb0fcb-e231-481d-9ee4-bb92e68ac524\n"
          ]
        },
        {
          "name": "stdout",
          "output_type": "stream",
          "text": [
            "\n",
            "Early stopping occurred at epoch 57 with best_epoch = 47 and best_val_0_rmse = 0.01043\n"
          ]
        },
        {
          "name": "stderr",
          "output_type": "stream",
          "text": [
            "/usr/local/lib/python3.11/dist-packages/pytorch_tabnet/callbacks.py:172: UserWarning: Best weights from best epoch are automatically used!\n",
            "  warnings.warn(wrn_msg)\n",
            "[I 2025-05-23 17:17:41,598] Trial 0 finished with value: 0.010426763997343673 and parameters: {'n_d': 8, 'n_a': 16, 'n_steps': 5, 'gamma': 1.4}. Best is trial 0 with value: 0.010426763997343673.\n"
          ]
        },
        {
          "name": "stdout",
          "output_type": "stream",
          "text": [
            "\n",
            "Early stopping occurred at epoch 41 with best_epoch = 31 and best_val_0_rmse = 0.00838\n"
          ]
        },
        {
          "name": "stderr",
          "output_type": "stream",
          "text": [
            "/usr/local/lib/python3.11/dist-packages/pytorch_tabnet/callbacks.py:172: UserWarning: Best weights from best epoch are automatically used!\n",
            "  warnings.warn(wrn_msg)\n",
            "[I 2025-05-23 17:29:04,354] Trial 1 finished with value: 0.00837982306548217 and parameters: {'n_d': 16, 'n_a': 8, 'n_steps': 3, 'gamma': 1.4}. Best is trial 1 with value: 0.00837982306548217.\n"
          ]
        },
        {
          "name": "stdout",
          "output_type": "stream",
          "text": [
            "\n",
            "Early stopping occurred at epoch 36 with best_epoch = 26 and best_val_0_rmse = 0.00886\n"
          ]
        },
        {
          "name": "stderr",
          "output_type": "stream",
          "text": [
            "/usr/local/lib/python3.11/dist-packages/pytorch_tabnet/callbacks.py:172: UserWarning: Best weights from best epoch are automatically used!\n",
            "  warnings.warn(wrn_msg)\n",
            "[I 2025-05-23 17:43:31,484] Trial 2 finished with value: 0.00885509172971668 and parameters: {'n_d': 24, 'n_a': 16, 'n_steps': 5, 'gamma': 1.4}. Best is trial 1 with value: 0.00837982306548217.\n"
          ]
        },
        {
          "name": "stdout",
          "output_type": "stream",
          "text": [
            "\n",
            "Early stopping occurred at epoch 23 with best_epoch = 13 and best_val_0_rmse = 0.00969\n"
          ]
        },
        {
          "name": "stderr",
          "output_type": "stream",
          "text": [
            "/usr/local/lib/python3.11/dist-packages/pytorch_tabnet/callbacks.py:172: UserWarning: Best weights from best epoch are automatically used!\n",
            "  warnings.warn(wrn_msg)\n",
            "[I 2025-05-23 17:50:16,657] Trial 3 finished with value: 0.009691519648185942 and parameters: {'n_d': 16, 'n_a': 16, 'n_steps': 3, 'gamma': 1.4}. Best is trial 1 with value: 0.00837982306548217.\n"
          ]
        },
        {
          "name": "stdout",
          "output_type": "stream",
          "text": [
            "\n",
            "Early stopping occurred at epoch 32 with best_epoch = 22 and best_val_0_rmse = 0.01005\n"
          ]
        },
        {
          "name": "stderr",
          "output_type": "stream",
          "text": [
            "/usr/local/lib/python3.11/dist-packages/pytorch_tabnet/callbacks.py:172: UserWarning: Best weights from best epoch are automatically used!\n",
            "  warnings.warn(wrn_msg)\n",
            "[I 2025-05-23 18:03:07,850] Trial 4 finished with value: 0.010054878763500759 and parameters: {'n_d': 16, 'n_a': 24, 'n_steps': 5, 'gamma': 1.4}. Best is trial 1 with value: 0.00837982306548217.\n"
          ]
        },
        {
          "name": "stdout",
          "output_type": "stream",
          "text": [
            "✅ Best RMSE: 0.00837982306548217\n",
            "✅ Best Params: {'n_d': 16, 'n_a': 8, 'n_steps': 3, 'gamma': 1.4}\n"
          ]
        }
      ],
      "source": [
        "import optuna\n",
        "from pytorch_tabnet.tab_model import TabNetRegressor\n",
        "from sklearn.metrics import mean_squared_error\n",
        "from sklearn.metrics import mean_squared_error\n",
        "\n",
        "def objective(trial):\n",
        "    model = TabNetRegressor(\n",
        "        n_d=trial.suggest_categorical(\"n_d\", [8, 16, 24]), # 디코더 차원 수\n",
        "        n_a=trial.suggest_categorical(\"n_a\", [8, 16, 24]), #  어텐션 피처 차원 수\n",
        "        n_steps=trial.suggest_categorical(\"n_steps\", [3, 5]), # 결정 반복 횟수-> 하나의 입력을 여러번 학습\n",
        "        gamma=trial.suggest_float(\"gamma\", 1.2, 1.5, step=0.1),  # 이전 정보를 얼마나 활용할지 결정\n",
        "        lambda_sparse=1e-3,  # 희소성 정규화 강도 고정 L1과 유사한 역할\n",
        "        optimizer_params=dict(lr=0.02),\n",
        "        verbose=0,\n",
        "        seed=42\n",
        "    )\n",
        "\n",
        "    model.fit(\n",
        "        X_train=X_train.values,\n",
        "        y_train=y_train,\n",
        "        eval_set=[(X_valid.values, y_valid)], #평가용 set\n",
        "        eval_metric=['rmse'],\n",
        "        max_epochs=100,\n",
        "        patience=10, # 조기종료 조건 10번동안 성능 안오를 시 종료\n",
        "        batch_size=1024,\n",
        "        virtual_batch_size=128\n",
        "    )\n",
        "\n",
        "    preds = model.predict(X_valid.values).squeeze()\n",
        "    mse = mean_squared_error(y_valid, preds)\n",
        "    rmse = np.sqrt(mse)\n",
        "    return rmse\n",
        "\n",
        "study = optuna.create_study(direction=\"minimize\")\n",
        "study.optimize(objective, n_trials=5)  # 가볍게 5회만 탐색\n",
        "\n",
        "print(\"✅ Best RMSE:\", study.best_value)\n",
        "print(\"✅ Best Params:\", study.best_params)\n"
      ]
    },
    {
      "cell_type": "markdown",
      "id": "Wr3AifODZhBv",
      "metadata": {
        "id": "Wr3AifODZhBv"
      },
      "source": [
        "학습 시간 상 중단, 위에서 나온 제일 좋은 결과로, 하이퍼 파라미터 탐색"
      ]
    },
    {
      "cell_type": "code",
      "execution_count": null,
      "id": "71_8s7T33EgS",
      "metadata": {
        "colab": {
          "base_uri": "https://localhost:8080/",
          "height": 740
        },
        "id": "71_8s7T33EgS",
        "outputId": "8b949bd4-de50-43b0-e402-3a40727804f0"
      },
      "outputs": [
        {
          "name": "stderr",
          "output_type": "stream",
          "text": [
            "🔍 TabNet Tuning Progress:   0%|          | 0/5 [00:00<?, ?it/s][I 2025-05-24 08:33:43,513] A new study created in memory with name: no-name-db6a9744-60ac-4d03-9cc1-d81cab9868f2\n"
          ]
        },
        {
          "name": "stdout",
          "output_type": "stream",
          "text": [
            "Stop training because you reached max_epochs = 100 with best_epoch = 93 and best_val_0_rmse = 0.00776\n"
          ]
        },
        {
          "name": "stderr",
          "output_type": "stream",
          "text": [
            "c:\\Users\\jeongbin\\Projects\\LandValue_project\\venv\\lib\\site-packages\\pytorch_tabnet\\callbacks.py:172: UserWarning: Best weights from best epoch are automatically used!\n",
            "  warnings.warn(wrn_msg)\n",
            "🔍 TabNet Tuning Progress:  20%|██        | 1/5 [46:14<3:04:59, 2774.86s/it][I 2025-05-24 09:19:58,373] Trial 0 finished with value: 0.007758764285731629 and parameters: {'lambda_sparse': 5.314882200191176e-05, 'lr': 0.0018811231971805286, 'batch_size': 1024, 'virtual_batch_size': 256}. Best is trial 0 with value: 0.007758764285731629.\n"
          ]
        },
        {
          "name": "stdout",
          "output_type": "stream",
          "text": [
            "\n",
            "Early stopping occurred at epoch 30 with best_epoch = 20 and best_val_0_rmse = 0.01219\n"
          ]
        },
        {
          "name": "stderr",
          "output_type": "stream",
          "text": [
            "c:\\Users\\jeongbin\\Projects\\LandValue_project\\venv\\lib\\site-packages\\pytorch_tabnet\\callbacks.py:172: UserWarning: Best weights from best epoch are automatically used!\n",
            "  warnings.warn(wrn_msg)\n",
            "🔍 TabNet Tuning Progress:  40%|████      | 2/5 [1:01:24<1:23:53, 1677.88s/it][I 2025-05-24 09:35:08,368] Trial 1 finished with value: 0.012190128409198812 and parameters: {'lambda_sparse': 0.008379929965598122, 'lr': 0.025442871494994544, 'batch_size': 1024, 'virtual_batch_size': 256}. Best is trial 0 with value: 0.007758764285731629.\n"
          ]
        },
        {
          "name": "stdout",
          "output_type": "stream",
          "text": [
            "\n",
            "Early stopping occurred at epoch 35 with best_epoch = 25 and best_val_0_rmse = 0.00841\n"
          ]
        },
        {
          "name": "stderr",
          "output_type": "stream",
          "text": [
            "c:\\Users\\jeongbin\\Projects\\LandValue_project\\venv\\lib\\site-packages\\pytorch_tabnet\\callbacks.py:172: UserWarning: Best weights from best epoch are automatically used!\n",
            "  warnings.warn(wrn_msg)\n",
            "🔍 TabNet Tuning Progress:  60%|██████    | 3/5 [1:18:55<46:22, 1391.34s/it]  [I 2025-05-24 09:52:38,734] Trial 2 finished with value: 0.008407873176965461 and parameters: {'lambda_sparse': 0.0001409525021766939, 'lr': 0.08670183254700944, 'batch_size': 1024, 'virtual_batch_size': 256}. Best is trial 0 with value: 0.007758764285731629.\n"
          ]
        },
        {
          "name": "stdout",
          "output_type": "stream",
          "text": [
            "\n",
            "Early stopping occurred at epoch 49 with best_epoch = 39 and best_val_0_rmse = 0.00826\n"
          ]
        },
        {
          "name": "stderr",
          "output_type": "stream",
          "text": [
            "c:\\Users\\jeongbin\\Projects\\LandValue_project\\venv\\lib\\site-packages\\pytorch_tabnet\\callbacks.py:172: UserWarning: Best weights from best epoch are automatically used!\n",
            "  warnings.warn(wrn_msg)\n",
            "🔍 TabNet Tuning Progress:  80%|████████  | 4/5 [1:41:45<23:02, 1382.93s/it][I 2025-05-24 10:15:28,766] Trial 3 finished with value: 0.008255294904367792 and parameters: {'lambda_sparse': 2.8736561718466345e-05, 'lr': 0.09718973964557401, 'batch_size': 2048, 'virtual_batch_size': 128}. Best is trial 0 with value: 0.007758764285731629.\n"
          ]
        },
        {
          "name": "stdout",
          "output_type": "stream",
          "text": [
            "Stop training because you reached max_epochs = 100 with best_epoch = 98 and best_val_0_rmse = 0.01224\n"
          ]
        },
        {
          "name": "stderr",
          "output_type": "stream",
          "text": [
            "c:\\Users\\jeongbin\\Projects\\LandValue_project\\venv\\lib\\site-packages\\pytorch_tabnet\\callbacks.py:172: UserWarning: Best weights from best epoch are automatically used!\n",
            "  warnings.warn(wrn_msg)\n",
            "[W 2025-05-24 11:10:47,360] Trial 4 failed with parameters: {'lambda_sparse': 5.4685178076795676e-05, 'lr': 0.00027093081582010576, 'batch_size': 2048, 'virtual_batch_size': 64} because of the following error: MemoryError((278528, 89), dtype('float64')).\n",
            "Traceback (most recent call last):\n",
            "  File \"c:\\Users\\jeongbin\\Projects\\LandValue_project\\venv\\lib\\site-packages\\optuna\\study\\_optimize.py\", line 197, in _run_trial\n",
            "    value_or_values = func(trial)\n",
            "  File \"C:\\Users\\jeongbin\\AppData\\Local\\Temp\\ipykernel_4760\\550073449.py\", line 27, in objective_hyper\n",
            "    model.fit(\n",
            "  File \"c:\\Users\\jeongbin\\Projects\\LandValue_project\\venv\\lib\\site-packages\\pytorch_tabnet\\abstract_model.py\", line 278, in fit\n",
            "    self.feature_importances_ = self._compute_feature_importances(X_train)\n",
            "  File \"c:\\Users\\jeongbin\\Projects\\LandValue_project\\venv\\lib\\site-packages\\pytorch_tabnet\\abstract_model.py\", line 759, in _compute_feature_importances\n",
            "    M_explain, _ = self.explain(X, normalize=False)\n",
            "  File \"c:\\Users\\jeongbin\\Projects\\LandValue_project\\venv\\lib\\site-packages\\pytorch_tabnet\\abstract_model.py\", line 369, in explain\n",
            "    res_masks[key] = np.vstack([res_masks[key], value])\n",
            "  File \"c:\\Users\\jeongbin\\Projects\\LandValue_project\\venv\\lib\\site-packages\\numpy\\_core\\shape_base.py\", line 292, in vstack\n",
            "    return _nx.concatenate(arrs, 0, dtype=dtype, casting=casting)\n",
            "numpy._core._exceptions._ArrayMemoryError: Unable to allocate 189. MiB for an array with shape (278528, 89) and data type float64\n",
            "[W 2025-05-24 11:10:47,372] Trial 4 failed with value None.\n"
          ]
        },
        {
          "ename": "MemoryError",
          "evalue": "Unable to allocate 189. MiB for an array with shape (278528, 89) and data type float64",
          "output_type": "error",
          "traceback": [
            "\u001b[1;31m---------------------------------------------------------------------------\u001b[0m",
            "\u001b[1;31mMemoryError\u001b[0m                               Traceback (most recent call last)",
            "Cell \u001b[1;32mIn[3], line 49\u001b[0m\n\u001b[0;32m     47\u001b[0m \u001b[38;5;66;03m# Optuna 튜닝 실행\u001b[39;00m\n\u001b[0;32m     48\u001b[0m study_hyper \u001b[38;5;241m=\u001b[39m optuna\u001b[38;5;241m.\u001b[39mcreate_study(direction\u001b[38;5;241m=\u001b[39m\u001b[38;5;124m\"\u001b[39m\u001b[38;5;124mminimize\u001b[39m\u001b[38;5;124m\"\u001b[39m)\n\u001b[1;32m---> 49\u001b[0m \u001b[43mstudy_hyper\u001b[49m\u001b[38;5;241;43m.\u001b[39;49m\u001b[43moptimize\u001b[49m\u001b[43m(\u001b[49m\u001b[43mobjective_hyper\u001b[49m\u001b[43m,\u001b[49m\u001b[43m \u001b[49m\u001b[43mn_trials\u001b[49m\u001b[38;5;241;43m=\u001b[39;49m\u001b[43mNUM_TRIALS\u001b[49m\u001b[43m)\u001b[49m\n\u001b[0;32m     51\u001b[0m \u001b[38;5;66;03m# 결과 출력\u001b[39;00m\n\u001b[0;32m     52\u001b[0m \u001b[38;5;28mprint\u001b[39m(\u001b[38;5;124m\"\u001b[39m\u001b[38;5;124m📌 Best RMSE:\u001b[39m\u001b[38;5;124m\"\u001b[39m, study_hyper\u001b[38;5;241m.\u001b[39mbest_value)\n",
            "File \u001b[1;32mc:\\Users\\jeongbin\\Projects\\LandValue_project\\venv\\lib\\site-packages\\optuna\\study\\study.py:475\u001b[0m, in \u001b[0;36mStudy.optimize\u001b[1;34m(self, func, n_trials, timeout, n_jobs, catch, callbacks, gc_after_trial, show_progress_bar)\u001b[0m\n\u001b[0;32m    373\u001b[0m \u001b[38;5;28;01mdef\u001b[39;00m\u001b[38;5;250m \u001b[39m\u001b[38;5;21moptimize\u001b[39m(\n\u001b[0;32m    374\u001b[0m     \u001b[38;5;28mself\u001b[39m,\n\u001b[0;32m    375\u001b[0m     func: ObjectiveFuncType,\n\u001b[1;32m   (...)\u001b[0m\n\u001b[0;32m    382\u001b[0m     show_progress_bar: \u001b[38;5;28mbool\u001b[39m \u001b[38;5;241m=\u001b[39m \u001b[38;5;28;01mFalse\u001b[39;00m,\n\u001b[0;32m    383\u001b[0m ) \u001b[38;5;241m-\u001b[39m\u001b[38;5;241m>\u001b[39m \u001b[38;5;28;01mNone\u001b[39;00m:\n\u001b[0;32m    384\u001b[0m \u001b[38;5;250m    \u001b[39m\u001b[38;5;124;03m\"\"\"Optimize an objective function.\u001b[39;00m\n\u001b[0;32m    385\u001b[0m \n\u001b[0;32m    386\u001b[0m \u001b[38;5;124;03m    Optimization is done by choosing a suitable set of hyperparameter values from a given\u001b[39;00m\n\u001b[1;32m   (...)\u001b[0m\n\u001b[0;32m    473\u001b[0m \u001b[38;5;124;03m            If nested invocation of this method occurs.\u001b[39;00m\n\u001b[0;32m    474\u001b[0m \u001b[38;5;124;03m    \"\"\"\u001b[39;00m\n\u001b[1;32m--> 475\u001b[0m     \u001b[43m_optimize\u001b[49m\u001b[43m(\u001b[49m\n\u001b[0;32m    476\u001b[0m \u001b[43m        \u001b[49m\u001b[43mstudy\u001b[49m\u001b[38;5;241;43m=\u001b[39;49m\u001b[38;5;28;43mself\u001b[39;49m\u001b[43m,\u001b[49m\n\u001b[0;32m    477\u001b[0m \u001b[43m        \u001b[49m\u001b[43mfunc\u001b[49m\u001b[38;5;241;43m=\u001b[39;49m\u001b[43mfunc\u001b[49m\u001b[43m,\u001b[49m\n\u001b[0;32m    478\u001b[0m \u001b[43m        \u001b[49m\u001b[43mn_trials\u001b[49m\u001b[38;5;241;43m=\u001b[39;49m\u001b[43mn_trials\u001b[49m\u001b[43m,\u001b[49m\n\u001b[0;32m    479\u001b[0m \u001b[43m        \u001b[49m\u001b[43mtimeout\u001b[49m\u001b[38;5;241;43m=\u001b[39;49m\u001b[43mtimeout\u001b[49m\u001b[43m,\u001b[49m\n\u001b[0;32m    480\u001b[0m \u001b[43m        \u001b[49m\u001b[43mn_jobs\u001b[49m\u001b[38;5;241;43m=\u001b[39;49m\u001b[43mn_jobs\u001b[49m\u001b[43m,\u001b[49m\n\u001b[0;32m    481\u001b[0m \u001b[43m        \u001b[49m\u001b[43mcatch\u001b[49m\u001b[38;5;241;43m=\u001b[39;49m\u001b[38;5;28;43mtuple\u001b[39;49m\u001b[43m(\u001b[49m\u001b[43mcatch\u001b[49m\u001b[43m)\u001b[49m\u001b[43m \u001b[49m\u001b[38;5;28;43;01mif\u001b[39;49;00m\u001b[43m \u001b[49m\u001b[38;5;28;43misinstance\u001b[39;49m\u001b[43m(\u001b[49m\u001b[43mcatch\u001b[49m\u001b[43m,\u001b[49m\u001b[43m \u001b[49m\u001b[43mIterable\u001b[49m\u001b[43m)\u001b[49m\u001b[43m \u001b[49m\u001b[38;5;28;43;01melse\u001b[39;49;00m\u001b[43m \u001b[49m\u001b[43m(\u001b[49m\u001b[43mcatch\u001b[49m\u001b[43m,\u001b[49m\u001b[43m)\u001b[49m\u001b[43m,\u001b[49m\n\u001b[0;32m    482\u001b[0m \u001b[43m        \u001b[49m\u001b[43mcallbacks\u001b[49m\u001b[38;5;241;43m=\u001b[39;49m\u001b[43mcallbacks\u001b[49m\u001b[43m,\u001b[49m\n\u001b[0;32m    483\u001b[0m \u001b[43m        \u001b[49m\u001b[43mgc_after_trial\u001b[49m\u001b[38;5;241;43m=\u001b[39;49m\u001b[43mgc_after_trial\u001b[49m\u001b[43m,\u001b[49m\n\u001b[0;32m    484\u001b[0m \u001b[43m        \u001b[49m\u001b[43mshow_progress_bar\u001b[49m\u001b[38;5;241;43m=\u001b[39;49m\u001b[43mshow_progress_bar\u001b[49m\u001b[43m,\u001b[49m\n\u001b[0;32m    485\u001b[0m \u001b[43m    \u001b[49m\u001b[43m)\u001b[49m\n",
            "File \u001b[1;32mc:\\Users\\jeongbin\\Projects\\LandValue_project\\venv\\lib\\site-packages\\optuna\\study\\_optimize.py:63\u001b[0m, in \u001b[0;36m_optimize\u001b[1;34m(study, func, n_trials, timeout, n_jobs, catch, callbacks, gc_after_trial, show_progress_bar)\u001b[0m\n\u001b[0;32m     61\u001b[0m \u001b[38;5;28;01mtry\u001b[39;00m:\n\u001b[0;32m     62\u001b[0m     \u001b[38;5;28;01mif\u001b[39;00m n_jobs \u001b[38;5;241m==\u001b[39m \u001b[38;5;241m1\u001b[39m:\n\u001b[1;32m---> 63\u001b[0m         \u001b[43m_optimize_sequential\u001b[49m\u001b[43m(\u001b[49m\n\u001b[0;32m     64\u001b[0m \u001b[43m            \u001b[49m\u001b[43mstudy\u001b[49m\u001b[43m,\u001b[49m\n\u001b[0;32m     65\u001b[0m \u001b[43m            \u001b[49m\u001b[43mfunc\u001b[49m\u001b[43m,\u001b[49m\n\u001b[0;32m     66\u001b[0m \u001b[43m            \u001b[49m\u001b[43mn_trials\u001b[49m\u001b[43m,\u001b[49m\n\u001b[0;32m     67\u001b[0m \u001b[43m            \u001b[49m\u001b[43mtimeout\u001b[49m\u001b[43m,\u001b[49m\n\u001b[0;32m     68\u001b[0m \u001b[43m            \u001b[49m\u001b[43mcatch\u001b[49m\u001b[43m,\u001b[49m\n\u001b[0;32m     69\u001b[0m \u001b[43m            \u001b[49m\u001b[43mcallbacks\u001b[49m\u001b[43m,\u001b[49m\n\u001b[0;32m     70\u001b[0m \u001b[43m            \u001b[49m\u001b[43mgc_after_trial\u001b[49m\u001b[43m,\u001b[49m\n\u001b[0;32m     71\u001b[0m \u001b[43m            \u001b[49m\u001b[43mreseed_sampler_rng\u001b[49m\u001b[38;5;241;43m=\u001b[39;49m\u001b[38;5;28;43;01mFalse\u001b[39;49;00m\u001b[43m,\u001b[49m\n\u001b[0;32m     72\u001b[0m \u001b[43m            \u001b[49m\u001b[43mtime_start\u001b[49m\u001b[38;5;241;43m=\u001b[39;49m\u001b[38;5;28;43;01mNone\u001b[39;49;00m\u001b[43m,\u001b[49m\n\u001b[0;32m     73\u001b[0m \u001b[43m            \u001b[49m\u001b[43mprogress_bar\u001b[49m\u001b[38;5;241;43m=\u001b[39;49m\u001b[43mprogress_bar\u001b[49m\u001b[43m,\u001b[49m\n\u001b[0;32m     74\u001b[0m \u001b[43m        \u001b[49m\u001b[43m)\u001b[49m\n\u001b[0;32m     75\u001b[0m     \u001b[38;5;28;01melse\u001b[39;00m:\n\u001b[0;32m     76\u001b[0m         \u001b[38;5;28;01mif\u001b[39;00m n_jobs \u001b[38;5;241m==\u001b[39m \u001b[38;5;241m-\u001b[39m\u001b[38;5;241m1\u001b[39m:\n",
            "File \u001b[1;32mc:\\Users\\jeongbin\\Projects\\LandValue_project\\venv\\lib\\site-packages\\optuna\\study\\_optimize.py:160\u001b[0m, in \u001b[0;36m_optimize_sequential\u001b[1;34m(study, func, n_trials, timeout, catch, callbacks, gc_after_trial, reseed_sampler_rng, time_start, progress_bar)\u001b[0m\n\u001b[0;32m    157\u001b[0m         \u001b[38;5;28;01mbreak\u001b[39;00m\n\u001b[0;32m    159\u001b[0m \u001b[38;5;28;01mtry\u001b[39;00m:\n\u001b[1;32m--> 160\u001b[0m     frozen_trial \u001b[38;5;241m=\u001b[39m \u001b[43m_run_trial\u001b[49m\u001b[43m(\u001b[49m\u001b[43mstudy\u001b[49m\u001b[43m,\u001b[49m\u001b[43m \u001b[49m\u001b[43mfunc\u001b[49m\u001b[43m,\u001b[49m\u001b[43m \u001b[49m\u001b[43mcatch\u001b[49m\u001b[43m)\u001b[49m\n\u001b[0;32m    161\u001b[0m \u001b[38;5;28;01mfinally\u001b[39;00m:\n\u001b[0;32m    162\u001b[0m     \u001b[38;5;66;03m# The following line mitigates memory problems that can be occurred in some\u001b[39;00m\n\u001b[0;32m    163\u001b[0m     \u001b[38;5;66;03m# environments (e.g., services that use computing containers such as GitHub Actions).\u001b[39;00m\n\u001b[0;32m    164\u001b[0m     \u001b[38;5;66;03m# Please refer to the following PR for further details:\u001b[39;00m\n\u001b[0;32m    165\u001b[0m     \u001b[38;5;66;03m# https://github.com/optuna/optuna/pull/325.\u001b[39;00m\n\u001b[0;32m    166\u001b[0m     \u001b[38;5;28;01mif\u001b[39;00m gc_after_trial:\n",
            "File \u001b[1;32mc:\\Users\\jeongbin\\Projects\\LandValue_project\\venv\\lib\\site-packages\\optuna\\study\\_optimize.py:248\u001b[0m, in \u001b[0;36m_run_trial\u001b[1;34m(study, func, catch)\u001b[0m\n\u001b[0;32m    241\u001b[0m         \u001b[38;5;28;01massert\u001b[39;00m \u001b[38;5;28;01mFalse\u001b[39;00m, \u001b[38;5;124m\"\u001b[39m\u001b[38;5;124mShould not reach.\u001b[39m\u001b[38;5;124m\"\u001b[39m\n\u001b[0;32m    243\u001b[0m \u001b[38;5;28;01mif\u001b[39;00m (\n\u001b[0;32m    244\u001b[0m     frozen_trial\u001b[38;5;241m.\u001b[39mstate \u001b[38;5;241m==\u001b[39m TrialState\u001b[38;5;241m.\u001b[39mFAIL\n\u001b[0;32m    245\u001b[0m     \u001b[38;5;129;01mand\u001b[39;00m func_err \u001b[38;5;129;01mis\u001b[39;00m \u001b[38;5;129;01mnot\u001b[39;00m \u001b[38;5;28;01mNone\u001b[39;00m\n\u001b[0;32m    246\u001b[0m     \u001b[38;5;129;01mand\u001b[39;00m \u001b[38;5;129;01mnot\u001b[39;00m \u001b[38;5;28misinstance\u001b[39m(func_err, catch)\n\u001b[0;32m    247\u001b[0m ):\n\u001b[1;32m--> 248\u001b[0m     \u001b[38;5;28;01mraise\u001b[39;00m func_err\n\u001b[0;32m    249\u001b[0m \u001b[38;5;28;01mreturn\u001b[39;00m frozen_trial\n",
            "File \u001b[1;32mc:\\Users\\jeongbin\\Projects\\LandValue_project\\venv\\lib\\site-packages\\optuna\\study\\_optimize.py:197\u001b[0m, in \u001b[0;36m_run_trial\u001b[1;34m(study, func, catch)\u001b[0m\n\u001b[0;32m    195\u001b[0m \u001b[38;5;28;01mwith\u001b[39;00m get_heartbeat_thread(trial\u001b[38;5;241m.\u001b[39m_trial_id, study\u001b[38;5;241m.\u001b[39m_storage):\n\u001b[0;32m    196\u001b[0m     \u001b[38;5;28;01mtry\u001b[39;00m:\n\u001b[1;32m--> 197\u001b[0m         value_or_values \u001b[38;5;241m=\u001b[39m \u001b[43mfunc\u001b[49m\u001b[43m(\u001b[49m\u001b[43mtrial\u001b[49m\u001b[43m)\u001b[49m\n\u001b[0;32m    198\u001b[0m     \u001b[38;5;28;01mexcept\u001b[39;00m exceptions\u001b[38;5;241m.\u001b[39mTrialPruned \u001b[38;5;28;01mas\u001b[39;00m e:\n\u001b[0;32m    199\u001b[0m         \u001b[38;5;66;03m# TODO(mamu): Handle multi-objective cases.\u001b[39;00m\n\u001b[0;32m    200\u001b[0m         state \u001b[38;5;241m=\u001b[39m TrialState\u001b[38;5;241m.\u001b[39mPRUNED\n",
            "Cell \u001b[1;32mIn[3], line 27\u001b[0m, in \u001b[0;36mobjective_hyper\u001b[1;34m(trial)\u001b[0m\n\u001b[0;32m     12\u001b[0m \u001b[38;5;28;01mdef\u001b[39;00m\u001b[38;5;250m \u001b[39m\u001b[38;5;21mobjective_hyper\u001b[39m(trial):\n\u001b[0;32m     13\u001b[0m     model \u001b[38;5;241m=\u001b[39m TabNetRegressor(\n\u001b[0;32m     14\u001b[0m         n_d\u001b[38;5;241m=\u001b[39m\u001b[38;5;241m16\u001b[39m,  \u001b[38;5;66;03m# 고정\u001b[39;00m\n\u001b[0;32m     15\u001b[0m         n_a\u001b[38;5;241m=\u001b[39m\u001b[38;5;241m8\u001b[39m,   \u001b[38;5;66;03m# 고정\u001b[39;00m\n\u001b[1;32m   (...)\u001b[0m\n\u001b[0;32m     24\u001b[0m         device_name\u001b[38;5;241m=\u001b[39m\u001b[38;5;124m\"\u001b[39m\u001b[38;5;124mcuda\u001b[39m\u001b[38;5;124m\"\u001b[39m \u001b[38;5;28;01mif\u001b[39;00m torch\u001b[38;5;241m.\u001b[39mcuda\u001b[38;5;241m.\u001b[39mis_available() \u001b[38;5;28;01melse\u001b[39;00m \u001b[38;5;124m\"\u001b[39m\u001b[38;5;124mcpu\u001b[39m\u001b[38;5;124m\"\u001b[39m\n\u001b[0;32m     25\u001b[0m     )\n\u001b[1;32m---> 27\u001b[0m     \u001b[43mmodel\u001b[49m\u001b[38;5;241;43m.\u001b[39;49m\u001b[43mfit\u001b[49m\u001b[43m(\u001b[49m\n\u001b[0;32m     28\u001b[0m \u001b[43m        \u001b[49m\u001b[43mX_train\u001b[49m\u001b[38;5;241;43m=\u001b[39;49m\u001b[43mX_train\u001b[49m\u001b[38;5;241;43m.\u001b[39;49m\u001b[43mvalues\u001b[49m\u001b[43m,\u001b[49m\n\u001b[0;32m     29\u001b[0m \u001b[43m        \u001b[49m\u001b[43my_train\u001b[49m\u001b[38;5;241;43m=\u001b[39;49m\u001b[43my_train\u001b[49m\u001b[43m,\u001b[49m\n\u001b[0;32m     30\u001b[0m \u001b[43m        \u001b[49m\u001b[43meval_set\u001b[49m\u001b[38;5;241;43m=\u001b[39;49m\u001b[43m[\u001b[49m\u001b[43m(\u001b[49m\u001b[43mX_valid\u001b[49m\u001b[38;5;241;43m.\u001b[39;49m\u001b[43mvalues\u001b[49m\u001b[43m,\u001b[49m\u001b[43m \u001b[49m\u001b[43my_valid\u001b[49m\u001b[43m)\u001b[49m\u001b[43m]\u001b[49m\u001b[43m,\u001b[49m\n\u001b[0;32m     31\u001b[0m \u001b[43m        \u001b[49m\u001b[43meval_metric\u001b[49m\u001b[38;5;241;43m=\u001b[39;49m\u001b[43m[\u001b[49m\u001b[38;5;124;43m'\u001b[39;49m\u001b[38;5;124;43mrmse\u001b[39;49m\u001b[38;5;124;43m'\u001b[39;49m\u001b[43m]\u001b[49m\u001b[43m,\u001b[49m\n\u001b[0;32m     32\u001b[0m \u001b[43m        \u001b[49m\u001b[43mmax_epochs\u001b[49m\u001b[38;5;241;43m=\u001b[39;49m\u001b[38;5;241;43m100\u001b[39;49m\u001b[43m,\u001b[49m\n\u001b[0;32m     33\u001b[0m \u001b[43m        \u001b[49m\u001b[43mpatience\u001b[49m\u001b[38;5;241;43m=\u001b[39;49m\u001b[38;5;241;43m10\u001b[39;49m\u001b[43m,\u001b[49m\n\u001b[0;32m     34\u001b[0m \u001b[43m        \u001b[49m\u001b[43mbatch_size\u001b[49m\u001b[38;5;241;43m=\u001b[39;49m\u001b[43mtrial\u001b[49m\u001b[38;5;241;43m.\u001b[39;49m\u001b[43msuggest_categorical\u001b[49m\u001b[43m(\u001b[49m\u001b[38;5;124;43m\"\u001b[39;49m\u001b[38;5;124;43mbatch_size\u001b[39;49m\u001b[38;5;124;43m\"\u001b[39;49m\u001b[43m,\u001b[49m\u001b[43m \u001b[49m\u001b[43m[\u001b[49m\u001b[38;5;241;43m1024\u001b[39;49m\u001b[43m,\u001b[49m\u001b[43m \u001b[49m\u001b[38;5;241;43m2048\u001b[39;49m\u001b[43m]\u001b[49m\u001b[43m)\u001b[49m\u001b[43m,\u001b[49m\n\u001b[0;32m     35\u001b[0m \u001b[43m        \u001b[49m\u001b[43mvirtual_batch_size\u001b[49m\u001b[38;5;241;43m=\u001b[39;49m\u001b[43mtrial\u001b[49m\u001b[38;5;241;43m.\u001b[39;49m\u001b[43msuggest_categorical\u001b[49m\u001b[43m(\u001b[49m\u001b[38;5;124;43m\"\u001b[39;49m\u001b[38;5;124;43mvirtual_batch_size\u001b[39;49m\u001b[38;5;124;43m\"\u001b[39;49m\u001b[43m,\u001b[49m\u001b[43m \u001b[49m\u001b[43m[\u001b[49m\u001b[38;5;241;43m64\u001b[39;49m\u001b[43m,\u001b[49m\u001b[43m \u001b[49m\u001b[38;5;241;43m128\u001b[39;49m\u001b[43m,\u001b[49m\u001b[38;5;241;43m256\u001b[39;49m\u001b[43m]\u001b[49m\u001b[43m)\u001b[49m\n\u001b[0;32m     36\u001b[0m \u001b[43m    \u001b[49m\u001b[43m)\u001b[49m\n\u001b[0;32m     38\u001b[0m     preds \u001b[38;5;241m=\u001b[39m model\u001b[38;5;241m.\u001b[39mpredict(X_valid\u001b[38;5;241m.\u001b[39mvalues)\u001b[38;5;241m.\u001b[39msqueeze()  \u001b[38;5;66;03m# << 먼저 예측\u001b[39;00m\n\u001b[0;32m     39\u001b[0m     mse \u001b[38;5;241m=\u001b[39m mean_squared_error(y_valid, preds)\n",
            "File \u001b[1;32mc:\\Users\\jeongbin\\Projects\\LandValue_project\\venv\\lib\\site-packages\\pytorch_tabnet\\abstract_model.py:278\u001b[0m, in \u001b[0;36mTabModel.fit\u001b[1;34m(self, X_train, y_train, eval_set, eval_name, eval_metric, loss_fn, weights, max_epochs, patience, batch_size, virtual_batch_size, num_workers, drop_last, callbacks, pin_memory, from_unsupervised, warm_start, augmentations, compute_importance)\u001b[0m\n\u001b[0;32m    274\u001b[0m \u001b[38;5;28mself\u001b[39m\u001b[38;5;241m.\u001b[39mnetwork\u001b[38;5;241m.\u001b[39meval()\n\u001b[0;32m    276\u001b[0m \u001b[38;5;28;01mif\u001b[39;00m \u001b[38;5;28mself\u001b[39m\u001b[38;5;241m.\u001b[39mcompute_importance:\n\u001b[0;32m    277\u001b[0m     \u001b[38;5;66;03m# compute feature importance once the best model is defined\u001b[39;00m\n\u001b[1;32m--> 278\u001b[0m     \u001b[38;5;28mself\u001b[39m\u001b[38;5;241m.\u001b[39mfeature_importances_ \u001b[38;5;241m=\u001b[39m \u001b[38;5;28;43mself\u001b[39;49m\u001b[38;5;241;43m.\u001b[39;49m\u001b[43m_compute_feature_importances\u001b[49m\u001b[43m(\u001b[49m\u001b[43mX_train\u001b[49m\u001b[43m)\u001b[49m\n",
            "File \u001b[1;32mc:\\Users\\jeongbin\\Projects\\LandValue_project\\venv\\lib\\site-packages\\pytorch_tabnet\\abstract_model.py:759\u001b[0m, in \u001b[0;36mTabModel._compute_feature_importances\u001b[1;34m(self, X)\u001b[0m\n\u001b[0;32m    750\u001b[0m \u001b[38;5;28;01mdef\u001b[39;00m\u001b[38;5;250m \u001b[39m\u001b[38;5;21m_compute_feature_importances\u001b[39m(\u001b[38;5;28mself\u001b[39m, X):\n\u001b[0;32m    751\u001b[0m \u001b[38;5;250m    \u001b[39m\u001b[38;5;124;03m\"\"\"Compute global feature importance.\u001b[39;00m\n\u001b[0;32m    752\u001b[0m \n\u001b[0;32m    753\u001b[0m \u001b[38;5;124;03m    Parameters\u001b[39;00m\n\u001b[1;32m   (...)\u001b[0m\n\u001b[0;32m    757\u001b[0m \n\u001b[0;32m    758\u001b[0m \u001b[38;5;124;03m    \"\"\"\u001b[39;00m\n\u001b[1;32m--> 759\u001b[0m     M_explain, _ \u001b[38;5;241m=\u001b[39m \u001b[38;5;28;43mself\u001b[39;49m\u001b[38;5;241;43m.\u001b[39;49m\u001b[43mexplain\u001b[49m\u001b[43m(\u001b[49m\u001b[43mX\u001b[49m\u001b[43m,\u001b[49m\u001b[43m \u001b[49m\u001b[43mnormalize\u001b[49m\u001b[38;5;241;43m=\u001b[39;49m\u001b[38;5;28;43;01mFalse\u001b[39;49;00m\u001b[43m)\u001b[49m\n\u001b[0;32m    760\u001b[0m     sum_explain \u001b[38;5;241m=\u001b[39m M_explain\u001b[38;5;241m.\u001b[39msum(axis\u001b[38;5;241m=\u001b[39m\u001b[38;5;241m0\u001b[39m)\n\u001b[0;32m    761\u001b[0m     feature_importances_ \u001b[38;5;241m=\u001b[39m sum_explain \u001b[38;5;241m/\u001b[39m np\u001b[38;5;241m.\u001b[39msum(sum_explain)\n",
            "File \u001b[1;32mc:\\Users\\jeongbin\\Projects\\LandValue_project\\venv\\lib\\site-packages\\pytorch_tabnet\\abstract_model.py:369\u001b[0m, in \u001b[0;36mTabModel.explain\u001b[1;34m(self, X, normalize)\u001b[0m\n\u001b[0;32m    367\u001b[0m     \u001b[38;5;28;01melse\u001b[39;00m:\n\u001b[0;32m    368\u001b[0m         \u001b[38;5;28;01mfor\u001b[39;00m key, value \u001b[38;5;129;01min\u001b[39;00m masks\u001b[38;5;241m.\u001b[39mitems():\n\u001b[1;32m--> 369\u001b[0m             res_masks[key] \u001b[38;5;241m=\u001b[39m \u001b[43mnp\u001b[49m\u001b[38;5;241;43m.\u001b[39;49m\u001b[43mvstack\u001b[49m\u001b[43m(\u001b[49m\u001b[43m[\u001b[49m\u001b[43mres_masks\u001b[49m\u001b[43m[\u001b[49m\u001b[43mkey\u001b[49m\u001b[43m]\u001b[49m\u001b[43m,\u001b[49m\u001b[43m \u001b[49m\u001b[43mvalue\u001b[49m\u001b[43m]\u001b[49m\u001b[43m)\u001b[49m\n\u001b[0;32m    371\u001b[0m res_explain \u001b[38;5;241m=\u001b[39m np\u001b[38;5;241m.\u001b[39mvstack(res_explain)\n\u001b[0;32m    373\u001b[0m \u001b[38;5;28;01mif\u001b[39;00m normalize:\n",
            "File \u001b[1;32mc:\\Users\\jeongbin\\Projects\\LandValue_project\\venv\\lib\\site-packages\\numpy\\_core\\shape_base.py:292\u001b[0m, in \u001b[0;36mvstack\u001b[1;34m(tup, dtype, casting)\u001b[0m\n\u001b[0;32m    290\u001b[0m \u001b[38;5;28;01mif\u001b[39;00m \u001b[38;5;129;01mnot\u001b[39;00m \u001b[38;5;28misinstance\u001b[39m(arrs, \u001b[38;5;28mtuple\u001b[39m):\n\u001b[0;32m    291\u001b[0m     arrs \u001b[38;5;241m=\u001b[39m (arrs,)\n\u001b[1;32m--> 292\u001b[0m \u001b[38;5;28;01mreturn\u001b[39;00m \u001b[43m_nx\u001b[49m\u001b[38;5;241;43m.\u001b[39;49m\u001b[43mconcatenate\u001b[49m\u001b[43m(\u001b[49m\u001b[43marrs\u001b[49m\u001b[43m,\u001b[49m\u001b[43m \u001b[49m\u001b[38;5;241;43m0\u001b[39;49m\u001b[43m,\u001b[49m\u001b[43m \u001b[49m\u001b[43mdtype\u001b[49m\u001b[38;5;241;43m=\u001b[39;49m\u001b[43mdtype\u001b[49m\u001b[43m,\u001b[49m\u001b[43m \u001b[49m\u001b[43mcasting\u001b[49m\u001b[38;5;241;43m=\u001b[39;49m\u001b[43mcasting\u001b[49m\u001b[43m)\u001b[49m\n",
            "\u001b[1;31mMemoryError\u001b[0m: Unable to allocate 189. MiB for an array with shape (278528, 89) and data type float64"
          ]
        }
      ],
      "source": [
        "# 하이퍼 파라미터 탐색\n",
        "\n",
        "from pytorch_tabnet.tab_model import TabNetRegressor\n",
        "from sklearn.metrics import mean_squared_error, r2_score\n",
        "import optuna\n",
        "import torch\n",
        "from tqdm import tqdm\n",
        "import numpy as np\n",
        "\n",
        "# tqdm 진행률 바\n",
        "NUM_TRIALS = 5\n",
        "pbar = tqdm(total=NUM_TRIALS, desc=\"🔍 TabNet Tuning Progress\")\n",
        "\n",
        "def objective_hyper(trial):\n",
        "    model = TabNetRegressor(\n",
        "        n_d=16,  # 고정\n",
        "        n_a=8,   # 고정\n",
        "        n_steps=3,  # 고정\n",
        "        gamma=1.4,  # 고정\n",
        "        lambda_sparse=trial.suggest_float(\"lambda_sparse\", 1e-5, 1e-2, log=True),\n",
        "        optimizer_params=dict(\n",
        "            lr=trial.suggest_float(\"lr\", 1e-4, 1e-1, log=True)\n",
        "        ),\n",
        "        verbose=0,\n",
        "        seed=42,\n",
        "        device_name=\"cuda\" if torch.cuda.is_available() else \"cpu\"\n",
        "    )\n",
        "\n",
        "    model.fit(\n",
        "        X_train=X_train.values,\n",
        "        y_train=y_train,\n",
        "        eval_set=[(X_valid.values, y_valid)],\n",
        "        eval_metric=['rmse'],\n",
        "        max_epochs=100,\n",
        "        patience=10,\n",
        "        batch_size=trial.suggest_categorical(\"batch_size\", [1024, 2048]),\n",
        "        virtual_batch_size=trial.suggest_categorical(\"virtual_batch_size\", [64, 128,256])\n",
        "        compute_importance=False\n",
        "    )\n",
        "\n",
        "    preds = model.predict(X_valid.values).squeeze()  # << 먼저 예측\n",
        "    mse = mean_squared_error(y_valid, preds)\n",
        "    rmse = np.sqrt(mse)\n",
        "    r2 = r2_score(y_valid, preds)\n",
        "\n",
        "    trial.set_user_attr(\"r2\", r2)\n",
        "    pbar.update(1)\n",
        "    return rmse\n",
        "\n",
        "# Optuna 튜닝 실행\n",
        "study_hyper = optuna.create_study(direction=\"minimize\")\n",
        "study_hyper.optimize(objective_hyper, n_trials=NUM_TRIALS)\n",
        "\n",
        "# 결과 출력\n",
        "print(\"📌 Best RMSE:\", study_hyper.best_value)\n",
        "print(\"📌 Best Hyperparams:\", study_hyper.best_params)\n",
        "\n",
        "best_trial = study_hyper.best_trial\n",
        "print(\"📈 Best R²:\", best_trial.user_attrs.get(\"r2\", \"N/A\"))\n",
        "\n",
        "\n"
      ]
    },
    {
      "cell_type": "code",
      "execution_count": null,
      "id": "c123e57f",
      "metadata": {
        "id": "c123e57f",
        "outputId": "724c3cb1-1d03-4a73-bebc-8af6d00ebde3"
      },
      "outputs": [
        {
          "name": "stdout",
          "output_type": "stream",
          "text": [
            "📌 Best RMSE: 0.007758764285731629\n",
            "📌 Best Hyperparams: {'lambda_sparse': 5.314882200191176e-05, 'lr': 0.0018811231971805286, 'batch_size': 1024, 'virtual_batch_size': 256}\n",
            "📈 Best R²: 0.7412711709293286\n"
          ]
        }
      ],
      "source": [
        "# 결과 출력\n",
        "print(\"📌 Best RMSE:\", study_hyper.best_value)\n",
        "print(\"📌 Best Hyperparams:\", study_hyper.best_params)\n",
        "\n",
        "best_trial = study_hyper.best_trial\n",
        "print(\"📈 Best R²:\", best_trial.user_attrs.get(\"r2\", \"N/A\"))\n"
      ]
    },
    {
      "cell_type": "markdown",
      "id": "f800d65b",
      "metadata": {
        "id": "f800d65b"
      },
      "source": [
        "### 메모리 부족으로 인해 5회가 아닌 4회동안 기록된 최적값을 이용해 학습 진행"
      ]
    },
    {
      "cell_type": "code",
      "execution_count": null,
      "id": "17ec1770",
      "metadata": {
        "id": "17ec1770",
        "outputId": "6caede03-c616-4c3a-b2be-9119b5da8e6f"
      },
      "outputs": [
        {
          "name": "stdout",
          "output_type": "stream",
          "text": [
            "epoch 0  | loss: 0.36183 | val_0_rmse: 0.04153 |  0:00:27s\n",
            "epoch 1  | loss: 0.00359 | val_0_rmse: 0.03013 |  0:00:52s\n",
            "epoch 2  | loss: 0.00152 | val_0_rmse: 0.02295 |  0:01:21s\n",
            "epoch 3  | loss: 0.00093 | val_0_rmse: 0.01927 |  0:01:50s\n",
            "epoch 4  | loss: 0.00063 | val_0_rmse: 0.01751 |  0:02:20s\n",
            "epoch 5  | loss: 0.00049 | val_0_rmse: 0.01618 |  0:02:48s\n",
            "epoch 6  | loss: 0.0004  | val_0_rmse: 0.01563 |  0:03:18s\n",
            "epoch 7  | loss: 0.00037 | val_0_rmse: 0.0147  |  0:03:47s\n",
            "epoch 8  | loss: 0.00033 | val_0_rmse: 0.01432 |  0:04:14s\n",
            "epoch 9  | loss: 0.00031 | val_0_rmse: 0.014   |  0:04:43s\n",
            "epoch 10 | loss: 0.00029 | val_0_rmse: 0.01378 |  0:05:10s\n",
            "epoch 11 | loss: 0.00028 | val_0_rmse: 0.01378 |  0:05:39s\n",
            "epoch 12 | loss: 0.00027 | val_0_rmse: 0.01364 |  0:06:07s\n",
            "epoch 13 | loss: 0.00027 | val_0_rmse: 0.0135  |  0:06:35s\n",
            "epoch 14 | loss: 0.00026 | val_0_rmse: 0.01349 |  0:07:02s\n",
            "epoch 15 | loss: 0.00026 | val_0_rmse: 0.0135  |  0:07:31s\n",
            "epoch 16 | loss: 0.00026 | val_0_rmse: 0.01353 |  0:08:01s\n",
            "epoch 17 | loss: 0.00025 | val_0_rmse: 0.01332 |  0:08:31s\n",
            "epoch 18 | loss: 0.00025 | val_0_rmse: 0.01326 |  0:08:59s\n",
            "epoch 19 | loss: 0.00024 | val_0_rmse: 0.01273 |  0:09:27s\n",
            "epoch 20 | loss: 0.00023 | val_0_rmse: 0.01253 |  0:09:58s\n",
            "epoch 21 | loss: 0.00023 | val_0_rmse: 0.01226 |  0:10:26s\n",
            "epoch 22 | loss: 0.00022 | val_0_rmse: 0.01248 |  0:10:55s\n",
            "epoch 23 | loss: 0.00021 | val_0_rmse: 0.01178 |  0:11:23s\n",
            "epoch 24 | loss: 0.00021 | val_0_rmse: 0.01173 |  0:11:50s\n",
            "epoch 25 | loss: 0.00021 | val_0_rmse: 0.01183 |  0:12:19s\n",
            "epoch 26 | loss: 0.0002  | val_0_rmse: 0.01152 |  0:12:47s\n",
            "epoch 27 | loss: 0.00019 | val_0_rmse: 0.01116 |  0:13:17s\n",
            "epoch 28 | loss: 0.00019 | val_0_rmse: 0.01078 |  0:13:45s\n",
            "epoch 29 | loss: 0.00018 | val_0_rmse: 0.01051 |  0:14:13s\n",
            "epoch 30 | loss: 0.00017 | val_0_rmse: 0.01028 |  0:14:41s\n",
            "epoch 31 | loss: 0.00016 | val_0_rmse: 0.01012 |  0:15:13s\n",
            "epoch 32 | loss: 0.00016 | val_0_rmse: 0.01016 |  0:15:42s\n",
            "epoch 33 | loss: 0.00015 | val_0_rmse: 0.01023 |  0:16:10s\n",
            "epoch 34 | loss: 0.00015 | val_0_rmse: 0.01006 |  0:16:41s\n",
            "epoch 35 | loss: 0.00015 | val_0_rmse: 0.00974 |  0:17:15s\n",
            "epoch 36 | loss: 0.00014 | val_0_rmse: 0.00965 |  0:17:51s\n",
            "epoch 37 | loss: 0.00014 | val_0_rmse: 0.00988 |  0:18:26s\n",
            "epoch 38 | loss: 0.00013 | val_0_rmse: 0.00974 |  0:19:10s\n",
            "epoch 39 | loss: 0.00013 | val_0_rmse: 0.00988 |  0:19:42s\n",
            "epoch 40 | loss: 0.00013 | val_0_rmse: 0.00933 |  0:20:20s\n",
            "epoch 41 | loss: 0.00012 | val_0_rmse: 0.00916 |  0:20:55s\n",
            "epoch 42 | loss: 0.00012 | val_0_rmse: 0.009   |  0:21:34s\n",
            "epoch 43 | loss: 0.00011 | val_0_rmse: 0.00885 |  0:22:14s\n",
            "epoch 44 | loss: 0.00011 | val_0_rmse: 0.00871 |  0:23:05s\n",
            "epoch 45 | loss: 0.00011 | val_0_rmse: 0.00895 |  0:23:46s\n",
            "epoch 46 | loss: 0.0001  | val_0_rmse: 0.00875 |  0:24:25s\n",
            "epoch 47 | loss: 0.0001  | val_0_rmse: 0.00868 |  0:24:58s\n",
            "epoch 48 | loss: 0.0001  | val_0_rmse: 0.00846 |  0:25:25s\n",
            "epoch 49 | loss: 0.0001  | val_0_rmse: 0.00846 |  0:25:52s\n",
            "epoch 50 | loss: 9e-05   | val_0_rmse: 0.00849 |  0:26:19s\n",
            "epoch 51 | loss: 9e-05   | val_0_rmse: 0.00877 |  0:26:46s\n",
            "epoch 52 | loss: 9e-05   | val_0_rmse: 0.00851 |  0:27:14s\n",
            "epoch 53 | loss: 9e-05   | val_0_rmse: 0.00844 |  0:27:41s\n",
            "epoch 54 | loss: 9e-05   | val_0_rmse: 0.00849 |  0:28:08s\n",
            "epoch 55 | loss: 9e-05   | val_0_rmse: 0.00833 |  0:28:35s\n",
            "epoch 56 | loss: 9e-05   | val_0_rmse: 0.00852 |  0:29:02s\n",
            "epoch 57 | loss: 9e-05   | val_0_rmse: 0.00833 |  0:29:29s\n",
            "epoch 58 | loss: 9e-05   | val_0_rmse: 0.00864 |  0:29:57s\n",
            "epoch 59 | loss: 9e-05   | val_0_rmse: 0.00872 |  0:30:24s\n",
            "epoch 60 | loss: 9e-05   | val_0_rmse: 0.00834 |  0:30:51s\n",
            "epoch 61 | loss: 9e-05   | val_0_rmse: 0.00833 |  0:31:18s\n",
            "epoch 62 | loss: 8e-05   | val_0_rmse: 0.00842 |  0:31:44s\n",
            "epoch 63 | loss: 9e-05   | val_0_rmse: 0.00832 |  0:32:11s\n",
            "epoch 64 | loss: 8e-05   | val_0_rmse: 0.00848 |  0:32:39s\n",
            "epoch 65 | loss: 8e-05   | val_0_rmse: 0.00827 |  0:33:06s\n",
            "epoch 66 | loss: 8e-05   | val_0_rmse: 0.00819 |  0:33:33s\n",
            "epoch 67 | loss: 8e-05   | val_0_rmse: 0.00826 |  0:33:59s\n",
            "epoch 68 | loss: 8e-05   | val_0_rmse: 0.00847 |  0:34:26s\n",
            "epoch 69 | loss: 8e-05   | val_0_rmse: 0.00805 |  0:35:26s\n",
            "epoch 70 | loss: 8e-05   | val_0_rmse: 0.00819 |  0:36:07s\n",
            "epoch 71 | loss: 8e-05   | val_0_rmse: 0.00825 |  0:36:35s\n",
            "epoch 72 | loss: 8e-05   | val_0_rmse: 0.00804 |  0:37:01s\n",
            "epoch 73 | loss: 8e-05   | val_0_rmse: 0.00803 |  0:37:29s\n",
            "epoch 74 | loss: 8e-05   | val_0_rmse: 0.00859 |  0:37:56s\n",
            "epoch 75 | loss: 8e-05   | val_0_rmse: 0.00803 |  0:38:26s\n",
            "epoch 76 | loss: 8e-05   | val_0_rmse: 0.00807 |  0:38:53s\n",
            "epoch 77 | loss: 8e-05   | val_0_rmse: 0.00795 |  0:39:20s\n",
            "epoch 78 | loss: 8e-05   | val_0_rmse: 0.00793 |  0:39:47s\n",
            "epoch 79 | loss: 8e-05   | val_0_rmse: 0.00798 |  0:40:20s\n",
            "epoch 80 | loss: 8e-05   | val_0_rmse: 0.00806 |  0:41:08s\n",
            "epoch 81 | loss: 8e-05   | val_0_rmse: 0.00792 |  0:41:41s\n",
            "epoch 82 | loss: 8e-05   | val_0_rmse: 0.00789 |  0:42:18s\n",
            "epoch 83 | loss: 8e-05   | val_0_rmse: 0.00799 |  0:43:08s\n",
            "epoch 84 | loss: 8e-05   | val_0_rmse: 0.00797 |  0:43:40s\n",
            "epoch 85 | loss: 8e-05   | val_0_rmse: 0.00795 |  0:44:07s\n",
            "epoch 86 | loss: 8e-05   | val_0_rmse: 0.00782 |  0:44:34s\n",
            "epoch 87 | loss: 8e-05   | val_0_rmse: 0.00787 |  0:45:02s\n",
            "epoch 88 | loss: 8e-05   | val_0_rmse: 0.0079  |  0:45:29s\n",
            "epoch 89 | loss: 8e-05   | val_0_rmse: 0.00796 |  0:45:57s\n",
            "epoch 90 | loss: 8e-05   | val_0_rmse: 0.00786 |  0:46:24s\n",
            "epoch 91 | loss: 7e-05   | val_0_rmse: 0.00799 |  0:46:51s\n",
            "epoch 92 | loss: 8e-05   | val_0_rmse: 0.00782 |  0:47:17s\n",
            "epoch 93 | loss: 8e-05   | val_0_rmse: 0.00776 |  0:47:45s\n",
            "epoch 94 | loss: 8e-05   | val_0_rmse: 0.00788 |  0:48:12s\n",
            "epoch 95 | loss: 7e-05   | val_0_rmse: 0.0078  |  0:48:39s\n",
            "epoch 96 | loss: 7e-05   | val_0_rmse: 0.00812 |  0:49:09s\n",
            "epoch 97 | loss: 7e-05   | val_0_rmse: 0.00802 |  0:49:42s\n",
            "epoch 98 | loss: 8e-05   | val_0_rmse: 0.0078  |  0:50:13s\n",
            "epoch 99 | loss: 7e-05   | val_0_rmse: 0.00781 |  0:50:39s\n",
            "Stop training because you reached max_epochs = 100 with best_epoch = 93 and best_val_0_rmse = 0.00776\n"
          ]
        },
        {
          "name": "stderr",
          "output_type": "stream",
          "text": [
            "c:\\Users\\jeongbin\\Projects\\LandValue_project\\venv\\lib\\site-packages\\pytorch_tabnet\\callbacks.py:172: UserWarning: Best weights from best epoch are automatically used!\n",
            "  warnings.warn(wrn_msg)\n"
          ]
        },
        {
          "name": "stdout",
          "output_type": "stream",
          "text": [
            "✅ 최종 RMSE: 1568550.27499\n",
            "✅ 최종 R²: 0.65572\n"
          ]
        }
      ],
      "source": [
        "from pytorch_tabnet.tab_model import TabNetRegressor\n",
        "from sklearn.metrics import mean_squared_error, r2_score\n",
        "import torch\n",
        "import numpy as np\n",
        "import os\n",
        "# 저장 경로 지정\n",
        "model_save_path = \"./best_tabnet_model.zip\"\n",
        "# 1. 최적 하이퍼파라미터\n",
        "best_params = {\n",
        "    'lambda_sparse': 5.314882200191176e-05,\n",
        "    'lr': 0.0018811231971805286,\n",
        "    'batch_size': 1024,\n",
        "    'virtual_batch_size': 256\n",
        "}\n",
        "\n",
        "# 2. TabNet 모델 생성\n",
        "model = TabNetRegressor(\n",
        "    n_d=16,\n",
        "    n_a=8,\n",
        "    n_steps=3,\n",
        "    gamma=1.4,\n",
        "    lambda_sparse=best_params['lambda_sparse'],\n",
        "    optimizer_params=dict(lr=best_params['lr']),\n",
        "    verbose=1,\n",
        "    seed=42,\n",
        "    device_name=\"cuda\" if torch.cuda.is_available() else \"cpu\"\n",
        ")\n",
        "\n",
        "# 3. 학습\n",
        "model.fit(\n",
        "    X_train=X_train.values.astype(np.float32),  # float32로 변환해서 메모리 절약\n",
        "    y_train=y_train,\n",
        "    eval_set=[(X_valid.values.astype(np.float32), y_valid)],\n",
        "    eval_metric=['rmse'],\n",
        "    max_epochs=100,\n",
        "    patience=10,\n",
        "    batch_size=best_params['batch_size'],\n",
        "    virtual_batch_size=best_params['virtual_batch_size']\n",
        ")\n",
        "\n",
        "# 4. 예측\n",
        "preds = model.predict(X_test.values.astype(np.float32)).squeeze()\n",
        "\n",
        "# 5. 역정규화\n",
        "y_min = 216.0\n",
        "y_max = 165300000.0\n",
        "\n",
        "preds_inverse = preds * (y_max - y_min) + y_min\n",
        "y_test_inverse = y_test * (y_max - y_min) + y_min\n",
        "\n",
        "# 성능 평가\n",
        "mse = mean_squared_error(y_test_inverse, preds_inverse)\n",
        "rmse = np.sqrt(mse)\n",
        "r2 = r2_score(y_test_inverse, preds_inverse)\n",
        "\n",
        "print(f\"✅ 최종 RMSE: {rmse:.5f}\")\n",
        "print(f\"✅ 최종 R²: {r2:.5f}\")\n"
      ]
    },
    {
      "cell_type": "code",
      "execution_count": null,
      "id": "632ea0ac",
      "metadata": {
        "id": "632ea0ac",
        "outputId": "ea2df567-7f62-4705-c10a-c557917c37bd"
      },
      "outputs": [
        {
          "name": "stdout",
          "output_type": "stream",
          "text": [
            "Successfully saved model at best_tabnet_model.zip\n"
          ]
        },
        {
          "data": {
            "text/plain": [
              "'best_tabnet_model.zip'"
            ]
          },
          "execution_count": 9,
          "metadata": {},
          "output_type": "execute_result"
        }
      ],
      "source": [
        "# 학습 완료된 model 객체 저장\n",
        "model.save_model(\"best_tabnet_model\")\n"
      ]
    },
    {
      "cell_type": "code",
      "execution_count": null,
      "id": "da6c6344",
      "metadata": {
        "id": "da6c6344",
        "outputId": "4cb2bb06-3901-4f3f-ac09-241293e90d45"
      },
      "outputs": [
        {
          "name": "stderr",
          "output_type": "stream",
          "text": [
            "c:\\Users\\jeongbin\\Projects\\LandValue_project\\venv\\lib\\site-packages\\pytorch_tabnet\\abstract_model.py:82: UserWarning: Device used : cpu\n",
            "  warnings.warn(f\"Device used : {self.device}\")\n"
          ]
        },
        {
          "name": "stdout",
          "output_type": "stream",
          "text": [
            "0.6557154562734671\n"
          ]
        }
      ],
      "source": [
        "\"\"\"\n",
        "loaded_model = TabNetRegressor()\n",
        "loaded_model.load_model(\"./model/best_tabnet_model.zip\")\n",
        "\n",
        "# 예측 가능\n",
        "preds = loaded_model.predict(X_test.values.astype(np.float32)).squeeze()\n",
        "r2 = r2_score(y_test, preds)\n",
        "print(r2)\n",
        "\"\"\""
      ]
    },
    {
      "cell_type": "markdown",
      "id": "f05f8b54",
      "metadata": {
        "id": "f05f8b54"
      },
      "source": [
        "### ft-transformer"
      ]
    },
    {
      "cell_type": "code",
      "execution_count": null,
      "id": "BzGLDoZ9_rtj",
      "metadata": {
        "colab": {
          "base_uri": "https://localhost:8080/"
        },
        "id": "BzGLDoZ9_rtj",
        "outputId": "2a6aaed0-d5b7-445f-f1da-6103b916c499"
      },
      "outputs": [
        {
          "name": "stdout",
          "output_type": "stream",
          "text": [
            "변수 0 → 고윳값 개수: 3\n",
            "변수 1 → 고윳값 개수: 15\n",
            "변수 2 → 고윳값 개수: 7\n",
            "변수 3 → 고윳값 개수: 30954\n",
            "변수 4 → 고윳값 개수: 14\n",
            "변수 5 → 고윳값 개수: 9\n",
            "변수 6 → 고윳값 개수: 6\n",
            "변수 7 → 고윳값 개수: 4\n",
            "변수 8 → 고윳값 개수: 6\n",
            "변수 9 → 고윳값 개수: 12\n",
            "변수 10 → 고윳값 개수: 6\n",
            "변수 11 → 고윳값 개수: 3\n",
            "변수 12 → 고윳값 개수: 12\n",
            "변수 13 → 고윳값 개수: 2\n",
            "변수 14 → 고윳값 개수: 3\n"
          ]
        }
      ],
      "source": [
        "import pandas as pd\n",
        "import pickle\n",
        "# ✅ 데이터 로딩\n",
        "with open(\"split_data_ft_transformer.pkl\", \"rb\") as f:\n",
        "    X_train_tensor, X_valid_tensor, X_test_tensor, y_train_tensor, y_valid_tensor, y_test_tensor = pickle.load(f)\n",
        "# 텐서를 DataFrame으로 변환\n",
        "df = pd.DataFrame(X_train_tensor.numpy())\n",
        "\n",
        "# 각 열마다 고윳값 개수 출력\n",
        "for col in df.columns:\n",
        "    unique_count = df[col].nunique()\n",
        "    print(f\"변수 {col} → 고윳값 개수: {unique_count}\")\n"
      ]
    },
    {
      "cell_type": "code",
      "execution_count": null,
      "id": "KCXzq-Q4BgvK",
      "metadata": {
        "colab": {
          "base_uri": "https://localhost:8080/"
        },
        "id": "KCXzq-Q4BgvK",
        "outputId": "6f77b5a8-6d1c-4953-b794-b50ec0052c8b"
      },
      "outputs": [
        {
          "name": "stderr",
          "output_type": "stream",
          "text": [
            "[I 2025-06-07 15:50:59,845] A new study created in memory with name: no-name-7a1507ff-9524-4f09-b93a-4808e4cafb01\n"
          ]
        },
        {
          "name": "stdout",
          "output_type": "stream",
          "text": [
            "Using device: cuda\n"
          ]
        },
        {
          "name": "stderr",
          "output_type": "stream",
          "text": [
            "[I 2025-06-07 16:13:11,165] Trial 0 finished with value: 0.007743737660348415 and parameters: {'d_token': 128, 'n_blocks': 4, 'n_heads': 2, 'dropout': 0.33091364406781176, 'ffn_d_hidden': 512}. Best is trial 0 with value: 0.007743737660348415.\n",
            "[I 2025-06-07 16:23:22,891] Trial 1 finished with value: 0.00785342138260603 and parameters: {'d_token': 32, 'n_blocks': 4, 'n_heads': 4, 'dropout': 0.433636849327123, 'ffn_d_hidden': 128}. Best is trial 0 with value: 0.007743737660348415.\n",
            "[I 2025-06-07 16:29:13,561] Trial 2 finished with value: 0.008003488183021545 and parameters: {'d_token': 64, 'n_blocks': 3, 'n_heads': 4, 'dropout': 0.4855313235003095, 'ffn_d_hidden': 128}. Best is trial 0 with value: 0.007743737660348415.\n",
            "[I 2025-06-07 16:37:35,607] Trial 3 finished with value: 0.007921209558844566 and parameters: {'d_token': 32, 'n_blocks': 4, 'n_heads': 2, 'dropout': 0.4374995274986443, 'ffn_d_hidden': 128}. Best is trial 0 with value: 0.007743737660348415.\n",
            "[I 2025-06-07 17:09:34,092] Trial 4 finished with value: 0.007526722736656666 and parameters: {'d_token': 128, 'n_blocks': 5, 'n_heads': 2, 'dropout': 0.1476045541216017, 'ffn_d_hidden': 128}. Best is trial 4 with value: 0.007526722736656666.\n"
          ]
        },
        {
          "name": "stdout",
          "output_type": "stream",
          "text": [
            "Best trial:\n",
            "FrozenTrial(number=4, state=1, values=[0.007526722736656666], datetime_start=datetime.datetime(2025, 6, 7, 16, 37, 35, 607975), datetime_complete=datetime.datetime(2025, 6, 7, 17, 9, 34, 92038), params={'d_token': 128, 'n_blocks': 5, 'n_heads': 2, 'dropout': 0.1476045541216017, 'ffn_d_hidden': 128}, user_attrs={}, system_attrs={}, intermediate_values={}, distributions={'d_token': CategoricalDistribution(choices=(32, 64, 128)), 'n_blocks': IntDistribution(high=6, log=False, low=2, step=1), 'n_heads': CategoricalDistribution(choices=(2, 4, 8)), 'dropout': FloatDistribution(high=0.5, log=False, low=0.1, step=None), 'ffn_d_hidden': CategoricalDistribution(choices=(128, 256, 512))}, trial_id=4, value=None)\n"
          ]
        }
      ],
      "source": [
        "import pickle\n",
        "import torch\n",
        "import torch.nn as nn\n",
        "import numpy as np\n",
        "from torch.utils.data import DataLoader, TensorDataset\n",
        "from rtdl import FTTransformer\n",
        "import optuna\n",
        "\n",
        "# ✅ GPU 설정 (코랩에서 진행)\n",
        "device = torch.device(\"cuda\" if torch.cuda.is_available() else \"cpu\")\n",
        "print(\"Using device:\", device)\n",
        "\n",
        "# ✅ 데이터 로딩\n",
        "with open(\"split_data_ft_transformer.pkl\", \"rb\") as f:\n",
        "    X_train_tensor, X_valid_tensor, X_test_tensor, y_train_tensor, y_valid_tensor, y_test_tensor = pickle.load(f)\n",
        "\n",
        "# ✅ 연속형: 3번 인덱스만 / 나머지는 범주형\n",
        "num_indices = [3]\n",
        "cat_indices = [i for i in range(X_train_tensor.shape[1]) if i != 3]\n",
        "\n",
        "# ✅ 범주형 변수 고유값 개수\n",
        "cat_cardinalities = [\n",
        "    int(X_train_tensor[:, i].max().item()) + 1\n",
        "    for i in cat_indices\n",
        "]\n",
        "\n",
        "# ✅ 입력 분리 함수\n",
        "def split_features(X_tensor):\n",
        "    x_num = X_tensor[:, num_indices].float()\n",
        "    x_cat = X_tensor[:, cat_indices].long()  #  long() 추가\n",
        "    return x_num, x_cat\n",
        "\n",
        "# ✅ DataLoader 구성\n",
        "train_dataset = TensorDataset(X_train_tensor, y_train_tensor)\n",
        "valid_dataset = TensorDataset(X_valid_tensor, y_valid_tensor)\n",
        "\n",
        "train_loader = DataLoader(train_dataset, batch_size=512, shuffle=True)\n",
        "valid_loader = DataLoader(valid_dataset, batch_size=512, shuffle=False)\n",
        "\n",
        "# ✅ Optuna 목적 함수\n",
        "def objective(trial):\n",
        "    # 하이퍼파라미터 샘플링\n",
        "    d_token = trial.suggest_categorical(\"d_token\", [32, 64, 128])\n",
        "    n_blocks = trial.suggest_int(\"n_blocks\", 2, 6)\n",
        "    n_heads = trial.suggest_categorical(\"n_heads\", [2, 4, 8])\n",
        "    dropout = trial.suggest_float(\"dropout\", 0.1, 0.5)\n",
        "    ffn_d_hidden = trial.suggest_categorical(\"ffn_d_hidden\", [128, 256, 512])\n",
        "\n",
        "    # ✅ 모델 정의\n",
        "    model = FTTransformer.make_baseline(\n",
        "        n_num_features=len(num_indices),\n",
        "        cat_cardinalities=cat_cardinalities,\n",
        "        d_token=d_token,\n",
        "        n_blocks=n_blocks,\n",
        "        attention_dropout=dropout,\n",
        "        ffn_d_hidden=ffn_d_hidden,\n",
        "        ffn_dropout=dropout,\n",
        "        residual_dropout=dropout,\n",
        "        d_out=1\n",
        "    ).to(device)\n",
        "\n",
        "    optimizer = torch.optim.AdamW(model.parameters(), lr=1e-3)\n",
        "    loss_fn = nn.MSELoss()\n",
        "\n",
        "    best_rmse = float(\"inf\")\n",
        "    patience = 10\n",
        "    trigger_times = 0\n",
        "\n",
        "    for epoch in range(80):\n",
        "        model.train()\n",
        "        for xb, yb in train_loader:\n",
        "            xb, yb = xb.to(device), yb.to(device)\n",
        "            x_num, x_cat = split_features(xb)\n",
        "            x_num, x_cat = x_num.to(device), x_cat.to(device)\n",
        "            preds = model(x_num, x_cat)\n",
        "            loss = loss_fn(preds, yb)\n",
        "            optimizer.zero_grad()\n",
        "            loss.backward()\n",
        "            optimizer.step()\n",
        "\n",
        "        # ✅ 검증\n",
        "        model.eval()\n",
        "        preds = []\n",
        "        with torch.no_grad():\n",
        "            for xb, _ in valid_loader:\n",
        "                xb = xb.to(device)\n",
        "                x_num, x_cat = split_features(xb)\n",
        "                pred = model(x_num, x_cat)\n",
        "                preds.append(pred.cpu().numpy())\n",
        "\n",
        "        preds = np.vstack(preds)\n",
        "        rmse = np.sqrt(np.mean((y_valid_tensor.numpy() - preds) ** 2))\n",
        "\n",
        "        # ✅ 조기 종료\n",
        "        if rmse < best_rmse:\n",
        "            best_rmse = rmse\n",
        "            trigger_times = 0\n",
        "        else:\n",
        "            trigger_times += 1\n",
        "            if trigger_times >= patience:\n",
        "                break\n",
        "\n",
        "    return best_rmse\n",
        "\n",
        "# ✅ Optuna 실행\n",
        "study = optuna.create_study(direction=\"minimize\")\n",
        "study.optimize(objective, n_trials=5)\n",
        "\n",
        "# ✅ 결과 출력\n",
        "print(\"Best trial:\")\n",
        "print(study.best_trial)\n"
      ]
    },
    {
      "cell_type": "code",
      "execution_count": 1,
      "id": "rfmAoh8vL3B_",
      "metadata": {
        "id": "rfmAoh8vL3B_"
      },
      "outputs": [],
      "source": [
        "fixed_params = {\n",
        "    \"d_token\": 128,\n",
        "    \"n_blocks\": 5,\n",
        "    \"n_heads\": 2,\n",
        "    \"dropout\": 0.1476045541216017,\n",
        "    \"ffn_d_hidden\": 128\n",
        "}\n"
      ]
    },
    {
      "cell_type": "code",
      "execution_count": 9,
      "id": "uou0Of15YdBz",
      "metadata": {
        "colab": {
          "base_uri": "https://localhost:8080/"
        },
        "id": "uou0Of15YdBz",
        "outputId": "396b6e53-68a1-421e-dd14-e71476a1119f"
      },
      "outputs": [
        {
          "name": "stderr",
          "output_type": "stream",
          "text": [
            "[I 2025-06-08 03:32:22,033] A new study created in memory with name: no-name-d7c84442-651f-44f2-9b04-f49075f61191\n"
          ]
        },
        {
          "name": "stdout",
          "output_type": "stream",
          "text": [
            "Using device: cuda\n"
          ]
        },
        {
          "name": "stderr",
          "output_type": "stream",
          "text": [
            "[I 2025-06-08 03:39:35,854] Trial 0 finished with value: 0.00887646246701479 and parameters: {'lr': 0.00018880225028845442, 'weight_decay': 0.009014651901957674, 'batch_size': 2048}. Best is trial 0 with value: 0.00887646246701479.\n",
            "[I 2025-06-08 03:51:07,795] Trial 1 finished with value: 0.008109040558338165 and parameters: {'lr': 0.00020817657634782943, 'weight_decay': 0.0064234854267522035, 'batch_size': 1024}. Best is trial 1 with value: 0.008109040558338165.\n",
            "[I 2025-06-08 03:59:01,229] Trial 2 finished with value: 0.009245762601494789 and parameters: {'lr': 0.00036692557357585726, 'weight_decay': 0.0006471050252809052, 'batch_size': 2048}. Best is trial 1 with value: 0.008109040558338165.\n",
            "[I 2025-06-08 04:13:03,823] Trial 3 finished with value: 0.007885748520493507 and parameters: {'lr': 0.001569851841594099, 'weight_decay': 0.004428466921695153, 'batch_size': 1024}. Best is trial 3 with value: 0.007885748520493507.\n",
            "[I 2025-06-08 04:27:09,502] Trial 4 finished with value: 0.008108886890113354 and parameters: {'lr': 0.0008102416876887378, 'weight_decay': 0.008164775157127473, 'batch_size': 2048}. Best is trial 3 with value: 0.007885748520493507.\n"
          ]
        },
        {
          "name": "stdout",
          "output_type": "stream",
          "text": [
            "Best trial:\n",
            "FrozenTrial(number=3, state=1, values=[0.007885748520493507], datetime_start=datetime.datetime(2025, 6, 8, 3, 59, 1, 230832), datetime_complete=datetime.datetime(2025, 6, 8, 4, 13, 3, 823236), params={'lr': 0.001569851841594099, 'weight_decay': 0.004428466921695153, 'batch_size': 1024}, user_attrs={}, system_attrs={}, intermediate_values={}, distributions={'lr': FloatDistribution(high=0.003, log=True, low=0.0001, step=None), 'weight_decay': FloatDistribution(high=0.01, log=False, low=0.0, step=None), 'batch_size': CategoricalDistribution(choices=(512, 1024, 2048))}, trial_id=3, value=None)\n"
          ]
        }
      ],
      "source": [
        "import optuna\n",
        "import pickle\n",
        "import torch\n",
        "import torch.nn as nn\n",
        "import numpy as np\n",
        "from torch.utils.data import DataLoader, TensorDataset\n",
        "from rtdl import FTTransformer\n",
        "import optuna\n",
        "# ✅ GPU 설정 (코랩에서 진행)\n",
        "device = torch.device(\"cuda\" if torch.cuda.is_available() else \"cpu\")\n",
        "print(\"Using device:\", device)\n",
        "\n",
        "# ✅ 데이터 로딩\n",
        "with open(\"split_data_ft_transformer.pkl\", \"rb\") as f:\n",
        "    X_train_tensor, X_valid_tensor, X_test_tensor, y_train_tensor, y_valid_tensor, y_test_tensor = pickle.load(f)\n",
        "\n",
        "num_indices = [3]\n",
        "cat_indices = [i for i in range(X_train_tensor.shape[1]) if i != 3]\n",
        "\n",
        "# ✅ 범주형 변수 고유값 개수\n",
        "cat_cardinalities = [\n",
        "    int(X_train_tensor[:, i].max().item()) + 1\n",
        "    for i in cat_indices\n",
        "]\n",
        "# ✅ 입력 분리 함수\n",
        "def split_features(X_tensor):\n",
        "    x_num = X_tensor[:, num_indices].float()\n",
        "    x_cat = X_tensor[:, cat_indices].long()  #  long() 추가\n",
        "    return x_num, x_cat\n",
        "\n",
        "# ✅ DataLoader 구성\n",
        "train_dataset = TensorDataset(X_train_tensor, y_train_tensor)\n",
        "valid_dataset = TensorDataset(X_valid_tensor, y_valid_tensor)\n",
        "\n",
        "train_loader = DataLoader(train_dataset, batch_size=512, shuffle=True)\n",
        "valid_loader = DataLoader(valid_dataset, batch_size=512, shuffle=False)\n",
        "\n",
        "def hparam_objective(trial):\n",
        "    # ✅ 탐색 대상 학습 하이퍼파라미터\n",
        "    lr = trial.suggest_float(\"lr\", 1e-4, 3e-3, log=True)\n",
        "    weight_decay = trial.suggest_float(\"weight_decay\", 0.0, 1e-2)\n",
        "    batch_size = trial.suggest_categorical(\"batch_size\", [512, 1024, 2048])\n",
        "\n",
        "    # ✅ 고정 구조 하이퍼파라미터\n",
        "    model = FTTransformer.make_baseline(\n",
        "        n_num_features=len(num_indices),\n",
        "        cat_cardinalities=cat_cardinalities,\n",
        "        d_token=fixed_params[\"d_token\"],\n",
        "        n_blocks=fixed_params[\"n_blocks\"],\n",
        "        attention_dropout=fixed_params[\"dropout\"],\n",
        "        ffn_d_hidden=fixed_params[\"ffn_d_hidden\"],\n",
        "        ffn_dropout=fixed_params[\"dropout\"],\n",
        "        residual_dropout=fixed_params[\"dropout\"],\n",
        "        d_out=1\n",
        "    ).to(device)\n",
        "\n",
        "    optimizer = torch.optim.AdamW(model.parameters(), lr=lr, weight_decay=weight_decay)\n",
        "    loss_fn = nn.MSELoss()\n",
        "\n",
        "    # ✅ 배치사이즈 반영\n",
        "    train_loader = DataLoader(train_dataset, batch_size=batch_size, shuffle=True, pin_memory=True)\n",
        "    valid_loader = DataLoader(valid_dataset, batch_size=batch_size, shuffle=False, pin_memory=True)\n",
        "\n",
        "    best_rmse = float(\"inf\")\n",
        "    patience = 10\n",
        "    trigger_times = 0\n",
        "\n",
        "    for epoch in range(80):\n",
        "        model.train()\n",
        "        for xb, yb in train_loader:\n",
        "            xb, yb = xb.to(device), yb.to(device)\n",
        "            x_num, x_cat = split_features(xb)  # ✅ 수정된 부분\n",
        "            x_num, x_cat = x_num.to(device), x_cat.to(device)\n",
        "\n",
        "            optimizer.zero_grad()\n",
        "            preds = model(x_num, x_cat)  # ✅ 수정된 부분\n",
        "            loss = loss_fn(preds, yb)\n",
        "            loss.backward()\n",
        "            optimizer.step()\n",
        "\n",
        "        # ✅ 검증\n",
        "        model.eval()\n",
        "        preds = []\n",
        "        with torch.no_grad():\n",
        "            for xb, _ in valid_loader:\n",
        "                xb = xb.to(device)\n",
        "                x_num, x_cat = split_features(xb)  # ✅ 수정된 부분\n",
        "                x_num, x_cat = x_num.to(device), x_cat.to(device)\n",
        "\n",
        "                pred = model(x_num, x_cat)  # ✅ 수정된 부분\n",
        "                preds.append(pred.cpu().numpy())\n",
        "\n",
        "        preds = np.vstack(preds)\n",
        "        rmse = np.sqrt(np.mean((y_valid_tensor.numpy() - preds) ** 2))\n",
        "\n",
        "        if rmse < best_rmse:\n",
        "            best_rmse = rmse\n",
        "            trigger_times = 0\n",
        "        else:\n",
        "            trigger_times += 1\n",
        "            if trigger_times >= patience:\n",
        "                break\n",
        "\n",
        "    return best_rmse\n",
        "\n",
        "# ✅ Optuna 실행\n",
        "study_hparam = optuna.create_study(direction=\"minimize\")\n",
        "study_hparam.optimize(hparam_objective, n_trials=5)\n",
        "\n",
        "print(\"Best trial:\")\n",
        "print(study_hparam.best_trial)\n"
      ]
    },
    {
      "cell_type": "code",
      "execution_count": 10,
      "id": "GwtdQQYQL9nl",
      "metadata": {
        "colab": {
          "base_uri": "https://localhost:8080/"
        },
        "id": "GwtdQQYQL9nl",
        "outputId": "88e0e04e-6647-4839-bf8e-f9485611546d"
      },
      "outputs": [
        {
          "name": "stdout",
          "output_type": "stream",
          "text": [
            "✅ 최종 RMSE: 1,533,396.15\n",
            "✅ 최종 R²: 0.67097\n"
          ]
        }
      ],
      "source": [
        "import torch\n",
        "import torch.nn as nn\n",
        "import numpy as np\n",
        "from torch.utils.data import DataLoader, TensorDataset\n",
        "from rtdl import FTTransformer\n",
        "from sklearn.metrics import mean_squared_error, r2_score\n",
        "\n",
        "# ✅ 고정된 모델 및 학습 파라미터\n",
        "best_model_params = {\n",
        "    \"d_token\": 128,\n",
        "    \"n_blocks\": 5,\n",
        "    \"n_heads\": 2,\n",
        "    \"dropout\": 0.1476045541216017,\n",
        "    \"ffn_d_hidden\": 128\n",
        "}\n",
        "\n",
        "best_hparam = {\n",
        "    \"lr\": 0.001569851841594099,\n",
        "    \"weight_decay\": 0.004428466921695153,\n",
        "    \"batch_size\": 1024\n",
        "}\n",
        "\n",
        "# ✅ 데이터 준비: train + valid 합치기\n",
        "X_final_tensor = torch.cat([X_train_tensor, X_valid_tensor], dim=0)\n",
        "y_final_tensor = torch.cat([y_train_tensor, y_valid_tensor], dim=0)\n",
        "\n",
        "train_dataset = TensorDataset(X_final_tensor, y_final_tensor)\n",
        "test_dataset = TensorDataset(X_test_tensor, y_test_tensor)\n",
        "\n",
        "train_loader = DataLoader(train_dataset, batch_size=best_hparam[\"batch_size\"], shuffle=True, pin_memory=True)\n",
        "test_loader = DataLoader(test_dataset, batch_size=best_hparam[\"batch_size\"], shuffle=False, pin_memory=True)\n",
        "\n",
        "# ✅ 모델 정의\n",
        "model = FTTransformer.make_baseline(\n",
        "    n_num_features=len(num_indices),\n",
        "    cat_cardinalities=cat_cardinalities,\n",
        "    d_token=best_model_params[\"d_token\"],\n",
        "    n_blocks=best_model_params[\"n_blocks\"],\n",
        "    attention_dropout=best_model_params[\"dropout\"],\n",
        "    ffn_d_hidden=best_model_params[\"ffn_d_hidden\"],\n",
        "    ffn_dropout=best_model_params[\"dropout\"],\n",
        "    residual_dropout=best_model_params[\"dropout\"],\n",
        "    d_out=1\n",
        ").to(device)\n",
        "\n",
        "# ✅ 학습 준비\n",
        "optimizer = torch.optim.AdamW(model.parameters(), lr=best_hparam[\"lr\"], weight_decay=best_hparam[\"weight_decay\"])\n",
        "loss_fn = nn.MSELoss()\n",
        "patience = 10\n",
        "trigger_times = 0\n",
        "best_rmse = float(\"inf\")\n",
        "\n",
        "# ✅ 학습 루프\n",
        "for epoch in range(80):\n",
        "    model.train()\n",
        "    for xb, yb in train_loader:\n",
        "        xb, yb = xb.to(device), yb.to(device)\n",
        "        x_num, x_cat = split_features(xb)\n",
        "        x_num, x_cat = x_num.to(device), x_cat.to(device)\n",
        "\n",
        "        optimizer.zero_grad()\n",
        "        preds = model(x_num, x_cat)\n",
        "        loss = loss_fn(preds, yb)\n",
        "        loss.backward()\n",
        "        optimizer.step()\n",
        "\n",
        "# ✅ 테스트 예측\n",
        "model.eval()\n",
        "preds = []\n",
        "with torch.no_grad():\n",
        "    for xb, _ in test_loader:\n",
        "        xb = xb.to(device)\n",
        "        x_num, x_cat = split_features(xb)\n",
        "        x_num, x_cat = x_num.to(device), x_cat.to(device)\n",
        "\n",
        "        pred = model(x_num, x_cat)\n",
        "        preds.append(pred.cpu().numpy())\n",
        "\n",
        "preds = np.vstack(preds)\n",
        "y_test = y_test_tensor.numpy()\n",
        "\n",
        "# ✅ 역정규화\n",
        "y_min = 216.0\n",
        "y_max = 165300000.0\n",
        "\n",
        "preds_inverse = preds * (y_max - y_min) + y_min\n",
        "y_test_inverse = y_test * (y_max - y_min) + y_min\n",
        "\n",
        "# ✅ 성능 평가\n",
        "from sklearn.metrics import mean_squared_error, r2_score\n",
        "\n",
        "mse = mean_squared_error(y_test_inverse, preds_inverse)\n",
        "rmse = np.sqrt(mse)\n",
        "r2 = r2_score(y_test_inverse, preds_inverse)\n",
        "\n",
        "print(f\"✅ 최종 RMSE: {rmse:,.2f}\")\n",
        "print(f\"✅ 최종 R²: {r2:.5f}\")\n"
      ]
    },
    {
      "cell_type": "code",
      "execution_count": 11,
      "id": "s8SJELTwjoAZ",
      "metadata": {
        "id": "s8SJELTwjoAZ"
      },
      "outputs": [],
      "source": [
        "torch.save(model, \"fttransformer_trained.pt\")\n"
      ]
    },
    {
      "cell_type": "code",
      "execution_count": null,
      "id": "QN7Xh1v8kjF-",
      "metadata": {
        "colab": {
          "base_uri": "https://localhost:8080/"
        },
        "id": "QN7Xh1v8kjF-",
        "outputId": "9e510044-12fd-4b61-bde3-6d18c2faa8db"
      },
      "outputs": [
        {
          "name": "stdout",
          "output_type": "stream",
          "text": [
            "[[1.3846904e-05]\n",
            " [2.4620444e-05]\n",
            " [2.9076960e-02]\n",
            " ...\n",
            " [6.8318099e-05]\n",
            " [2.1006912e-05]\n",
            " [1.0691740e-02]]\n"
          ]
        }
      ],
      "source": [
        "\"\"\"\n",
        "# 모델 불러오기\n",
        "model = torch.load(\"fttransformer_trained.pt\")\n",
        "model.to(device)\n",
        "model.eval()  # 평가 모드 전환\n",
        "\n",
        "# 예측\n",
        "test_loader = DataLoader(test_dataset, batch_size=1024, shuffle=False)\n",
        "preds = []\n",
        "\n",
        "with torch.no_grad():\n",
        "    for xb, _ in test_loader:\n",
        "        xb = xb.to(device)\n",
        "        pred = model(xb, None)  # 수치형-only 입력\n",
        "        preds.append(pred.cpu().numpy())\n",
        "\n",
        "preds = np.vstack(preds)\n",
        "print(preds)\n",
        "\"\"\""
      ]
    },
    {
      "cell_type": "markdown",
      "id": "e5f0699c",
      "metadata": {
        "id": "e5f0699c"
      },
      "source": [
        "### 전체 결과 시각화"
      ]
    },
    {
      "cell_type": "code",
      "execution_count": 1,
      "id": "1a9cb075",
      "metadata": {
        "id": "1a9cb075",
        "outputId": "22c9681e-9850-4d83-bea2-20805ad5a694"
      },
      "outputs": [
        {
          "name": "stdout",
          "output_type": "stream",
          "text": [
            "             모델명        RMSE       R²\n",
            "0       CatBoost  1518386.06  0.67740\n",
            "1       LightGBM  1532644.61  0.67130\n",
            "2        XGBoost  1526182.97  0.67410\n",
            "3        HistGBR  1538908.34  0.66860\n",
            "4   RandomForest  1546480.83  0.66530\n",
            "5         TabNet  1568550.27  0.65572\n",
            "6  FTTransformer  1533396.15  0.67097\n"
          ]
        }
      ],
      "source": [
        "import pandas as pd\n",
        "\n",
        "# 주어진 모델 성능 결과 기반 데이터프레임 생성\n",
        "df_results = pd.DataFrame([\n",
        "    {\"모델명\": \"CatBoost\", \"RMSE\": 1518386.06, \"R²\": 0.6774},\n",
        "    {\"모델명\": \"LightGBM\", \"RMSE\": 1532644.61, \"R²\": 0.6713},\n",
        "    {\"모델명\": \"XGBoost\", \"RMSE\": 1526182.97, \"R²\": 0.6741},\n",
        "    {\"모델명\": \"HistGBR\", \"RMSE\": 1538908.34, \"R²\": 0.6686},\n",
        "    {\"모델명\": \"RandomForest\", \"RMSE\": 1546480.83, \"R²\": 0.6653}\n",
        "])\n",
        "\n",
        "# TabNet & FTTransformer 결과 추가\n",
        "tabnet_result = {\"모델명\": \"TabNet\", \"RMSE\": 1568550.27, \"R²\": 0.65572}\n",
        "fttransformer_result = {\"모델명\": \"FTTransformer\", \"RMSE\": 1533396.15, \"R²\": 0.67097}\n",
        "\n",
        "df_results = pd.concat([\n",
        "    df_results,\n",
        "    pd.DataFrame([tabnet_result, fttransformer_result])\n",
        "], ignore_index=True)\n",
        "\n",
        "# 데이터프레임 출력\n",
        "print(df_results)"
      ]
    },
    {
      "cell_type": "code",
      "execution_count": 5,
      "id": "W1T4avz1Um3l",
      "metadata": {
        "colab": {
          "base_uri": "https://localhost:8080/",
          "height": 367
        },
        "id": "W1T4avz1Um3l",
        "outputId": "82ff659e-1643-4308-df2c-6e849f2fa8cf"
      },
      "outputs": [
        {
          "data": {
            "image/png": "[encoded data removed]",
            "text/plain": [
              "<Figure size 1200x500 with 2 Axes>"
            ]
          },
          "metadata": {},
          "output_type": "display_data"
        }
      ],
      "source": [
        "import matplotlib.pyplot as plt \n",
        "# 색상 (7개 모델)\n",
        "\n",
        "colors = ['#17becf', '#bcbd22', '#7f7f7f', '#aec7e8', '#ffbb78', '#98df8a', '#ff9896']\n",
        "\n",
        "# 시각화\n",
        "plt.figure(figsize=(12, 5))\n",
        "\n",
        "# ✅ RMSE 그래프\n",
        "plt.subplot(1, 2, 1)\n",
        "bars_rmse = plt.bar(df_results[\"모델명\"], df_results[\"RMSE\"], color=colors)\n",
        "plt.title(\"모델별 RMSE (단위: 백만 원)\")\n",
        "plt.ylabel(\"RMSE\")\n",
        "plt.xticks(rotation=45)\n",
        "plt.ylim(1500000, 1600000)  # y축 범위 설정\n",
        "\n",
        "# RMSE 값 표시 (실제 값, 콤마 포함)\n",
        "for bar in bars_rmse:\n",
        "    yval = bar.get_height()\n",
        "    plt.text(bar.get_x() + bar.get_width()/2, yval + 5000, f\"{yval:,.0f}\",\n",
        "             ha='center', va='bottom', fontsize=9)\n",
        "\n",
        "# ✅ R² 그래프\n",
        "plt.subplot(1, 2, 2)\n",
        "bars_r2 = plt.bar(df_results[\"모델명\"], df_results[\"R²\"], color=colors)\n",
        "plt.title(\"모델별 R²\")\n",
        "plt.ylabel(\"R²\")\n",
        "plt.xticks(rotation=45)\n",
        "plt.ylim(0.64, 0.69)  # R² 범위 설정 (차이 강조)\n",
        "\n",
        "# R² 값 표시\n",
        "for bar in bars_r2:\n",
        "    yval = bar.get_height()\n",
        "    plt.text(bar.get_x() + bar.get_width()/2, yval + 0.001, f\"{yval:.4f}\",\n",
        "             ha='center', va='bottom', fontsize=9)\n",
        "\n",
        "plt.tight_layout()\n",
        "plt.show()\n"
      ]
    },
    {
      "cell_type": "code",
      "execution_count": null,
      "id": "zme04tNDUyBR",
      "metadata": {
        "id": "zme04tNDUyBR"
      },
      "outputs": [],
      "source": []
    }
  ],
  "metadata": {
    "accelerator": "GPU",
    "colab": {
      "gpuType": "T4",
      "provenance": []
    },
    "kernelspec": {
      "display_name": "venv",
      "language": "python",
      "name": "python3"
    },
    "language_info": {
      "codemirror_mode": {
        "name": "ipython",
        "version": 3
      },
      "file_extension": ".py",
      "mimetype": "text/x-python",
      "name": "python",
      "nbconvert_exporter": "python",
      "pygments_lexer": "ipython3",
      "version": "3.10.0"
    }
  },
  "nbformat": 4,
  "nbformat_minor": 5
}
