{
  "cells": [
    {
      "cell_type": "markdown",
      "metadata": {
        "id": "Mn4hof6sezAb"
      },
      "source": [
        "### 코랩 다운로드"
      ]
    },
    {
      "cell_type": "code",
      "execution_count": 1,
      "metadata": {
        "colab": {
          "base_uri": "https://localhost:8080/"
        },
        "id": "EFxjW1iHWTCa",
        "outputId": "a09272de-1866-4623-b35e-5a42488e22b4"
      },
      "outputs": [
        {
          "name": "stdout",
          "output_type": "stream",
          "text": [
            "Collecting git+https://github.com/yura52/rtdl.git\n",
            "  Cloning https://github.com/yura52/rtdl.git to /tmp/pip-req-build-z037suie\n",
            "  Running command git clone --filter=blob:none --quiet https://github.com/yura52/rtdl.git /tmp/pip-req-build-z037suie\n",
            "  Resolved https://github.com/yura52/rtdl.git to commit bdc2fe52e0c28d0d15a3cf7d99ef94a452f23253\n",
            "  Installing build dependencies ... \u001b[?25l\u001b[?25hdone\n",
            "  Getting requirements to build wheel ... \u001b[?25l\u001b[?25hdone\n",
            "  Preparing metadata (pyproject.toml) ... \u001b[?25l\u001b[?25hdone\n",
            "Requirement already satisfied: torch<3,>=1.8 in /usr/local/lib/python3.11/dist-packages (from rtdl==0.0.14.dev7) (2.6.0+cu124)\n",
            "Requirement already satisfied: filelock in /usr/local/lib/python3.11/dist-packages (from torch<3,>=1.8->rtdl==0.0.14.dev7) (3.18.0)\n",
            "Requirement already satisfied: typing-extensions>=4.10.0 in /usr/local/lib/python3.11/dist-packages (from torch<3,>=1.8->rtdl==0.0.14.dev7) (4.14.0)\n",
            "Requirement already satisfied: networkx in /usr/local/lib/python3.11/dist-packages (from torch<3,>=1.8->rtdl==0.0.14.dev7) (3.5)\n",
            "Requirement already satisfied: jinja2 in /usr/local/lib/python3.11/dist-packages (from torch<3,>=1.8->rtdl==0.0.14.dev7) (3.1.6)\n",
            "Requirement already satisfied: fsspec in /usr/local/lib/python3.11/dist-packages (from torch<3,>=1.8->rtdl==0.0.14.dev7) (2025.3.2)\n",
            "Collecting nvidia-cuda-nvrtc-cu12==12.4.127 (from torch<3,>=1.8->rtdl==0.0.14.dev7)\n",
            "  Downloading nvidia_cuda_nvrtc_cu12-12.4.127-py3-none-manylinux2014_x86_64.whl.metadata (1.5 kB)\n",
            "Collecting nvidia-cuda-runtime-cu12==12.4.127 (from torch<3,>=1.8->rtdl==0.0.14.dev7)\n",
            "  Downloading nvidia_cuda_runtime_cu12-12.4.127-py3-none-manylinux2014_x86_64.whl.metadata (1.5 kB)\n",
            "Collecting nvidia-cuda-cupti-cu12==12.4.127 (from torch<3,>=1.8->rtdl==0.0.14.dev7)\n",
            "  Downloading nvidia_cuda_cupti_cu12-12.4.127-py3-none-manylinux2014_x86_64.whl.metadata (1.6 kB)\n",
            "Collecting nvidia-cudnn-cu12==9.1.0.70 (from torch<3,>=1.8->rtdl==0.0.14.dev7)\n",
            "  Downloading nvidia_cudnn_cu12-9.1.0.70-py3-none-manylinux2014_x86_64.whl.metadata (1.6 kB)\n",
            "Collecting nvidia-cublas-cu12==12.4.5.8 (from torch<3,>=1.8->rtdl==0.0.14.dev7)\n",
            "  Downloading nvidia_cublas_cu12-12.4.5.8-py3-none-manylinux2014_x86_64.whl.metadata (1.5 kB)\n",
            "Collecting nvidia-cufft-cu12==11.2.1.3 (from torch<3,>=1.8->rtdl==0.0.14.dev7)\n",
            "  Downloading nvidia_cufft_cu12-11.2.1.3-py3-none-manylinux2014_x86_64.whl.metadata (1.5 kB)\n",
            "Collecting nvidia-curand-cu12==10.3.5.147 (from torch<3,>=1.8->rtdl==0.0.14.dev7)\n",
            "  Downloading nvidia_curand_cu12-10.3.5.147-py3-none-manylinux2014_x86_64.whl.metadata (1.5 kB)\n",
            "Collecting nvidia-cusolver-cu12==11.6.1.9 (from torch<3,>=1.8->rtdl==0.0.14.dev7)\n",
            "  Downloading nvidia_cusolver_cu12-11.6.1.9-py3-none-manylinux2014_x86_64.whl.metadata (1.6 kB)\n",
            "Collecting nvidia-cusparse-cu12==12.3.1.170 (from torch<3,>=1.8->rtdl==0.0.14.dev7)\n",
            "  Downloading nvidia_cusparse_cu12-12.3.1.170-py3-none-manylinux2014_x86_64.whl.metadata (1.6 kB)\n",
            "Requirement already satisfied: nvidia-cusparselt-cu12==0.6.2 in /usr/local/lib/python3.11/dist-packages (from torch<3,>=1.8->rtdl==0.0.14.dev7) (0.6.2)\n",
            "Requirement already satisfied: nvidia-nccl-cu12==2.21.5 in /usr/local/lib/python3.11/dist-packages (from torch<3,>=1.8->rtdl==0.0.14.dev7) (2.21.5)\n",
            "Requirement already satisfied: nvidia-nvtx-cu12==12.4.127 in /usr/local/lib/python3.11/dist-packages (from torch<3,>=1.8->rtdl==0.0.14.dev7) (12.4.127)\n",
            "Collecting nvidia-nvjitlink-cu12==12.4.127 (from torch<3,>=1.8->rtdl==0.0.14.dev7)\n",
            "  Downloading nvidia_nvjitlink_cu12-12.4.127-py3-none-manylinux2014_x86_64.whl.metadata (1.5 kB)\n",
            "Requirement already satisfied: triton==3.2.0 in /usr/local/lib/python3.11/dist-packages (from torch<3,>=1.8->rtdl==0.0.14.dev7) (3.2.0)\n",
            "Requirement already satisfied: sympy==1.13.1 in /usr/local/lib/python3.11/dist-packages (from torch<3,>=1.8->rtdl==0.0.14.dev7) (1.13.1)\n",
            "Requirement already satisfied: mpmath<1.4,>=1.1.0 in /usr/local/lib/python3.11/dist-packages (from sympy==1.13.1->torch<3,>=1.8->rtdl==0.0.14.dev7) (1.3.0)\n",
            "Requirement already satisfied: MarkupSafe>=2.0 in /usr/local/lib/python3.11/dist-packages (from jinja2->torch<3,>=1.8->rtdl==0.0.14.dev7) (3.0.2)\n",
            "Downloading nvidia_cublas_cu12-12.4.5.8-py3-none-manylinux2014_x86_64.whl (363.4 MB)\n",
            "\u001b[2K   \u001b[90m━━━━━━━━━━━━━━━━━━━━━━━━━━━━━━━━━━━━━━━━\u001b[0m \u001b[32m363.4/363.4 MB\u001b[0m \u001b[31m3.8 MB/s\u001b[0m eta \u001b[36m0:00:00\u001b[0m\n",
            "\u001b[?25hDownloading nvidia_cuda_cupti_cu12-12.4.127-py3-none-manylinux2014_x86_64.whl (13.8 MB)\n",
            "\u001b[2K   \u001b[90m━━━━━━━━━━━━━━━━━━━━━━━━━━━━━━━━━━━━━━━━\u001b[0m \u001b[32m13.8/13.8 MB\u001b[0m \u001b[31m58.1 MB/s\u001b[0m eta \u001b[36m0:00:00\u001b[0m\n",
            "\u001b[?25hDownloading nvidia_cuda_nvrtc_cu12-12.4.127-py3-none-manylinux2014_x86_64.whl (24.6 MB)\n",
            "\u001b[2K   \u001b[90m━━━━━━━━━━━━━━━━━━━━━━━━━━━━━━━━━━━━━━━━\u001b[0m \u001b[32m24.6/24.6 MB\u001b[0m \u001b[31m47.6 MB/s\u001b[0m eta \u001b[36m0:00:00\u001b[0m\n",
            "\u001b[?25hDownloading nvidia_cuda_runtime_cu12-12.4.127-py3-none-manylinux2014_x86_64.whl (883 kB)\n",
            "\u001b[2K   \u001b[90m━━━━━━━━━━━━━━━━━━━━━━━━━━━━━━━━━━━━━━━━\u001b[0m \u001b[32m883.7/883.7 kB\u001b[0m \u001b[31m49.5 MB/s\u001b[0m eta \u001b[36m0:00:00\u001b[0m\n",
            "\u001b[?25hDownloading nvidia_cudnn_cu12-9.1.0.70-py3-none-manylinux2014_x86_64.whl (664.8 MB)\n",
            "\u001b[2K   \u001b[90m━━━━━━━━━━━━━━━━━━━━━━━━━━━━━━━━━━━━━━━━\u001b[0m \u001b[32m664.8/664.8 MB\u001b[0m \u001b[31m2.2 MB/s\u001b[0m eta \u001b[36m0:00:00\u001b[0m\n",
            "\u001b[?25hDownloading nvidia_cufft_cu12-11.2.1.3-py3-none-manylinux2014_x86_64.whl (211.5 MB)\n",
            "\u001b[2K   \u001b[90m━━━━━━━━━━━━━━━━━━━━━━━━━━━━━━━━━━━━━━━━\u001b[0m \u001b[32m211.5/211.5 MB\u001b[0m \u001b[31m6.1 MB/s\u001b[0m eta \u001b[36m0:00:00\u001b[0m\n",
            "\u001b[?25hDownloading nvidia_curand_cu12-10.3.5.147-py3-none-manylinux2014_x86_64.whl (56.3 MB)\n",
            "\u001b[2K   \u001b[90m━━━━━━━━━━━━━━━━━━━━━━━━━━━━━━━━━━━━━━━━\u001b[0m \u001b[32m56.3/56.3 MB\u001b[0m \u001b[31m13.6 MB/s\u001b[0m eta \u001b[36m0:00:00\u001b[0m\n",
            "\u001b[?25hDownloading nvidia_cusolver_cu12-11.6.1.9-py3-none-manylinux2014_x86_64.whl (127.9 MB)\n",
            "\u001b[2K   \u001b[90m━━━━━━━━━━━━━━━━━━━━━━━━━━━━━━━━━━━━━━━━\u001b[0m \u001b[32m127.9/127.9 MB\u001b[0m \u001b[31m7.6 MB/s\u001b[0m eta \u001b[36m0:00:00\u001b[0m\n",
            "\u001b[?25hDownloading nvidia_cusparse_cu12-12.3.1.170-py3-none-manylinux2014_x86_64.whl (207.5 MB)\n",
            "\u001b[2K   \u001b[90m━━━━━━━━━━━━━━━━━━━━━━━━━━━━━━━━━━━━━━━━\u001b[0m \u001b[32m207.5/207.5 MB\u001b[0m \u001b[31m5.8 MB/s\u001b[0m eta \u001b[36m0:00:00\u001b[0m\n",
            "\u001b[?25hDownloading nvidia_nvjitlink_cu12-12.4.127-py3-none-manylinux2014_x86_64.whl (21.1 MB)\n",
            "\u001b[2K   \u001b[90m━━━━━━━━━━━━━━━━━━━━━━━━━━━━━━━━━━━━━━━━\u001b[0m \u001b[32m21.1/21.1 MB\u001b[0m \u001b[31m103.6 MB/s\u001b[0m eta \u001b[36m0:00:00\u001b[0m\n",
            "\u001b[?25hBuilding wheels for collected packages: rtdl\n",
            "  Building wheel for rtdl (pyproject.toml) ... \u001b[?25l\u001b[?25hdone\n",
            "  Created wheel for rtdl: filename=rtdl-0.0.14.dev7-py3-none-any.whl size=27164 sha256=4f2298eaac123f938b6399d22124195c388d4caf34b0368c933b106be352d6e2\n",
            "  Stored in directory: /tmp/pip-ephem-wheel-cache-tqpu7hhw/wheels/7f/7a/5c/88c72feb54756a9ded3401a0829d8be66129d21faf4e01224a\n",
            "Successfully built rtdl\n",
            "Installing collected packages: nvidia-nvjitlink-cu12, nvidia-curand-cu12, nvidia-cufft-cu12, nvidia-cuda-runtime-cu12, nvidia-cuda-nvrtc-cu12, nvidia-cuda-cupti-cu12, nvidia-cublas-cu12, nvidia-cusparse-cu12, nvidia-cudnn-cu12, nvidia-cusolver-cu12, rtdl\n",
            "  Attempting uninstall: nvidia-nvjitlink-cu12\n",
            "    Found existing installation: nvidia-nvjitlink-cu12 12.5.82\n",
            "    Uninstalling nvidia-nvjitlink-cu12-12.5.82:\n",
            "      Successfully uninstalled nvidia-nvjitlink-cu12-12.5.82\n",
            "  Attempting uninstall: nvidia-curand-cu12\n",
            "    Found existing installation: nvidia-curand-cu12 10.3.6.82\n",
            "    Uninstalling nvidia-curand-cu12-10.3.6.82:\n",
            "      Successfully uninstalled nvidia-curand-cu12-10.3.6.82\n",
            "  Attempting uninstall: nvidia-cufft-cu12\n",
            "    Found existing installation: nvidia-cufft-cu12 11.2.3.61\n",
            "    Uninstalling nvidia-cufft-cu12-11.2.3.61:\n",
            "      Successfully uninstalled nvidia-cufft-cu12-11.2.3.61\n",
            "  Attempting uninstall: nvidia-cuda-runtime-cu12\n",
            "    Found existing installation: nvidia-cuda-runtime-cu12 12.5.82\n",
            "    Uninstalling nvidia-cuda-runtime-cu12-12.5.82:\n",
            "      Successfully uninstalled nvidia-cuda-runtime-cu12-12.5.82\n",
            "  Attempting uninstall: nvidia-cuda-nvrtc-cu12\n",
            "    Found existing installation: nvidia-cuda-nvrtc-cu12 12.5.82\n",
            "    Uninstalling nvidia-cuda-nvrtc-cu12-12.5.82:\n",
            "      Successfully uninstalled nvidia-cuda-nvrtc-cu12-12.5.82\n",
            "  Attempting uninstall: nvidia-cuda-cupti-cu12\n",
            "    Found existing installation: nvidia-cuda-cupti-cu12 12.5.82\n",
            "    Uninstalling nvidia-cuda-cupti-cu12-12.5.82:\n",
            "      Successfully uninstalled nvidia-cuda-cupti-cu12-12.5.82\n",
            "  Attempting uninstall: nvidia-cublas-cu12\n",
            "    Found existing installation: nvidia-cublas-cu12 12.5.3.2\n",
            "    Uninstalling nvidia-cublas-cu12-12.5.3.2:\n",
            "      Successfully uninstalled nvidia-cublas-cu12-12.5.3.2\n",
            "  Attempting uninstall: nvidia-cusparse-cu12\n",
            "    Found existing installation: nvidia-cusparse-cu12 12.5.1.3\n",
            "    Uninstalling nvidia-cusparse-cu12-12.5.1.3:\n",
            "      Successfully uninstalled nvidia-cusparse-cu12-12.5.1.3\n",
            "  Attempting uninstall: nvidia-cudnn-cu12\n",
            "    Found existing installation: nvidia-cudnn-cu12 9.3.0.75\n",
            "    Uninstalling nvidia-cudnn-cu12-9.3.0.75:\n",
            "      Successfully uninstalled nvidia-cudnn-cu12-9.3.0.75\n",
            "  Attempting uninstall: nvidia-cusolver-cu12\n",
            "    Found existing installation: nvidia-cusolver-cu12 11.6.3.83\n",
            "    Uninstalling nvidia-cusolver-cu12-11.6.3.83:\n",
            "      Successfully uninstalled nvidia-cusolver-cu12-11.6.3.83\n",
            "Successfully installed nvidia-cublas-cu12-12.4.5.8 nvidia-cuda-cupti-cu12-12.4.127 nvidia-cuda-nvrtc-cu12-12.4.127 nvidia-cuda-runtime-cu12-12.4.127 nvidia-cudnn-cu12-9.1.0.70 nvidia-cufft-cu12-11.2.1.3 nvidia-curand-cu12-10.3.5.147 nvidia-cusolver-cu12-11.6.1.9 nvidia-cusparse-cu12-12.3.1.170 nvidia-nvjitlink-cu12-12.4.127 rtdl-0.0.14.dev7\n",
            "Collecting optuna\n",
            "  Downloading optuna-4.3.0-py3-none-any.whl.metadata (17 kB)\n",
            "Collecting alembic>=1.5.0 (from optuna)\n",
            "  Downloading alembic-1.16.1-py3-none-any.whl.metadata (7.3 kB)\n",
            "Collecting colorlog (from optuna)\n",
            "  Downloading colorlog-6.9.0-py3-none-any.whl.metadata (10 kB)\n",
            "Requirement already satisfied: numpy in /usr/local/lib/python3.11/dist-packages (from optuna) (2.0.2)\n",
            "Requirement already satisfied: packaging>=20.0 in /usr/local/lib/python3.11/dist-packages (from optuna) (24.2)\n",
            "Requirement already satisfied: sqlalchemy>=1.4.2 in /usr/local/lib/python3.11/dist-packages (from optuna) (2.0.41)\n",
            "Requirement already satisfied: tqdm in /usr/local/lib/python3.11/dist-packages (from optuna) (4.67.1)\n",
            "Requirement already satisfied: PyYAML in /usr/local/lib/python3.11/dist-packages (from optuna) (6.0.2)\n",
            "Requirement already satisfied: Mako in /usr/lib/python3/dist-packages (from alembic>=1.5.0->optuna) (1.1.3)\n",
            "Requirement already satisfied: typing-extensions>=4.12 in /usr/local/lib/python3.11/dist-packages (from alembic>=1.5.0->optuna) (4.14.0)\n",
            "Requirement already satisfied: greenlet>=1 in /usr/local/lib/python3.11/dist-packages (from sqlalchemy>=1.4.2->optuna) (3.2.2)\n",
            "Downloading optuna-4.3.0-py3-none-any.whl (386 kB)\n",
            "\u001b[2K   \u001b[90m━━━━━━━━━━━━━━━━━━━━━━━━━━━━━━━━━━━━━━━━\u001b[0m \u001b[32m386.6/386.6 kB\u001b[0m \u001b[31m24.4 MB/s\u001b[0m eta \u001b[36m0:00:00\u001b[0m\n",
            "\u001b[?25hDownloading alembic-1.16.1-py3-none-any.whl (242 kB)\n",
            "\u001b[2K   \u001b[90m━━━━━━━━━━━━━━━━━━━━━━━━━━━━━━━━━━━━━━━━\u001b[0m \u001b[32m242.5/242.5 kB\u001b[0m \u001b[31m19.3 MB/s\u001b[0m eta \u001b[36m0:00:00\u001b[0m\n",
            "\u001b[?25hDownloading colorlog-6.9.0-py3-none-any.whl (11 kB)\n",
            "Installing collected packages: colorlog, alembic, optuna\n",
            "Successfully installed alembic-1.16.1 colorlog-6.9.0 optuna-4.3.0\n"
          ]
        }
      ],
      "source": [
        "! pip install git+https://github.com/yura52/rtdl.git\n",
        "! pip install optuna"
      ]
    },
    {
      "cell_type": "markdown",
      "metadata": {
        "id": "h5R_YoSAezAj"
      },
      "source": [
        "### 라이브러리 호출"
      ]
    },
    {
      "cell_type": "code",
      "execution_count": 2,
      "metadata": {
        "colab": {
          "base_uri": "https://localhost:8080/"
        },
        "id": "yXumz1YKYDcu",
        "outputId": "06558b46-9b00-4afa-d2d5-ef237a2f307b"
      },
      "outputs": [
        {
          "name": "stdout",
          "output_type": "stream",
          "text": [
            "📌 사용 디바이스: cuda\n"
          ]
        }
      ],
      "source": [
        "import torch\n",
        "import pandas as pd\n",
        "import numpy as np\n",
        "\n",
        "# ✅ Colab에서 GPU 사용 가능 여부 확인\n",
        "device = torch.device(\"cuda\" if torch.cuda.is_available() else \"cpu\")\n",
        "print(\"📌 사용 디바이스:\", device)\n"
      ]
    },
    {
      "cell_type": "code",
      "execution_count": 6,
      "metadata": {
        "id": "bKOC-TWZWge5"
      },
      "outputs": [],
      "source": [
        "# ✅ 저장된 텐서 데이터 로드 (.pkl 파일)\n",
        "import pickle\n",
        "\n",
        "with open(\"VIF_split_data_ft_transformer.pkl\", \"rb\") as f:\n",
        "    X_train_tensor, X_valid_tensor, X_test_tensor, y_train_tensor, y_valid_tensor, y_test_tensor = pickle.load(f)\n",
        "\n",
        "# ✅ GPU로 데이터 이동\n",
        "X_train_tensor = X_train_tensor.to(device)\n",
        "X_valid_tensor = X_valid_tensor.to(device)\n",
        "X_test_tensor = X_test_tensor.to(device)\n",
        "y_train_tensor = y_train_tensor.to(device)\n",
        "y_valid_tensor = y_valid_tensor.to(device)\n",
        "y_test_tensor = y_test_tensor.to(device)\n"
      ]
    },
    {
      "cell_type": "code",
      "execution_count": 7,
      "metadata": {
        "colab": {
          "base_uri": "https://localhost:8080/"
        },
        "id": "y27yxi8CXUkj",
        "outputId": "b13a3457-e86a-45a1-ab51-1da3319834bc"
      },
      "outputs": [
        {
          "name": "stdout",
          "output_type": "stream",
          "text": [
            "📌 범주형 변수 인덱스: [0, 1, 2, 3, 4, 5, 6, 7, 8, 9, 10, 11]\n"
          ]
        }
      ],
      "source": [
        "# ✅ 범주형 변수 인덱스 및 값 매핑\n",
        "X_train_df = pd.DataFrame(X_train_tensor.cpu().numpy())\n",
        "categorical_indices = [] # 범주형 변수 저장\n",
        "category_value_map = {}\n",
        "# 라벨 인코딩되어 있는 데이터이기에 int, float형태, 그리고 값이 20개 이하인 것을 범주형\n",
        "# 변수로 저장\n",
        "for idx in X_train_df.columns:\n",
        "    unique_values = X_train_df[idx].value_counts().index.tolist()\n",
        "    if X_train_df[idx].dtype in ['int32', 'int64', 'float32', 'float64'] and len(unique_values) <= 20:\n",
        "        categorical_indices.append(idx)\n",
        "        category_value_map[idx] = unique_values\n",
        "\n",
        "print(\"📌 범주형 변수 인덱스:\", categorical_indices)\n",
        "\n"
      ]
    },
    {
      "cell_type": "code",
      "execution_count": 8,
      "metadata": {
        "id": "-g4QDmJJYUPx"
      },
      "outputs": [],
      "source": [
        "from copy import deepcopy\n",
        "# ✅ 적대적 공격 함수\n",
        "# 범주형 값의 무작위 변화\n",
        "def category_switch_attack_tensor(X_tensor, categorical_indices, category_value_map, num_switches=1, random_state=42):\n",
        "    np.random.seed(random_state)\n",
        "    X_np = X_tensor.cpu().numpy()\n",
        "    X_adv = deepcopy(X_np)\n",
        "\n",
        "    for i in range(X_adv.shape[0]):\n",
        "        selected = np.random.choice(categorical_indices, size=min(num_switches, len(categorical_indices)), replace=False)\n",
        "        for col in selected:\n",
        "            current_val = X_adv[i, col]\n",
        "            possible = list(set(category_value_map[col]) - {current_val})\n",
        "            if possible:\n",
        "                X_adv[i, col] = np.random.choice(possible)\n",
        "\n",
        "    return torch.tensor(X_adv, dtype=X_tensor.dtype).to(X_tensor.device)\n"
      ]
    },
    {
      "cell_type": "code",
      "execution_count": 9,
      "metadata": {
        "id": "BXO3yM0wYZ-9"
      },
      "outputs": [],
      "source": [
        "# ✅ 스위칭 1개 적용\n",
        "X_train_adv = category_switch_attack_tensor(X_train_tensor, categorical_indices, category_value_map, num_switches=1)\n",
        "X_valid_adv = category_switch_attack_tensor(X_valid_tensor, categorical_indices, category_value_map, num_switches=1)\n"
      ]
    },
    {
      "cell_type": "code",
      "execution_count": 11,
      "metadata": {
        "id": "_Ya5l1QXfHbC"
      },
      "outputs": [],
      "source": [
        "with open(\"ADV&VIF_split_data_fn_transformer.pkl\", \"wb\") as f:\n",
        "        pickle.dump((X_train_adv, X_valid_adv, X_test_tensor,\n",
        "                 y_train_tensor, y_valid_tensor, y_test_tensor), f)"
      ]
    },
    {
      "cell_type": "code",
      "execution_count": null,
      "metadata": {
        "colab": {
          "base_uri": "https://localhost:8080/"
        },
        "id": "XhmWBG0nZqkh",
        "outputId": "e384ae6c-340a-43b1-b588-d2c933f2a00d"
      },
      "outputs": [
        {
          "name": "stderr",
          "output_type": "stream",
          "text": [
            "[I 2025-06-02 16:09:06,361] A new study created in memory with name: no-name-deb39b80-af87-4f81-b910-a70f99f4b8b3\n"
          ]
        },
        {
          "name": "stdout",
          "output_type": "stream",
          "text": [
            "Using device: cuda\n"
          ]
        },
        {
          "name": "stderr",
          "output_type": "stream",
          "text": [
            "[I 2025-06-02 16:18:41,755] Trial 0 finished with value: 0.00928332656621933 and parameters: {'d_token': 64, 'n_blocks': 6, 'n_heads': 4, 'dropout': 0.18461083843716591, 'ffn_d_hidden': 512}. Best is trial 0 with value: 0.00928332656621933.\n",
            "[I 2025-06-02 16:24:31,457] Trial 1 finished with value: 0.009379222057759762 and parameters: {'d_token': 32, 'n_blocks': 5, 'n_heads': 8, 'dropout': 0.32337833611407996, 'ffn_d_hidden': 512}. Best is trial 0 with value: 0.00928332656621933.\n",
            "[I 2025-06-02 16:30:32,199] Trial 2 finished with value: 0.009330421686172485 and parameters: {'d_token': 64, 'n_blocks': 4, 'n_heads': 8, 'dropout': 0.25255728504765235, 'ffn_d_hidden': 512}. Best is trial 0 with value: 0.00928332656621933.\n",
            "[I 2025-06-02 16:42:37,939] Trial 3 finished with value: 0.009392506442964077 and parameters: {'d_token': 128, 'n_blocks': 6, 'n_heads': 4, 'dropout': 0.4874156178051334, 'ffn_d_hidden': 256}. Best is trial 0 with value: 0.00928332656621933.\n",
            "[I 2025-06-02 16:50:04,718] Trial 4 finished with value: 0.009306511841714382 and parameters: {'d_token': 32, 'n_blocks': 5, 'n_heads': 8, 'dropout': 0.31943732409504705, 'ffn_d_hidden': 512}. Best is trial 0 with value: 0.00928332656621933.\n"
          ]
        },
        {
          "name": "stdout",
          "output_type": "stream",
          "text": [
            "Best trial:\n",
            "FrozenTrial(number=0, state=1, values=[0.00928332656621933], datetime_start=datetime.datetime(2025, 6, 2, 16, 9, 6, 362038), datetime_complete=datetime.datetime(2025, 6, 2, 16, 18, 41, 755406), params={'d_token': 64, 'n_blocks': 6, 'n_heads': 4, 'dropout': 0.18461083843716591, 'ffn_d_hidden': 512}, user_attrs={}, system_attrs={}, intermediate_values={}, distributions={'d_token': CategoricalDistribution(choices=(32, 64, 128)), 'n_blocks': IntDistribution(high=6, log=False, low=2, step=1), 'n_heads': CategoricalDistribution(choices=(2, 4, 8)), 'dropout': FloatDistribution(high=0.5, log=False, low=0.1, step=None), 'ffn_d_hidden': CategoricalDistribution(choices=(128, 256, 512))}, trial_id=0, value=None)\n"
          ]
        }
      ],
      "source": [
        "import pickle\n",
        "import torch\n",
        "import torch.nn as nn\n",
        "import numpy as np\n",
        "from torch.utils.data import DataLoader, TensorDataset\n",
        "from rtdl import FTTransformer\n",
        "import optuna\n",
        "\n",
        "# ✅ GPU 설정\n",
        "device = torch.device(\"cuda\" if torch.cuda.is_available() else \"cpu\")\n",
        "print(\"Using device:\", device)\n",
        "\n",
        "# ✅ 모든 변수는 범주형 (라벨 인코딩 상태)\n",
        "cat_indices = list(range(X_train_adv.shape[1]))  \n",
        "cat_cardinalities = [\n",
        "    int(X_train_adv[:, i].max().item()) + 1     \n",
        "    for i in cat_indices\n",
        "]\n",
        "\n",
        "# ✅ 범주형만 분리하는 함수\n",
        "def split_features(X_tensor):\n",
        "    x_cat = X_tensor[:, cat_indices]\n",
        "    return None, x_cat  # x_num은 없음\n",
        "\n",
        "# ✅ DataLoader\n",
        "train_dataset = TensorDataset(X_train_adv, y_train_tensor)  \n",
        "valid_dataset = TensorDataset(X_valid_adv, y_valid_tensor)   \n",
        "\n",
        "train_loader = DataLoader(train_dataset, batch_size=512, shuffle=True)\n",
        "valid_loader = DataLoader(valid_dataset, batch_size=512, shuffle=False)\n",
        "\n",
        "# ✅ Optuna 목적 함수\n",
        "def objective(trial):\n",
        "    d_token = trial.suggest_categorical(\"d_token\", [32, 64, 128])\n",
        "    n_blocks = trial.suggest_int(\"n_blocks\", 2, 6)\n",
        "    n_heads = trial.suggest_categorical(\"n_heads\", [2, 4, 8])\n",
        "    dropout = trial.suggest_float(\"dropout\", 0.1, 0.5)\n",
        "    ffn_d_hidden = trial.suggest_categorical(\"ffn_d_hidden\", [128, 256, 512])\n",
        "\n",
        "    model = FTTransformer.make_baseline(\n",
        "        n_num_features=0,                      # 수치형 없음\n",
        "        cat_cardinalities=cat_cardinalities,   # 범주형 클래스 수 지정\n",
        "        d_token=d_token,\n",
        "        n_blocks=n_blocks,\n",
        "        attention_dropout=dropout,\n",
        "        ffn_d_hidden=ffn_d_hidden,\n",
        "        ffn_dropout=dropout,\n",
        "        residual_dropout=dropout,\n",
        "        d_out=1\n",
        "    ).to(device)\n",
        "\n",
        "    optimizer = torch.optim.AdamW(model.parameters(), lr=1e-3)\n",
        "    loss_fn = nn.MSELoss()\n",
        "\n",
        "    best_rmse = float(\"inf\")\n",
        "    patience = 10\n",
        "    trigger_times = 0\n",
        "\n",
        "    for epoch in range(80):\n",
        "        model.train()\n",
        "        for xb, yb in train_loader:\n",
        "            xb, yb = xb.to(device), yb.to(device)\n",
        "            _, x_cat = split_features(xb)\n",
        "            pred = model(None, x_cat.to(device).long())\n",
        "            loss = loss_fn(pred, yb)\n",
        "            optimizer.zero_grad()\n",
        "            loss.backward()\n",
        "            optimizer.step()\n",
        "\n",
        "        # 검증\n",
        "        model.eval()\n",
        "        preds = []\n",
        "        with torch.no_grad():\n",
        "            for xb, _ in valid_loader:\n",
        "                xb = xb.to(device)\n",
        "                _, x_cat = split_features(xb)\n",
        "                pred = model(None, x_cat.to(device).long())\n",
        "                preds.append(pred.cpu().numpy())\n",
        "\n",
        "        preds = np.vstack(preds)\n",
        "        rmse = np.sqrt(np.mean((y_valid_tensor.cpu().numpy() - preds) ** 2))   # ⬅️ GPU 고려해 .cpu()\n",
        "\n",
        "        if rmse < best_rmse:\n",
        "            best_rmse = rmse\n",
        "            trigger_times = 0\n",
        "        else:\n",
        "            trigger_times += 1\n",
        "            if trigger_times >= patience:\n",
        "                break\n",
        "\n",
        "    return best_rmse\n",
        "\n",
        "# ✅ Optuna 실행\n",
        "study = optuna.create_study(direction=\"minimize\")\n",
        "study.optimize(objective, n_trials=5)\n",
        "\n",
        "# ✅ 결과 확인\n",
        "print(\"Best trial:\")\n",
        "print(study.best_trial)\n"
      ]
    },
    {
      "cell_type": "code",
      "execution_count": null,
      "metadata": {
        "id": "c7z-x6nijauP"
      },
      "outputs": [],
      "source": [
        "fixed_params = {\n",
        "    \"d_token\": 64,\n",
        "    \"n_blocks\": 6,\n",
        "    \"n_heads\": 4,\n",
        "    \"dropout\": 0.18461083843716591,\n",
        "    \"ffn_d_hidden\": 512\n",
        "}"
      ]
    },
    {
      "cell_type": "code",
      "execution_count": null,
      "metadata": {
        "colab": {
          "base_uri": "https://localhost:8080/"
        },
        "id": "h-wW9KniZvvc",
        "outputId": "d61b3e11-d539-42d7-80fa-46fabe522359"
      },
      "outputs": [
        {
          "name": "stderr",
          "output_type": "stream",
          "text": [
            "[I 2025-06-02 16:59:44,131] A new study created in memory with name: no-name-f8c9dcca-ba3f-470c-a1d1-790b04a58b2b\n",
            "[I 2025-06-02 17:16:02,303] Trial 0 finished with value: 0.009363311342895031 and parameters: {'lr': 0.0011551468095722312, 'weight_decay': 0.009657899108623313, 'batch_size': 2048}. Best is trial 0 with value: 0.009363311342895031.\n",
            "[I 2025-06-02 17:28:25,272] Trial 1 finished with value: 0.009597341530025005 and parameters: {'lr': 0.0014770590058152014, 'weight_decay': 0.00478996500029039, 'batch_size': 2048}. Best is trial 0 with value: 0.009363311342895031.\n",
            "[I 2025-06-02 17:42:35,202] Trial 2 finished with value: 0.009553882293403149 and parameters: {'lr': 0.00028838988803365806, 'weight_decay': 0.006318059154128248, 'batch_size': 2048}. Best is trial 0 with value: 0.009363311342895031.\n",
            "[I 2025-06-02 18:07:45,014] Trial 3 finished with value: 0.009289581328630447 and parameters: {'lr': 0.00022610258666503442, 'weight_decay': 0.009544484639969084, 'batch_size': 2048}. Best is trial 3 with value: 0.009289581328630447.\n",
            "[I 2025-06-02 18:18:42,889] Trial 4 finished with value: 0.010961568914353848 and parameters: {'lr': 0.00043474400743196963, 'weight_decay': 0.009984061610139611, 'batch_size': 2048}. Best is trial 3 with value: 0.009289581328630447.\n"
          ]
        },
        {
          "name": "stdout",
          "output_type": "stream",
          "text": [
            "Best trial:\n",
            "FrozenTrial(number=3, state=1, values=[0.009289581328630447], datetime_start=datetime.datetime(2025, 6, 2, 17, 42, 35, 203604), datetime_complete=datetime.datetime(2025, 6, 2, 18, 7, 45, 14064), params={'lr': 0.00022610258666503442, 'weight_decay': 0.009544484639969084, 'batch_size': 2048}, user_attrs={}, system_attrs={}, intermediate_values={}, distributions={'lr': FloatDistribution(high=0.003, log=True, low=0.0001, step=None), 'weight_decay': FloatDistribution(high=0.01, log=False, low=0.0, step=None), 'batch_size': CategoricalDistribution(choices=(512, 1024, 2048))}, trial_id=3, value=None)\n"
          ]
        }
      ],
      "source": [
        "def hparam_objective(trial):\n",
        "    # 하이퍼파라미터 샘플링\n",
        "    lr = trial.suggest_float(\"lr\", 1e-4, 3e-3, log=True)\n",
        "    weight_decay = trial.suggest_float(\"weight_decay\", 0.0, 1e-2)\n",
        "    batch_size = trial.suggest_categorical(\"batch_size\", [512, 1024, 2048])\n",
        "\n",
        "    # 범주형 변수 인덱스 및 cardinalities (고정)\n",
        "    cat_indices = list(range(X_train_adv.shape[1]))\n",
        "    cat_cardinalities = [\n",
        "        int(X_train_adv[:, i].max().item()) + 1\n",
        "        for i in cat_indices\n",
        "    ]\n",
        "\n",
        "    # 모델 정의\n",
        "    model = FTTransformer.make_baseline(\n",
        "        n_num_features=0,\n",
        "        cat_cardinalities=cat_cardinalities,\n",
        "        d_token=fixed_params[\"d_token\"],\n",
        "        n_blocks=fixed_params[\"n_blocks\"],\n",
        "        attention_dropout=fixed_params[\"dropout\"],\n",
        "        ffn_d_hidden=fixed_params[\"ffn_d_hidden\"],\n",
        "        ffn_dropout=fixed_params[\"dropout\"],\n",
        "        residual_dropout=fixed_params[\"dropout\"],\n",
        "        d_out=1\n",
        "    ).to(device)\n",
        "\n",
        "    # 옵티마이저\n",
        "    optimizer = torch.optim.AdamW(model.parameters(), lr=lr, weight_decay=weight_decay)\n",
        "    loss_fn = nn.MSELoss()\n",
        "\n",
        "    # 배치 크기에 따른 DataLoader\n",
        "    train_loader = DataLoader(train_dataset, batch_size=batch_size, shuffle=True, pin_memory=False)\n",
        "    valid_loader = DataLoader(valid_dataset, batch_size=batch_size, shuffle=False, pin_memory=False)\n",
        "\n",
        "    # 학습 루프\n",
        "    best_rmse = float(\"inf\")\n",
        "    patience = 10\n",
        "    trigger_times = 0\n",
        "\n",
        "    for epoch in range(80):\n",
        "        model.train()\n",
        "        for xb, yb in train_loader:\n",
        "            xb, yb = xb.to(device), yb.to(device)\n",
        "            x_cat = xb[:, cat_indices].long()\n",
        "            pred = model(None, x_cat)\n",
        "            loss = loss_fn(pred, yb)\n",
        "            optimizer.zero_grad()\n",
        "            loss.backward()\n",
        "            optimizer.step()\n",
        "\n",
        "        # 검증\n",
        "        model.eval()\n",
        "        preds = []\n",
        "        with torch.no_grad():\n",
        "            for xb, _ in valid_loader:\n",
        "                xb = xb.to(device)\n",
        "                x_cat = xb[:, cat_indices].long()\n",
        "                pred = model(None, x_cat)\n",
        "                preds.append(pred.cpu().numpy())\n",
        "\n",
        "        preds = np.vstack(preds)\n",
        "        rmse = np.sqrt(np.mean((y_valid_tensor.cpu().numpy() - preds) ** 2))\n",
        "\n",
        "\n",
        "        if rmse < best_rmse:\n",
        "            best_rmse = rmse\n",
        "            trigger_times = 0\n",
        "        else:\n",
        "            trigger_times += 1\n",
        "            if trigger_times >= patience:\n",
        "                break\n",
        "\n",
        "    return best_rmse\n",
        "\n",
        "study_hparam = optuna.create_study(direction=\"minimize\")\n",
        "study_hparam.optimize(hparam_objective, n_trials=5)  \n",
        "\n",
        "print(\"Best trial:\")\n",
        "print(study_hparam.best_trial)\n"
      ]
    },
    {
      "cell_type": "code",
      "execution_count": 1,
      "metadata": {},
      "outputs": [],
      "source": [
        "fixed_params = {\n",
        "    \"d_token\": 64,\n",
        "    \"n_blocks\": 4,\n",
        "    \"n_heads\": 4,\n",
        "    \"dropout\": 0.1971837206675287,\n",
        "    \"ffn_d_hidden\": 512\n",
        "}\n",
        "\n",
        "best_hparam = {\n",
        "    \"lr\": 0.00022610258666503442,\n",
        "    \"weight_decay\": 0.009544484639969084,\n",
        "    \"batch_size\": 2048\n",
        "}"
      ]
    },
    {
      "cell_type": "code",
      "execution_count": null,
      "metadata": {
        "colab": {
          "base_uri": "https://localhost:8080/"
        },
        "id": "KBKbr0i_lYhJ",
        "outputId": "066ea993-1138-4b6d-a8c7-ccc96ed70f45"
      },
      "outputs": [
        {
          "name": "stdout",
          "output_type": "stream",
          "text": [
            "[1/1000] Loss: 1.7908\n",
            "[2/1000] Loss: 0.1813\n",
            "[3/1000] Loss: 0.0939\n",
            "[4/1000] Loss: 0.0632\n",
            "[5/1000] Loss: 0.0513\n",
            "[6/1000] Loss: 0.0462\n",
            "[7/1000] Loss: 0.0424\n",
            "[8/1000] Loss: 0.0394\n",
            "[9/1000] Loss: 0.0365\n",
            "[10/1000] Loss: 0.0336\n",
            "[11/1000] Loss: 0.0311\n",
            "[12/1000] Loss: 0.0296\n",
            "[13/1000] Loss: 0.0286\n",
            "[14/1000] Loss: 0.0274\n",
            "[15/1000] Loss: 0.0267\n",
            "[16/1000] Loss: 0.0262\n",
            "[17/1000] Loss: 0.0258\n",
            "[18/1000] Loss: 0.0254\n",
            "[19/1000] Loss: 0.0251\n",
            "[20/1000] Loss: 0.0247\n",
            "[21/1000] Loss: 0.0241\n",
            "[22/1000] Loss: 0.0241\n",
            "[23/1000] Loss: 0.0237\n",
            "[24/1000] Loss: 0.0233\n",
            "[25/1000] Loss: 0.0230\n",
            "[26/1000] Loss: 0.0227\n",
            "[27/1000] Loss: 0.0225\n",
            "[28/1000] Loss: 0.0223\n",
            "[29/1000] Loss: 0.0220\n",
            "[30/1000] Loss: 0.0218\n",
            "[31/1000] Loss: 0.0216\n",
            "[32/1000] Loss: 0.0214\n",
            "[33/1000] Loss: 0.0213\n",
            "[34/1000] Loss: 0.0210\n",
            "[35/1000] Loss: 0.0209\n",
            "[36/1000] Loss: 0.0203\n",
            "[37/1000] Loss: 0.0206\n",
            "[38/1000] Loss: 0.0202\n",
            "[39/1000] Loss: 0.0202\n",
            "[40/1000] Loss: 0.0200\n",
            "[41/1000] Loss: 0.0200\n",
            "[42/1000] Loss: 0.0196\n",
            "[43/1000] Loss: 0.0196\n",
            "[44/1000] Loss: 0.0194\n",
            "[45/1000] Loss: 0.0194\n",
            "[46/1000] Loss: 0.0191\n",
            "[47/1000] Loss: 0.0191\n",
            "[48/1000] Loss: 0.0190\n",
            "[49/1000] Loss: 0.0191\n",
            "[50/1000] Loss: 0.0190\n",
            "[51/1000] Loss: 0.0190\n",
            "[52/1000] Loss: 0.0187\n",
            "[53/1000] Loss: 0.0186\n",
            "[54/1000] Loss: 0.0186\n",
            "[55/1000] Loss: 0.0186\n",
            "[56/1000] Loss: 0.0186\n",
            "[57/1000] Loss: 0.0185\n",
            "[58/1000] Loss: 0.0183\n",
            "[59/1000] Loss: 0.0182\n",
            "[60/1000] Loss: 0.0182\n",
            "[61/1000] Loss: 0.0182\n",
            "[62/1000] Loss: 0.0183\n",
            "[63/1000] Loss: 0.0181\n",
            "[64/1000] Loss: 0.0179\n",
            "[65/1000] Loss: 0.0178\n",
            "[66/1000] Loss: 0.0179\n",
            "[67/1000] Loss: 0.0177\n",
            "[68/1000] Loss: 0.0178\n",
            "[69/1000] Loss: 0.0178\n",
            "[70/1000] Loss: 0.0175\n",
            "[71/1000] Loss: 0.0175\n",
            "[72/1000] Loss: 0.0175\n",
            "[73/1000] Loss: 0.0175\n",
            "[74/1000] Loss: 0.0172\n",
            "[75/1000] Loss: 0.0172\n",
            "[76/1000] Loss: 0.0174\n",
            "[77/1000] Loss: 0.0172\n",
            "[78/1000] Loss: 0.0172\n",
            "[79/1000] Loss: 0.0173\n",
            "[80/1000] Loss: 0.0171\n",
            "[81/1000] Loss: 0.0171\n",
            "[82/1000] Loss: 0.0168\n",
            "[83/1000] Loss: 0.0170\n",
            "[84/1000] Loss: 0.0169\n",
            "[85/1000] Loss: 0.0167\n",
            "[86/1000] Loss: 0.0168\n",
            "[87/1000] Loss: 0.0169\n",
            "[88/1000] Loss: 0.0166\n",
            "[89/1000] Loss: 0.0166\n",
            "[90/1000] Loss: 0.0167\n",
            "[91/1000] Loss: 0.0165\n",
            "[92/1000] Loss: 0.0165\n",
            "[93/1000] Loss: 0.0164\n",
            "[94/1000] Loss: 0.0165\n",
            "[95/1000] Loss: 0.0164\n",
            "[96/1000] Loss: 0.0164\n",
            "[97/1000] Loss: 0.0163\n",
            "[98/1000] Loss: 0.0161\n",
            "[99/1000] Loss: 0.0163\n",
            "[100/1000] Loss: 0.0158\n",
            "\n",
            "✅ 최종 RMSE: 1,623,371.64\n",
            "✅ 최종 R²: 0.63123\n"
          ]
        }
      ],
      "source": [
        "import torch\n",
        "import torch.nn as nn\n",
        "import numpy as np\n",
        "from torch.utils.data import DataLoader, TensorDataset\n",
        "from rtdl import FTTransformer\n",
        "from sklearn.metrics import mean_squared_error, r2_score\n",
        "\n",
        "# ✅ 디바이스 설정\n",
        "device = torch.device(\"cuda\" if torch.cuda.is_available() else \"cpu\")\n",
        "\n",
        "# ✅ 데이터 병합 (train + valid)\n",
        "X_final_tensor = torch.cat([X_train_adv, X_valid_adv], dim=0)\n",
        "y_final_tensor = torch.cat([y_train_tensor, y_valid_tensor], dim=0)\n",
        "\n",
        "train_dataset = TensorDataset(X_final_tensor, y_final_tensor)\n",
        "test_dataset = TensorDataset(X_test_tensor, y_test_tensor)\n",
        "\n",
        "train_loader = DataLoader(train_dataset, batch_size=best_hparam[\"batch_size\"], shuffle=True, pin_memory=False)\n",
        "test_loader = DataLoader(test_dataset, batch_size=best_hparam[\"batch_size\"], shuffle=False, pin_memory=False)\n",
        "\n",
        "# ✅ 범주형 인덱스 및 cardinalities 계산\n",
        "cat_indices = list(range(X_final_tensor.shape[1]))\n",
        "cat_cardinalities = [\n",
        "    int(X_final_tensor[:, i].max().item()) + 1\n",
        "    for i in cat_indices\n",
        "]\n",
        "\n",
        "# ✅ 모델 정의\n",
        "model = FTTransformer.make_baseline(\n",
        "    n_num_features=0,                         \n",
        "    cat_cardinalities=cat_cardinalities,      #  범주형 cardinality 계산\n",
        "    d_token=fixed_params[\"d_token\"],\n",
        "    n_blocks=fixed_params[\"n_blocks\"],\n",
        "    attention_dropout=fixed_params[\"dropout\"],\n",
        "    ffn_d_hidden=fixed_params[\"ffn_d_hidden\"],\n",
        "    ffn_dropout=fixed_params[\"dropout\"],\n",
        "    residual_dropout=fixed_params[\"dropout\"],\n",
        "    d_out=1\n",
        ").to(device)\n",
        "\n",
        "\n",
        "# ✅ 학습 준비\n",
        "optimizer = torch.optim.AdamW(model.parameters(), lr=best_hparam[\"lr\"], weight_decay=best_hparam[\"weight_decay\"])\n",
        "loss_fn = nn.MSELoss()\n",
        "\n",
        "# ✅ 학습 루프\n",
        "model.train()\n",
        "for epoch in range(100):\n",
        "    total_loss = 0\n",
        "    for xb, yb in train_loader:\n",
        "        xb, yb = xb.to(device), yb.to(device)\n",
        "        x_cat = xb[:, cat_indices].long()\n",
        "        optimizer.zero_grad()\n",
        "        preds = model(None, x_cat)\n",
        "        loss = loss_fn(preds, yb)\n",
        "        loss.backward()\n",
        "        optimizer.step()\n",
        "        total_loss += loss.item()\n",
        "    print(f\"[{epoch+1}/1000] Loss: {total_loss:.4f}\")\n",
        "\n",
        "# ✅ 테스트셋 예측\n",
        "model.eval()\n",
        "preds = []\n",
        "with torch.no_grad():\n",
        "    for xb, _ in test_loader:\n",
        "        xb = xb.to(device)\n",
        "        x_cat = xb[:, cat_indices].long()\n",
        "        pred = model(None, x_cat)\n",
        "        preds.append(pred.cpu().numpy())\n",
        "\n",
        "preds = np.vstack(preds)\n",
        "y_test = y_test_tensor.cpu().numpy()\n",
        "\n",
        "# ✅ 역정규화\n",
        "y_min = 216.0\n",
        "y_max = 165300000.0\n",
        "\n",
        "preds_inverse = preds * (y_max - y_min) + y_min\n",
        "y_test_inverse = y_test * (y_max - y_min) + y_min\n",
        "\n",
        "# ✅ 성능 평가\n",
        "mse = mean_squared_error(y_test_inverse, preds_inverse)\n",
        "rmse = np.sqrt(mse)\n",
        "r2 = r2_score(y_test_inverse, preds_inverse)\n",
        "\n",
        "print(f\"\\n✅ 최종 RMSE: {rmse:,.2f}\")\n",
        "print(f\"✅ 최종 R²: {r2:.5f}\")"
      ]
    },
    {
      "cell_type": "code",
      "execution_count": null,
      "metadata": {
        "id": "9n6-w7p07eMl"
      },
      "outputs": [],
      "source": [
        "torch.save(model, \"ADV_fttransformer_trained.pt\")\n"
      ]
    },
    {
      "cell_type": "code",
      "execution_count": null,
      "metadata": {
        "id": "pI0P_BciezAt",
        "outputId": "34755423-740d-48e6-af98-ef7978a91055"
      },
      "outputs": [
        {
          "data": {
            "image/png": "[encoded data removed]",
            "text/plain": [
              "<Figure size 1200x500 with 2 Axes>"
            ]
          },
          "metadata": {},
          "output_type": "display_data"
        }
      ],
      "source": [
        "import matplotlib.pyplot as plt\n",
        "import numpy as np\n",
        "\n",
        "# 한글 폰트 설정\n",
        "plt.rcParams['font.family'] = 'Malgun Gothic'\n",
        "plt.rcParams['axes.unicode_minus'] = False\n",
        "\n",
        "# ✅ 데이터\n",
        "labels = ['공격 전', '공격 후']\n",
        "rmse_values = [1545606.65, 1623371.64]\n",
        "r2_values = [0.66571, 0.63123]\n",
        "colors = ['skyblue', 'salmon']  # 공격 전/후 색상 지정\n",
        "\n",
        "x = np.arange(len(labels))\n",
        "\n",
        "# ✅ 시각화\n",
        "fig, axs = plt.subplots(1, 2, figsize=(12, 5))\n",
        "\n",
        "# ▶ RMSE 그래프\n",
        "bars1 = axs[0].bar(labels, rmse_values, color=colors)\n",
        "axs[0].set_title('공격 전 vs 공격 후 FTTransfer 모델의 RMSE 비교')\n",
        "axs[0].set_ylabel('RMSE')\n",
        "axs[0].set_ylim(1500000, 1900000)\n",
        "\n",
        "# ▶ RMSE 막대 위 숫자\n",
        "for bar in bars1:\n",
        "    height = bar.get_height()\n",
        "    axs[0].text(bar.get_x() + bar.get_width() / 2, height + 10000, f\"{height:,.0f}\",\n",
        "                ha='center', va='bottom', fontsize=10)\n",
        "\n",
        "# ▶ R² 그래프\n",
        "bars2 = axs[1].bar(labels, r2_values, color=colors)\n",
        "axs[1].set_title('공격 전 vs 공격 후 FTTransfer 모델의 R² 비교')\n",
        "axs[1].set_ylabel('R²')\n",
        "axs[1].set_ylim(0.5, 0.8)\n",
        "\n",
        "# ▶ R² 막대 위 숫자\n",
        "for bar in bars2:\n",
        "    height = bar.get_height()\n",
        "    axs[1].text(bar.get_x() + bar.get_width() / 2, height + 0.01, f\"{height:.3f}\",\n",
        "                ha='center', va='bottom', fontsize=10)\n",
        "\n",
        "plt.tight_layout()\n",
        "plt.show()\n"
      ]
    },
    {
      "cell_type": "markdown",
      "metadata": {
        "id": "jxjXXZ7HgKal"
      },
      "source": [
        "# 추가 분석"
      ]
    },
    {
      "cell_type": "code",
      "execution_count": 12,
      "metadata": {
        "colab": {
          "base_uri": "https://localhost:8080/"
        },
        "id": "7w5jEiNBezAt",
        "outputId": "7f8e382f-dafc-4b68-907a-8c1844ed146a"
      },
      "outputs": [
        {
          "data": {
            "text/plain": [
              "FTTransformer(\n",
              "  (feature_tokenizer): FeatureTokenizer(\n",
              "    (cat_tokenizer): CategoricalFeatureTokenizer(\n",
              "      (embeddings): Embedding(90, 64)\n",
              "    )\n",
              "  )\n",
              "  (cls_token): CLSToken()\n",
              "  (transformer): Transformer(\n",
              "    (blocks): ModuleList(\n",
              "      (0): ModuleDict(\n",
              "        (attention): MultiheadAttention(\n",
              "          (W_q): Linear(in_features=64, out_features=64, bias=True)\n",
              "          (W_k): Linear(in_features=64, out_features=64, bias=True)\n",
              "          (W_v): Linear(in_features=64, out_features=64, bias=True)\n",
              "          (W_out): Linear(in_features=64, out_features=64, bias=True)\n",
              "          (dropout): Dropout(p=0.1971837206675287, inplace=False)\n",
              "        )\n",
              "        (ffn): FFN(\n",
              "          (linear_first): Linear(in_features=64, out_features=1024, bias=True)\n",
              "          (activation): ReGLU()\n",
              "          (dropout): Dropout(p=0.1971837206675287, inplace=False)\n",
              "          (linear_second): Linear(in_features=512, out_features=64, bias=True)\n",
              "        )\n",
              "        (attention_residual_dropout): Dropout(p=0.1971837206675287, inplace=False)\n",
              "        (ffn_residual_dropout): Dropout(p=0.1971837206675287, inplace=False)\n",
              "        (output): Identity()\n",
              "        (ffn_normalization): LayerNorm((64,), eps=1e-05, elementwise_affine=True)\n",
              "      )\n",
              "      (1-3): 3 x ModuleDict(\n",
              "        (attention): MultiheadAttention(\n",
              "          (W_q): Linear(in_features=64, out_features=64, bias=True)\n",
              "          (W_k): Linear(in_features=64, out_features=64, bias=True)\n",
              "          (W_v): Linear(in_features=64, out_features=64, bias=True)\n",
              "          (W_out): Linear(in_features=64, out_features=64, bias=True)\n",
              "          (dropout): Dropout(p=0.1971837206675287, inplace=False)\n",
              "        )\n",
              "        (ffn): FFN(\n",
              "          (linear_first): Linear(in_features=64, out_features=1024, bias=True)\n",
              "          (activation): ReGLU()\n",
              "          (dropout): Dropout(p=0.1971837206675287, inplace=False)\n",
              "          (linear_second): Linear(in_features=512, out_features=64, bias=True)\n",
              "        )\n",
              "        (attention_residual_dropout): Dropout(p=0.1971837206675287, inplace=False)\n",
              "        (ffn_residual_dropout): Dropout(p=0.1971837206675287, inplace=False)\n",
              "        (output): Identity()\n",
              "        (attention_normalization): LayerNorm((64,), eps=1e-05, elementwise_affine=True)\n",
              "        (ffn_normalization): LayerNorm((64,), eps=1e-05, elementwise_affine=True)\n",
              "      )\n",
              "    )\n",
              "    (head): Head(\n",
              "      (normalization): LayerNorm((64,), eps=1e-05, elementwise_affine=True)\n",
              "      (activation): ReLU()\n",
              "      (linear): Linear(in_features=64, out_features=1, bias=True)\n",
              "    )\n",
              "  )\n",
              ")"
            ]
          },
          "execution_count": 12,
          "metadata": {},
          "output_type": "execute_result"
        }
      ],
      "source": [
        "from rtdl import FTTransformer\n",
        "from torch.serialization import safe_globals\n",
        "import torch\n",
        "\n",
        "# ✅ 데이터 로딩\n",
        "with open(\"ADV&VIF_split_data_fn_transformer.pkl\", \"rb\") as f:\n",
        "    X_train_adv, X_valid_tensor, X_test_adv, y_train_tensor, y_valid_tensor, y_test_tensor = pickle.load(f)\n",
        "\n",
        "with safe_globals([FTTransformer]):\n",
        "    ft_model = torch.load(\"ADV_fttransformer_trained.pt\", weights_only=False, map_location=torch.device(\"cpu\"))\n",
        "ft_model.eval()"
      ]
    },
    {
      "cell_type": "code",
      "execution_count": 17,
      "metadata": {
        "colab": {
          "base_uri": "https://localhost:8080/"
        },
        "id": "Lo8R5c-3g4iJ",
        "outputId": "46aa81a3-c425-4fc0-e068-b87dafa3a081"
      },
      "outputs": [
        {
          "name": "stdout",
          "output_type": "stream",
          "text": [
            "\n",
            "📊 FTTransformer 평가 결과 (적대적 훈련 기반)\n",
            "MSE:   2,635,335,467,008.00\n",
            "RMSE:  1,623,371.64\n",
            "MAE:   427,002.44\n",
            "SMAPE: 142.6570%\n",
            "R²:    0.63123\n"
          ]
        }
      ],
      "source": [
        "import torch\n",
        "import numpy as np\n",
        "from sklearn.metrics import mean_squared_error, mean_absolute_error, r2_score\n",
        "\n",
        "# ✅ SMAPE 함수 정의\n",
        "def smape(y_true, y_pred):\n",
        "    y_true = np.ravel(y_true)\n",
        "    y_pred = np.ravel(y_pred)\n",
        "\n",
        "    denominator = (np.abs(y_true) + np.abs(y_pred)) / 2\n",
        "    diff = np.abs(y_true - y_pred) / denominator\n",
        "    diff[denominator == 0] = 0.0\n",
        "    return 100 * np.mean(diff)\n",
        "\n",
        "# ✅ 역정규화 기준\n",
        "y_min = 216.0\n",
        "y_max = 165300000.0\n",
        "\n",
        "# ✅ 예측\n",
        "device = torch.device(\"cuda\" if torch.cuda.is_available() else \"cpu\")\n",
        "ft_model.to(device)\n",
        "ft_model.eval()\n",
        "preds = []\n",
        "\n",
        "cat_indices = list(range(X_test_tensor.shape[1]))\n",
        "batch_size = 1024\n",
        "n_samples = X_test_tensor.size(0)\n",
        "\n",
        "with torch.no_grad():\n",
        "    for i in range(0, n_samples, batch_size):\n",
        "        xb = X_test_tensor[i:i+batch_size].to(device)\n",
        "        x_cat = xb[:, cat_indices].long()\n",
        "        pred = ft_model(None, x_cat)\n",
        "        preds.append(pred.cpu().numpy())\n",
        "\n",
        "\n",
        "# ✅ 연결 및 역정규화\n",
        "y_pred = np.concatenate(preds).squeeze()\n",
        "y_true = y_test_tensor.cpu().numpy().squeeze()\n",
        "\n",
        "y_pred_inv = y_pred * (y_max - y_min) + y_min\n",
        "y_true_inv = y_true * (y_max - y_min) + y_min\n",
        "\n",
        "# ✅ 성능 지표 계산\n",
        "mse = mean_squared_error(y_true_inv, y_pred_inv)\n",
        "rmse = np.sqrt(mse)\n",
        "mae = mean_absolute_error(y_true_inv, y_pred_inv)\n",
        "smp = smape(y_true_inv, y_pred_inv)\n",
        "r2 = r2_score(y_true_inv, y_pred_inv)\n",
        "\n",
        "# ✅ 출력\n",
        "print(\"\\n📊 FTTransformer 평가 결과 (적대적 훈련 기반)\")\n",
        "print(f\"MSE:   {mse:,.2f}\")\n",
        "print(f\"RMSE:  {rmse:,.2f}\")\n",
        "print(f\"MAE:   {mae:,.2f}\")\n",
        "print(f\"SMAPE: {smp:,.4f}%\")\n",
        "print(f\"R²:    {r2:.5f}\")\n",
        "\n"
      ]
    },
    {
      "cell_type": "code",
      "execution_count": 18,
      "metadata": {
        "colab": {
          "base_uri": "https://localhost:8080/"
        },
        "id": "b2riAgipicQO",
        "outputId": "cbf728d3-3eb3-49cb-f01b-81eda5968baa"
      },
      "outputs": [
        {
          "name": "stdout",
          "output_type": "stream",
          "text": [
            "📁 성능 지표 저장 완료 → adv_fttransforemr_results.csv\n"
          ]
        }
      ],
      "source": [
        "import pandas as pd\n",
        "\n",
        "# ✅ 저장할 지표 정리\n",
        "result_df = pd.DataFrame([{\n",
        "    \"Model\": \"FTTransformer_ADV\",  # 원하는 모델명 지정\n",
        "    \"MSE\": mse,\n",
        "    \"RMSE\": rmse,\n",
        "    \"MAE\": mae,\n",
        "    \"SMAPE\": smp,\n",
        "    \"R2\": r2\n",
        "}])\n",
        "\n",
        "\n",
        "# ✅ CSV 저장\n",
        "save_path = \"adv_fttransforemr_results.csv\"\n",
        "result_df.to_csv(save_path, index=False)\n",
        "\n",
        "print(f\"📁 성능 지표 저장 완료 → {save_path}\")\n"
      ]
    }
  ],
  "metadata": {
    "accelerator": "GPU",
    "colab": {
      "gpuType": "T4",
      "provenance": []
    },
    "kernelspec": {
      "display_name": "venv",
      "language": "python",
      "name": "python3"
    },
    "language_info": {
      "codemirror_mode": {
        "name": "ipython",
        "version": 3
      },
      "file_extension": ".py",
      "mimetype": "text/x-python",
      "name": "python",
      "nbconvert_exporter": "python",
      "pygments_lexer": "ipython3",
      "version": "3.10.0"
    }
  },
  "nbformat": 4,
  "nbformat_minor": 0
}
