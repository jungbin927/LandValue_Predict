{
 "cells": [
  {
   "cell_type": "markdown",
   "id": "172cc92a",
   "metadata": {},
   "source": [
    "### 라이브러리 및 데이터셋 호출"
   ]
  },
  {
   "cell_type": "code",
   "execution_count": 1,
   "id": "be3cbccd",
   "metadata": {},
   "outputs": [],
   "source": [
    "import pandas as pd \n",
    "import numpy as np\n",
    "import seaborn as sns \n",
    "import matplotlib.pyplot as plt "
   ]
  },
  {
   "cell_type": "code",
   "execution_count": null,
   "id": "7c0cf001",
   "metadata": {},
   "outputs": [
    {
     "name": "stderr",
     "output_type": "stream",
     "text": [
      "C:\\Users\\jeongbin\\AppData\\Local\\Temp\\ipykernel_24380\\2064968684.py:1: DtypeWarning: Columns (4,5,23,24,26) have mixed types. Specify dtype option on import or set low_memory=False.\n",
      "  df=pd.read_csv('../data/표준지공시지가_20230619.csv')\n"
     ]
    }
   ],
   "source": [
    "df=pd.read_csv('../real_data/표준지공시지가_20230619.csv')"
   ]
  },
  {
   "cell_type": "code",
   "execution_count": null,
   "id": "b936cf70",
   "metadata": {},
   "outputs": [
    {
     "name": "stderr",
     "output_type": "stream",
     "text": [
      "C:\\Users\\jeongbin\\AppData\\Local\\Temp\\ipykernel_24380\\4251090754.py:1: DtypeWarning: Columns (1,5,6,18,19,28,37,38,44) have mixed types. Specify dtype option on import or set low_memory=False.\n",
      "  df2=pd.read_csv('../data/표준지공시지가_20240101.csv')\n"
     ]
    }
   ],
   "source": [
    "df2=pd.read_csv('../real_data/표준지공시지가_20240101.csv')"
   ]
  },
  {
   "cell_type": "code",
   "execution_count": 4,
   "id": "042eef38",
   "metadata": {},
   "outputs": [
    {
     "name": "stdout",
     "output_type": "stream",
     "text": [
      "<class 'pandas.core.frame.DataFrame'>\n",
      "RangeIndex: 560000 entries, 0 to 559999\n",
      "Data columns (total 31 columns):\n",
      " #   Column        Non-Null Count   Dtype  \n",
      "---  ------        --------------   -----  \n",
      " 0   일련번호          560000 non-null  int64  \n",
      " 1   시군구           560000 non-null  int64  \n",
      " 2   읍면동리          560000 non-null  int64  \n",
      " 3   지번구분          560000 non-null  int64  \n",
      " 4   본번지           560000 non-null  object \n",
      " 5   부번지           560000 non-null  object \n",
      " 6   시도명           560000 non-null  object \n",
      " 7   시군구명          557406 non-null  object \n",
      " 8   소재지           560000 non-null  object \n",
      " 9   지목            560000 non-null  object \n",
      " 10  면적            560000 non-null  float64\n",
      " 11  용도지역1         560000 non-null  object \n",
      " 12  용도지역2         5719 non-null    object \n",
      " 13  이용상황          560000 non-null  object \n",
      " 14  주위환경          560000 non-null  object \n",
      " 15  지세명           560000 non-null  object \n",
      " 16  형상명           560000 non-null  object \n",
      " 17  도로교통          560000 non-null  object \n",
      " 18  공시지가          560000 non-null  int64  \n",
      " 19  지리적위치1        560000 non-null  object \n",
      " 20  지리적위치2        559961 non-null  object \n",
      " 21  방위            218584 non-null  object \n",
      " 22  용도지구          72025 non-null   object \n",
      " 23  농지구분          60471 non-null   object \n",
      " 24  경지정리          61336 non-null   object \n",
      " 25  전년지가          558924 non-null  float64\n",
      " 26  토지대장 번호(PNU)  560000 non-null  object \n",
      " 27  기타제한          542957 non-null  object \n",
      " 28  계획시설          28040 non-null   object \n",
      " 29  계획시설 저촉여부     560000 non-null  object \n",
      " 30  임야구분          69051 non-null   object \n",
      "dtypes: float64(2), int64(5), object(24)\n",
      "memory usage: 132.4+ MB\n"
     ]
    }
   ],
   "source": [
    "df.info()"
   ]
  },
  {
   "cell_type": "markdown",
   "id": "c403f2c7",
   "metadata": {},
   "source": [
    "### 새로운 데이터셋 생성\n",
    "\n",
    "23년도 데이터: x\n",
    "24년도 공시지가값: y\n"
   ]
  },
  {
   "cell_type": "code",
   "execution_count": null,
   "id": "69f6f578",
   "metadata": {},
   "outputs": [],
   "source": [
    "# 23년 데이터셋, 24년 데이터셋의 변수명 통일\n",
    "df.rename(columns={'토지대장 번호(PNU)': '토지대장번호(PNU)'}, inplace=True)"
   ]
  },
  {
   "cell_type": "code",
   "execution_count": 6,
   "id": "68714967",
   "metadata": {},
   "outputs": [
    {
     "name": "stdout",
     "output_type": "stream",
     "text": [
      "공통 PNU 개수: 465,769개\n"
     ]
    }
   ],
   "source": [
    "# PNU 값에서 양쪽 공백 제거 (strip) 후 비교\n",
    "df_pnu = df['토지대장번호(PNU)'].astype(str).str.strip()\n",
    "df2_pnu = df2['토지대장번호(PNU)'].astype(str).str.strip()\n",
    "\n",
    "# 공통 PNU 개수 계산\n",
    "common_pnu_count = df_pnu.isin(df2_pnu).sum()\n",
    "\n",
    "print(f\"공통 PNU 개수: {common_pnu_count:,}개\")\n"
   ]
  },
  {
   "cell_type": "code",
   "execution_count": null,
   "id": "1c46c13b",
   "metadata": {},
   "outputs": [],
   "source": [
    "# 1. df2에서 PNU와 공시지가만 추출해서 매핑용 테이블 생성\n",
    "# '공시지가'를 '내년_공시지가'로 변경\n",
    "pnu_price_map = df2[['토지대장번호(PNU)', '공시지가']].copy()\n",
    "pnu_price_map.columns = ['토지대장번호(PNU)', '내년_공시지가']\n",
    "\n",
    "# 2. PNU 공백 제거\n",
    "df['토지대장번호(PNU)'] = df['토지대장번호(PNU)'].astype(str).str.strip()\n",
    "pnu_price_map['토지대장번호(PNU)'] = pnu_price_map['토지대장번호(PNU)'].astype(str).str.strip()\n",
    "\n",
    "# 3. df에 merge * 23년도 데이터셋 \n",
    "df = df.merge(pnu_price_map, on='토지대장번호(PNU)', how='left')\n"
   ]
  },
  {
   "cell_type": "code",
   "execution_count": null,
   "id": "e911cad0",
   "metadata": {},
   "outputs": [
    {
     "name": "stdout",
     "output_type": "stream",
     "text": [
      "<class 'pandas.core.frame.DataFrame'>\n",
      "Index: 465769 entries, 0 to 559999\n",
      "Data columns (total 32 columns):\n",
      " #   Column       Non-Null Count   Dtype  \n",
      "---  ------       --------------   -----  \n",
      " 0   일련번호         465769 non-null  int64  \n",
      " 1   시군구          465769 non-null  int64  \n",
      " 2   읍면동리         465769 non-null  int64  \n",
      " 3   지번구분         465769 non-null  int64  \n",
      " 4   본번지          465769 non-null  object \n",
      " 5   부번지          465769 non-null  object \n",
      " 6   시도명          465769 non-null  object \n",
      " 7   시군구명         463255 non-null  object \n",
      " 8   소재지          465769 non-null  object \n",
      " 9   지목           465769 non-null  object \n",
      " 10  면적           465769 non-null  float64\n",
      " 11  용도지역1        465769 non-null  object \n",
      " 12  용도지역2        4646 non-null    object \n",
      " 13  이용상황         465769 non-null  object \n",
      " 14  주위환경         465769 non-null  object \n",
      " 15  지세명          465769 non-null  object \n",
      " 16  형상명          465769 non-null  object \n",
      " 17  도로교통         465769 non-null  object \n",
      " 18  공시지가         465769 non-null  int64  \n",
      " 19  지리적위치1       465769 non-null  object \n",
      " 20  지리적위치2       465755 non-null  object \n",
      " 21  방위           182569 non-null  object \n",
      " 22  용도지구         60742 non-null   object \n",
      " 23  농지구분         49496 non-null   object \n",
      " 24  경지정리         50197 non-null   object \n",
      " 25  전년지가         464878 non-null  float64\n",
      " 26  토지대장번호(PNU)  465769 non-null  object \n",
      " 27  기타제한         453507 non-null  object \n",
      " 28  계획시설         23187 non-null   object \n",
      " 29  계획시설 저촉여부    465769 non-null  object \n",
      " 30  임야구분         55626 non-null   object \n",
      " 31  내년_공시지가      465769 non-null  float64\n",
      "dtypes: float64(3), int64(5), object(24)\n",
      "memory usage: 117.3+ MB\n"
     ]
    }
   ],
   "source": [
    "# 목표변수가 없는 행 제거 \n",
    "df = df.dropna(subset=['내년_공시지가'])\n",
    "df.info()"
   ]
  },
  {
   "cell_type": "markdown",
   "id": "9b8c735a",
   "metadata": {},
   "source": [
    "### 변수 삭제 및 전처리"
   ]
  },
  {
   "cell_type": "code",
   "execution_count": 10,
   "id": "c323c673",
   "metadata": {},
   "outputs": [],
   "source": [
    "# 기존에 탐색을 통한 불필요 변수 삭제\n",
    "df = df.drop(columns=[\n",
    "    '일련번호', '토지대장번호(PNU)', '시군구', '읍면동리',\n",
    "    '본번지', '부번지', '시군구명', '소재지',\n",
    "    '공시지가', '지리적위치1','전년지가','용도지역2'\n",
    "])\n"
   ]
  },
  {
   "cell_type": "markdown",
   "id": "7e51f99f",
   "metadata": {},
   "source": [
    "지번구분 전처리"
   ]
  },
  {
   "cell_type": "code",
   "execution_count": 11,
   "id": "0e8d83c7",
   "metadata": {},
   "outputs": [],
   "source": [
    "# 1% 미만인 값들 묶기 \n",
    "threshold=0.01\n",
    "value_counts=df['지번구분'].value_counts(normalize=True)\n",
    "\n",
    "# 1% 미만인 값들\n",
    "rare_values=value_counts[value_counts < threshold].index\n",
    "\n",
    "# 기타로 묶기\n",
    "df['지번구분'] = df['지번구분'].apply(lambda x: '기타' if x in rare_values else x)"
   ]
  },
  {
   "cell_type": "markdown",
   "id": "3b92658c",
   "metadata": {},
   "source": [
    "지목 전처리"
   ]
  },
  {
   "cell_type": "code",
   "execution_count": 12,
   "id": "c60525b8",
   "metadata": {},
   "outputs": [],
   "source": [
    "# 1. 지목별 count 계산\n",
    "jimok_counts = df['지목'].value_counts()\n",
    "\n",
    "# 2. 기준에 따라 그룹화 (4000 미만은 '기타')\n",
    "df['지목'] = df['지목'].apply(\n",
    "    lambda x: x if jimok_counts[x] >= 4000 else '기타'\n",
    ")\n"
   ]
  },
  {
   "cell_type": "markdown",
   "id": "bf335e5f",
   "metadata": {},
   "source": [
    "용도지역 재분류"
   ]
  },
  {
   "cell_type": "code",
   "execution_count": 13,
   "id": "72ecf203",
   "metadata": {},
   "outputs": [
    {
     "data": {
      "text/plain": [
       "용도지역1\n",
       "계획관리지역       103557\n",
       "농림지역          64811\n",
       "제2종일반주거지역     61851\n",
       "자연녹지지역        45540\n",
       "생산관리지역        37142\n",
       "보전관리지역        31452\n",
       "제1종일반주거지역     31400\n",
       "일반상업지역        29894\n",
       "개발제한구역        17576\n",
       "제3종일반주거지역     12916\n",
       "준주거지역         10842\n",
       "생산녹지지역         7354\n",
       "자연환경보전지역       7238\n",
       "준공업지역          4196\n",
       "Name: count, dtype: int64"
      ]
     },
     "execution_count": 13,
     "metadata": {},
     "output_type": "execute_result"
    }
   ],
   "source": [
    "replace_map = {\n",
    "    '보전녹지지역': '자연녹지지역',\n",
    "    '일반공업지역': '준공업지역',\n",
    "    '준공업지역': '생산관리지역',\n",
    "    '중심상업지역': '일반상업지역',\n",
    "    '제1종전용주거지역': '제1종일반주거지역',\n",
    "    '근린상업지역': '일반상업지역',\n",
    "    '제2종전용주거지역': '제2종일반주거지역',\n",
    "    '유통상업지역': '일반상업지역',\n",
    "    '전용공업지역': '준공업지역',\n",
    "    '용도미지정지역': '계획관리지역',\n",
    "    '관리지역': '계획관리지역'\n",
    "}\n",
    "\n",
    "df['용도지역1'] = df['용도지역1'].replace(replace_map)\n",
    "df['용도지역1'].value_counts()"
   ]
  },
  {
   "cell_type": "markdown",
   "id": "27cf7ff8",
   "metadata": {},
   "source": [
    "이용상황 재분류"
   ]
  },
  {
   "cell_type": "code",
   "execution_count": 19,
   "id": "770ed49e",
   "metadata": {},
   "outputs": [
    {
     "data": {
      "text/plain": [
       "이용상황\n",
       "단독주택    126941\n",
       "전        98082\n",
       "답        78285\n",
       "자연림      55633\n",
       "상업용      47454\n",
       "주상용      31421\n",
       "과수원      15423\n",
       "공업용      11145\n",
       "기타        1385\n",
       "Name: count, dtype: int64"
      ]
     },
     "execution_count": 19,
     "metadata": {},
     "output_type": "execute_result"
    }
   ],
   "source": [
    "# 통합 매핑 딕셔너리\n",
    "replace_map_auto = {\n",
    "    '다세대': '단독주택',\n",
    "    '연립주택': '단독주택',\n",
    "    '아파트': '단독주택',\n",
    "    '주거기타': '단독주택',\n",
    "    '주거나지': '단독주택',\n",
    "\n",
    "    '상업기타': '상업용',\n",
    "    '상업나지': '상업용',\n",
    "    '업무용': '상업용',\n",
    "    '휴게소': '상업용',\n",
    "    '터미널': '상업용',\n",
    "    '콘도': '상업용',\n",
    "    '물류터미널': '상업용',\n",
    "    '주차장등': '상업용',\n",
    "\n",
    "    '주상기타': '주상용',\n",
    "    '주상나지': '주상용',\n",
    "\n",
    "    '공업기타': '공업용',\n",
    "    '공업나지': '공업용',\n",
    "    '발전소' :'공업용',\n",
    "    '전기타': '전',\n",
    "    '전축사': '전',\n",
    "    '전창고': '전',\n",
    "\n",
    "    '답기타': '답',\n",
    "    '답창고': '답',\n",
    "    '답축사': '답',\n",
    "    \n",
    "    '광천지': '임야기타',\n",
    "    '염전': '임야기타',\n",
    "    '양어·양식': '임야기타',\n",
    "    '광업용지': '임야기타',\n",
    "\n",
    "    '토지임야': '자연림',\n",
    "    '조림': '자연림',\n",
    "    '임야기타': '자연림',\n",
    "\n",
    "    '골프장_대중제': '운동장등',\n",
    "    '골프장_회원제': '운동장등',\n",
    "    '골프장_간이': '운동장등',\n",
    "    '승마장': '운동장등',\n",
    "    '스키장': '운동장등',\n",
    "\n",
    "    '유원지': '공원등',\n",
    "    '하천등': '공원등',\n",
    "    '공원묘지': '공원등',\n",
    "\n",
    "    '태양광': '발전소',\n",
    "\n",
    "    '유해혐오': '특수기타',\n",
    "    '위험시설': '특수기타'\n",
    "}\n",
    "\n",
    "# 적용\n",
    "df['이용상황'] = df['이용상황'].replace(replace_map_auto)\n",
    "final_map = {\n",
    "    '운동장등': '기타',\n",
    "    '공원등': '기타',\n",
    "    '목장용지': '기타',\n",
    "    '특수기타': '기타',\n",
    "    '공항': '기타',\n",
    "    '도로등': '기타',\n",
    "    '경마장': '기타',\n",
    "    '기타시설': '기타'\n",
    "}\n",
    "\n",
    "# 적용\n",
    "df['이용상황'] = df['이용상황'].replace(final_map)  \n",
    "df['이용상황'].value_counts()\n"
   ]
  },
  {
   "cell_type": "markdown",
   "id": "9066ed8c",
   "metadata": {},
   "source": [
    "주위환경 재분류"
   ]
  },
  {
   "cell_type": "code",
   "execution_count": 20,
   "id": "f5ddce4f",
   "metadata": {},
   "outputs": [
    {
     "data": {
      "text/plain": [
       "주위환경\n",
       "마을주변 농경지대      58213\n",
       "기존 주택지대        32719\n",
       "순수 농경지대        29380\n",
       "산간 농경지대        28412\n",
       "주택 및 상가혼용지대    23692\n",
       "               ...  \n",
       "온천 휴양지대           11\n",
       "온천지대               8\n",
       "온천 관광지대            6\n",
       "해안 목장지대            5\n",
       "계곡 유원지대            1\n",
       "Name: count, Length: 107, dtype: int64"
      ]
     },
     "execution_count": 20,
     "metadata": {},
     "output_type": "execute_result"
    }
   ],
   "source": [
    "df['주위환경'].value_counts()"
   ]
  },
  {
   "cell_type": "code",
   "execution_count": 21,
   "id": "3cadf71a",
   "metadata": {},
   "outputs": [
    {
     "data": {
      "text/plain": [
       "주위환경\n",
       "농촌·경작지대    239896\n",
       "주거지대       103474\n",
       "산림지대        55822\n",
       "상업지대        50821\n",
       "공업지대         8328\n",
       "취락지대         2395\n",
       "개발예정지대       2278\n",
       "기타           1990\n",
       "해안지대          430\n",
       "관광·휴양지대       335\n",
       "Name: count, dtype: int64"
      ]
     },
     "execution_count": 21,
     "metadata": {},
     "output_type": "execute_result"
    }
   ],
   "source": [
    "mapping = {}\n",
    "\n",
    "for env in df['주위환경']:\n",
    "    if '농경' in env or '경지정리' in env or '농촌' in env:\n",
    "        mapping[env] = '농촌·경작지대'\n",
    "    elif '주택' in env or '단지' in env or '아파트' in env or '연립' in env or '전원' in env or '한옥' in env:\n",
    "        mapping[env] = '주거지대'\n",
    "    elif '상가' in env or '시장' in env or '업무' in env:\n",
    "        mapping[env] = '상업지대'\n",
    "    elif '산림' in env or '야산' in env or '임야' in env:\n",
    "        mapping[env] = '산림지대'\n",
    "    elif '공장' in env or '산업단지' in env or '농공단지' in env:\n",
    "        mapping[env] = '공업지대'\n",
    "    elif '취락' in env or '마을' in env:\n",
    "        mapping[env] = '취락지대'\n",
    "    elif '해안' in env:\n",
    "        mapping[env] = '해안지대'\n",
    "    elif '유원지' in env or '관광' in env or '온천' in env:\n",
    "        mapping[env] = '관광·휴양지대'\n",
    "    elif '도로' in env or '노선' in env or '역' in env:\n",
    "        mapping[env] = '교통연계지대'\n",
    "    elif '재개발' in env or '예정' in env:\n",
    "        mapping[env] = '개발예정지대'\n",
    "    elif '기타' in env or '미개발' in env:\n",
    "        mapping[env] = '기타'\n",
    "    else:\n",
    "        mapping[env] = '기타'\n",
    "df['주위환경'] = df['주위환경'].replace(mapping)\n",
    "df['주위환경'].value_counts()"
   ]
  },
  {
   "cell_type": "code",
   "execution_count": 24,
   "id": "4001ecde",
   "metadata": {},
   "outputs": [
    {
     "data": {
      "text/plain": [
       "주위환경\n",
       "농촌·경작지대    239896\n",
       "주거지대       103474\n",
       "산림지대        55822\n",
       "상업지대        50821\n",
       "공업지대         8328\n",
       "기타           7428\n",
       "Name: count, dtype: int64"
      ]
     },
     "execution_count": 24,
     "metadata": {},
     "output_type": "execute_result"
    }
   ],
   "source": [
    "# 1% 미만인 값들 묶기 \n",
    "threshold=0.01\n",
    "value_counts=df['주위환경'].value_counts(normalize=True)\n",
    "\n",
    "# 1% 미만인 값들\n",
    "rare_values=value_counts[value_counts < threshold].index\n",
    "\n",
    "# 기타로 묶기\n",
    "df['주위환경'] = df['주위환경'].apply(lambda x: '기타' if x in rare_values else x)\n",
    "df['주위환경'].value_counts()"
   ]
  },
  {
   "cell_type": "markdown",
   "id": "987f5400",
   "metadata": {},
   "source": [
    "지세명 전처리"
   ]
  },
  {
   "cell_type": "code",
   "execution_count": 26,
   "id": "b6d46e98",
   "metadata": {},
   "outputs": [
    {
     "data": {
      "text/plain": [
       "지세명\n",
       "평지       283798\n",
       "완경사지     152411\n",
       "급경사지      26937\n",
       "고,저지대      2623\n",
       "Name: count, dtype: int64"
      ]
     },
     "execution_count": 26,
     "metadata": {},
     "output_type": "execute_result"
    }
   ],
   "source": [
    "고_저지대=['고지','저지']\n",
    "df['지세명']=df['지세명'].replace(고_저지대,'고,저지대')\n",
    "df['지세명'].value_counts()"
   ]
  },
  {
   "cell_type": "markdown",
   "id": "c385c1fd",
   "metadata": {},
   "source": [
    "지리적 위치 제거"
   ]
  },
  {
   "cell_type": "code",
   "execution_count": 29,
   "id": "eda9ac24",
   "metadata": {},
   "outputs": [
    {
     "data": {
      "text/plain": [
       "지리적위치2\n",
       "내               53767\n",
       "남측인근            32146\n",
       "북측인근            30027\n",
       "동측인근            28445\n",
       "서측인근            27841\n",
       "                ...  \n",
       "자연부락내               1\n",
       "북측경사면               1\n",
       "남동측경사면              1\n",
       "남동측인근(새마을금고)        1\n",
       "북서측경사면              1\n",
       "Name: count, Length: 1864, dtype: int64"
      ]
     },
     "execution_count": 29,
     "metadata": {},
     "output_type": "execute_result"
    }
   ],
   "source": [
    "df['지리적위치2'].value_counts()"
   ]
  },
  {
   "cell_type": "code",
   "execution_count": 30,
   "id": "e397dcfb",
   "metadata": {},
   "outputs": [],
   "source": [
    "df = df.drop(['지리적위치2'], axis=1)"
   ]
  },
  {
   "cell_type": "markdown",
   "id": "70bd7214",
   "metadata": {},
   "source": [
    "방위 제거"
   ]
  },
  {
   "cell_type": "code",
   "execution_count": 31,
   "id": "5ae7d73c",
   "metadata": {},
   "outputs": [
    {
     "data": {
      "text/plain": [
       "방위\n",
       "남향     34555\n",
       "동향     26707\n",
       "남동향    26189\n",
       "남서향    24347\n",
       "서향     23455\n",
       "북향     17788\n",
       "북동향    15404\n",
       "북서향    14124\n",
       "Name: count, dtype: int64"
      ]
     },
     "execution_count": 31,
     "metadata": {},
     "output_type": "execute_result"
    }
   ],
   "source": [
    "df['방위'].value_counts()"
   ]
  },
  {
   "cell_type": "code",
   "execution_count": 32,
   "id": "875c0617",
   "metadata": {},
   "outputs": [],
   "source": [
    "df = df.drop(['방위'], axis=1)"
   ]
  },
  {
   "cell_type": "markdown",
   "id": "2a6eb4ea",
   "metadata": {},
   "source": [
    "용도지구 재분류"
   ]
  },
  {
   "cell_type": "code",
   "execution_count": 33,
   "id": "3772af76",
   "metadata": {},
   "outputs": [
    {
     "data": {
      "text/plain": [
       "용도지구\n",
       "미지정                 405027\n",
       "자연취락지구               22832\n",
       "방화지구                 10004\n",
       "고도지구                  8107\n",
       "시가지경관지구               7499\n",
       "주거개발진흥지구              2726\n",
       "특화경관지구                2302\n",
       "중요시설물(공항)보호지구         1617\n",
       "기타지구                  1432\n",
       "자연경관지구                1105\n",
       "관광휴양개발진흥지구             634\n",
       "집단취락지구                 621\n",
       "특정개발진흥지구               395\n",
       "기타경관지구                 360\n",
       "산업유통개발진흥지구             343\n",
       "역사문화환경보호지구             172\n",
       "중요시설물(항만)보호지구          143\n",
       "특정용도제한지구               140\n",
       "방재지구                   122\n",
       "생태계보호지구                 61\n",
       "중요시설물(교정.군사)보호지구        39\n",
       "복합개발진흥지구                29\n",
       "복합용도지구                  26\n",
       "중요시설물(공용시설)보호지구         18\n",
       "중요시설물보호지구               15\n",
       "Name: count, dtype: int64"
      ]
     },
     "execution_count": 33,
     "metadata": {},
     "output_type": "execute_result"
    }
   ],
   "source": [
    "df['용도지구'] = df['용도지구'].fillna('미지정')\n",
    "df['용도지구'].value_counts()"
   ]
  },
  {
   "cell_type": "code",
   "execution_count": 36,
   "id": "34ca28c9",
   "metadata": {},
   "outputs": [
    {
     "data": {
      "text/plain": [
       "용도지구\n",
       "미지정             405027\n",
       "자연취락지구           26179\n",
       "시가지경관지구          12133\n",
       "방화지구             10126\n",
       "고도지구              8107\n",
       "중요시설물보호및기타지구      4197\n",
       "Name: count, dtype: int64"
      ]
     },
     "execution_count": 36,
     "metadata": {},
     "output_type": "execute_result"
    }
   ],
   "source": [
    "replace_map = {\n",
    "    '주거개발진흥지구': '자연취락지구',\n",
    "    '집단취락지구': '자연취락지구',\n",
    "    '관광휴양개발진흥지구': '자연경관지구',\n",
    "    '산업유통개발진흥지구': '기타지구',\n",
    "    '특정개발진흥지구': '기타지구',\n",
    "    '복합개발진흥지구': '기타지구',\n",
    "    '복합용도지구': '기타지구',\n",
    "    '기타경관지구': '시가지경관지구',\n",
    "    '특화경관지구': '시가지경관지구',\n",
    "    '자연경관지구': '시가지경관지구',\n",
    "    '역사문화환경보호지구': '시가지경관지구',\n",
    "    '방재지구': '방화지구',\n",
    "    '생태계보호지구': '자연경관지구',\n",
    "    '특정용도제한지구': '기타지구',\n",
    "    '중요시설물(공항)보호지구': '중요시설물보호지구',\n",
    "    '중요시설물(항만)보호지구': '중요시설물보호지구',\n",
    "    '중요시설물(공용시설)보호지구': '중요시설물보호지구',\n",
    "    '중요시설물(교정.군사)보호지구': '중요시설물보호지구',\n",
    "}\n",
    "\n",
    "df['용도지구'] = df['용도지구'].replace(replace_map)\n",
    "replace_map={'중요시설물보호지구':'중요시설물보호및기타지구',\n",
    "            '기타지구':'중요시설물보호및기타지구'}\n",
    "df['용도지구'] = df['용도지구'].replace(replace_map)\n",
    "df['용도지구'].value_counts()\n"
   ]
  },
  {
   "cell_type": "markdown",
   "id": "a78f4f4d",
   "metadata": {},
   "source": [
    "농지구분, 임야구분, 경지정리가 서로 유사한 변수인지 판단"
   ]
  },
  {
   "cell_type": "code",
   "execution_count": 37,
   "id": "3aad83e6",
   "metadata": {},
   "outputs": [
    {
     "name": "stdout",
     "output_type": "stream",
     "text": [
      "✅ '농지구분' & '임야구분' 조합 분석\n",
      "- 둘 다 값 있음: 0개 (0.00%)\n",
      "- 하나만 값 있음: 105,122개 (22.57%)\n",
      "- 둘 다 결측치: 360,647개 (77.43%)\n",
      "\n",
      "✅ '농지구분' & '경지정리' 조합 분석\n",
      "- 둘 다 값 있음: 49,493개 (10.63%)\n",
      "- 하나만 값 있음: 707개 (0.15%)\n",
      "- 둘 다 결측치: 415,569개 (89.22%)\n",
      "\n",
      "✅ '임야구분' & '경지정리' 조합 분석\n",
      "- 둘 다 값 있음: 0개 (0.00%)\n",
      "- 하나만 값 있음: 105,823개 (22.72%)\n",
      "- 둘 다 결측치: 359,946개 (77.28%)\n",
      "\n"
     ]
    }
   ],
   "source": [
    "def null_combo_report(df, col1, col2):\n",
    "    total = len(df)\n",
    "\n",
    "    both_notnull = df[col1].notnull() & df[col2].notnull()\n",
    "    one_null = df[col1].isnull() ^ df[col2].isnull()\n",
    "    both_null = df[col1].isnull() & df[col2].isnull()\n",
    "\n",
    "    print(f\"✅ '{col1}' & '{col2}' 조합 분석\")\n",
    "    print(f\"- 둘 다 값 있음: {both_notnull.sum():,}개 ({both_notnull.mean():.2%})\")\n",
    "    print(f\"- 하나만 값 있음: {one_null.sum():,}개 ({one_null.mean():.2%})\")\n",
    "    print(f\"- 둘 다 결측치: {both_null.sum():,}개 ({both_null.mean():.2%})\\n\")\n",
    "\n",
    "# 적용\n",
    "null_combo_report(df, '농지구분', '임야구분')\n",
    "null_combo_report(df, '농지구분', '경지정리')\n",
    "null_combo_report(df, '임야구분', '경지정리')"
   ]
  },
  {
   "cell_type": "code",
   "execution_count": 38,
   "id": "ab1364b0",
   "metadata": {},
   "outputs": [],
   "source": [
    "df['농지구분'] = df['농지구분'].fillna('비농지')\n",
    "df['임야구분'] = df['임야구분'].fillna('비임야')\n",
    "df = df.drop(['경지정리'], axis=1)"
   ]
  },
  {
   "cell_type": "markdown",
   "id": "b32affb0",
   "metadata": {},
   "source": [
    "기타제한 1 전처리"
   ]
  },
  {
   "cell_type": "code",
   "execution_count": 41,
   "id": "50bd1802",
   "metadata": {},
   "outputs": [
    {
     "data": {
      "text/plain": [
       "기타제한\n",
       "기타                      269758\n",
       "교육환경보호구역                 62150\n",
       "지구단위계획구역                 40146\n",
       "군사기지및군사시설보호구역,비행안전구역     19538\n",
       "상수원보호구역 기타               14992\n",
       "특별대책지역                   12437\n",
       "문화재보호구역                  10701\n",
       "하천구역                      9288\n",
       "일반접도구역                    8821\n",
       "허가구역                      7541\n",
       "상수원보호구역                   6608\n",
       "공원구역                      3789\n",
       "Name: count, dtype: int64"
      ]
     },
     "execution_count": 41,
     "metadata": {},
     "output_type": "execute_result"
    }
   ],
   "source": [
    "# 기타제한1 최빈값으로 결측치 대체\n",
    "mode_기타제한 = df['기타제한'].mode()[0]\n",
    "df['기타제한'] = df['기타제한'].fillna(mode_기타제한)\n",
    "replace_map = {\n",
    "    '수변구역': '상수원보호구역',\n",
    "    '수산자원보호구역': '상수원보호구역 기타',\n",
    "    '공원자연환경지구': '공원구역',\n",
    "    '공원자연보존지구': '공원구역',\n",
    "    '공원마을지구': '공원구역',\n",
    "    '공원문화유산지구': '공원구역',\n",
    "    '도시자연공원구역': '공원구역',\n",
    "    '홍수관리구역': '하천구역',\n",
    "    '전원개발사업구역': '허가구역',\n",
    "    '농공단지': '허가구역',\n",
    "    '고속접도구역': '일반접도구역',\n",
    "    '공항소음대책지역': '군사기지및군사시설보호구역,비행안전구역',\n",
    "    '비오톱': '공원구역',\n",
    "    '시가화조정구역': '지구단위계획구역',\n",
    "    '일시적규제지역': '특별대책지역',\n",
    "    '친수구역': '상수원보호구역',\n",
    "}\n",
    "\n",
    "df['기타제한'] = df['기타제한'].replace(replace_map)\n",
    "df['기타제한'].value_counts()"
   ]
  },
  {
   "cell_type": "markdown",
   "id": "bdb6ac4e",
   "metadata": {},
   "source": [
    "계획시설 제거"
   ]
  },
  {
   "cell_type": "code",
   "execution_count": 42,
   "id": "f4d05db2",
   "metadata": {},
   "outputs": [],
   "source": [
    "df = df.drop(['계획시설'], axis=1)"
   ]
  },
  {
   "cell_type": "code",
   "execution_count": 43,
   "id": "f3d66468",
   "metadata": {},
   "outputs": [
    {
     "name": "stdout",
     "output_type": "stream",
     "text": [
      "<class 'pandas.core.frame.DataFrame'>\n",
      "Index: 465769 entries, 0 to 559999\n",
      "Data columns (total 16 columns):\n",
      " #   Column     Non-Null Count   Dtype  \n",
      "---  ------     --------------   -----  \n",
      " 0   지번구분       465769 non-null  object \n",
      " 1   시도명        465769 non-null  object \n",
      " 2   지목         465769 non-null  object \n",
      " 3   면적         465769 non-null  float64\n",
      " 4   용도지역1      465769 non-null  object \n",
      " 5   이용상황       465769 non-null  object \n",
      " 6   주위환경       465769 non-null  object \n",
      " 7   지세명        465769 non-null  object \n",
      " 8   형상명        465769 non-null  object \n",
      " 9   도로교통       465769 non-null  object \n",
      " 10  용도지구       465769 non-null  object \n",
      " 11  농지구분       465769 non-null  object \n",
      " 12  기타제한       465769 non-null  object \n",
      " 13  계획시설 저촉여부  465769 non-null  object \n",
      " 14  임야구분       465769 non-null  object \n",
      " 15  내년_공시지가    465769 non-null  float64\n",
      "dtypes: float64(2), object(14)\n",
      "memory usage: 60.4+ MB\n"
     ]
    }
   ],
   "source": [
    "df.info()"
   ]
  },
  {
   "cell_type": "markdown",
   "id": "9a280315",
   "metadata": {},
   "source": [
    "전처리 데이터 저장"
   ]
  },
  {
   "cell_type": "code",
   "execution_count": 45,
   "id": "4e285845",
   "metadata": {},
   "outputs": [],
   "source": [
    "df.to_csv(\"../real_data/전처리 데이터.csv\", index=False, encoding='utf-8-sig')\n"
   ]
  }
 ],
 "metadata": {
  "kernelspec": {
   "display_name": "venv",
   "language": "python",
   "name": "python3"
  },
  "language_info": {
   "codemirror_mode": {
    "name": "ipython",
    "version": 3
   },
   "file_extension": ".py",
   "mimetype": "text/x-python",
   "name": "python",
   "nbconvert_exporter": "python",
   "pygments_lexer": "ipython3",
   "version": "3.10.0"
  }
 },
 "nbformat": 4,
 "nbformat_minor": 5
}
